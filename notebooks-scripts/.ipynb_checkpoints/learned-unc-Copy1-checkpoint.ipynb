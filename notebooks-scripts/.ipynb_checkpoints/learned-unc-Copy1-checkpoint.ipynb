{
 "cells": [
  {
   "cell_type": "code",
   "execution_count": 1,
   "metadata": {},
   "outputs": [],
   "source": [
    "import torch\n",
    "import numpy as np\n",
    "import pandas as pd\n",
    "import matplotlib\n",
    "from matplotlib import pyplot as plt\n",
    "import torchvision\n",
    "from torch import nn\n",
    "from torch.utils.data import DataLoader\n",
    "from torchvision import datasets\n",
    "import torchvision.transforms as transforms\n",
    "from torchvision.transforms import ToTensor, Lambda, Compose, Normalize\n",
    "from collections import defaultdict\n",
    "from torch.utils.data import random_split\n",
    "import copy\n",
    "\n",
    "from NN_utils import *\n",
    "from NN_utils.train_and_eval import *\n",
    "from uncertainty import train_NN_with_g\n",
    "from uncertainty.losses import penalized_uncertainty\n",
    "import uncertainty.comparison as unc_comp\n",
    "import uncertainty.quantifications as unc\n",
    "\n",
    "\n",
    "from torch.utils.data import random_split"
   ]
  },
  {
   "cell_type": "code",
   "execution_count": 2,
   "metadata": {},
   "outputs": [
    {
     "name": "stdout",
     "output_type": "stream",
     "text": [
      "True\n"
     ]
    }
   ],
   "source": [
    "print(torch.cuda.is_available())\n",
    "dev = torch.device('cuda') if torch.cuda.is_available() else torch.device('cpu')"
   ]
  },
  {
   "cell_type": "code",
   "execution_count": 3,
   "metadata": {},
   "outputs": [],
   "source": [
    "transforms_train = transforms.Compose([\n",
    "                    transforms.RandomCrop(32, padding=4),\n",
    "                    transforms.RandomHorizontalFlip(),\n",
    "                    transforms.ToTensor(),\n",
    "                    transforms.Normalize((0.4914, 0.4822, 0.4465), (0.2023, 0.1994, 0.2010))])\n",
    "transforms_ = transforms.Compose([\n",
    "transforms.ToTensor(),\n",
    "transforms.Normalize((0.4914, 0.4822, 0.4465), (0.2023, 0.1994, 0.2010)),])"
   ]
  },
  {
   "cell_type": "code",
   "execution_count": 4,
   "metadata": {},
   "outputs": [
    {
     "name": "stdout",
     "output_type": "stream",
     "text": [
      "Files already downloaded and verified\n",
      "Files already downloaded and verified\n"
     ]
    }
   ],
   "source": [
    "training_data = datasets.CIFAR10(\n",
    "root=\"data\",\n",
    " train=True,\n",
    " download=True,\n",
    "transform=transforms_train)\n",
    "\n",
    "test_data = datasets.CIFAR10(\n",
    "root=\"data\",\n",
    "train=False,\n",
    "download=True,\n",
    "transform=transforms_)\n",
    "\n",
    "train_size = int(0.5*len(training_data))\n",
    "val_size = len(training_data) - train_size\n",
    "training_data, validation_data = random_split(training_data, [train_size, val_size])"
   ]
  },
  {
   "cell_type": "code",
   "execution_count": 5,
   "metadata": {},
   "outputs": [],
   "source": [
    "batch_size = 12\n",
    "train_dataloader = DataLoader(training_data, batch_size=batch_size,shuffle = True)\n",
    "validation_dataloader = DataLoader(validation_data, batch_size=batch_size,shuffle = True)\n",
    "test_dataloader = DataLoader(test_data, batch_size=12)"
   ]
  },
  {
   "cell_type": "code",
   "execution_count": 6,
   "metadata": {},
   "outputs": [],
   "source": [
    "from NN_models.CIFAR10 import Model_CNN_10_with_g as Model_CNN_with_g"
   ]
  },
  {
   "cell_type": "code",
   "execution_count": 37,
   "metadata": {},
   "outputs": [],
   "source": [
    "class Trainer(torch.nn.Module):\n",
    "    def __init__(self,model,optimizer,loss_criterion, print_loss = True,keep_hist = True):\n",
    "        # adaptar keep hist para definir oq manter\\n\",\n",
    "        super().__init__()\n",
    "        self.model = model\n",
    "        self.optimizer = optimizer\n",
    "        self.loss_fn = loss_criterion\n",
    "        self.print_loss = print_loss\n",
    "        self.keep_hist = keep_hist\n",
    "\n",
    "        self.g_list = []\n",
    "        self.acc_list = []\n",
    "        self.bce_list = []\n",
    "        self.bce_iter = []\n",
    "        self.acc_c_g = []\n",
    "        self.acc_c_mcp = []\n",
    "        \n",
    "    def fit(self,data,n_epochs):\n",
    "        for epoch in range(1,n_epochs+1):\n",
    "            self.train_NN_with_g(data,1,set_train_mode = True)\n",
    "            if self.keep_hist:\n",
    "                self.update_hist(data)\n",
    "            self.loss_fn.update_L0(self.bce_list[-1])\n",
    "            #self.bce_iter = []\n",
    "\n",
    "    def fit_x(self,data,n_epochs,ignored_layers = ['fc_g_layer']):\n",
    "        loss_criterion = copy.copy(self.loss_fn.criterion)\n",
    "        loss_criterion.reduction = 'mean'\n",
    "        ignore_layers(self.model,ignored_layers,reset = True)\n",
    "        for epoch in range(1,n_epochs+1):\n",
    "            train_NN(self.model,self.optimizer,data,loss_criterion,1, self.print_loss, set_train_mode = True)\n",
    "            if self.keep_hist:\n",
    "                self.update_hist(data)\n",
    "                ignore_layers(self.model,ignored_layers,reset = True)\n",
    "\n",
    "    def fit_g(self,data,n_epochs,ignored_layers = ['conv_layer','fc_x_layer']):\n",
    "        \n",
    "        _,_,bce = model_metrics(model,nn.NLLLoss(),data)\n",
    "        self.loss_fn.update_L0(bce)#(self.bce_list[-1])\n",
    "        ignore_layers(self.model,ignored_layers, reset = True)\n",
    "        for epoch in range(1,n_epochs+1):\n",
    "            self.train_NN_with_g(data,1, set_train_mode = False)\n",
    "            if self.keep_hist:\n",
    "                self.update_hist(data)\n",
    "                ignore_layers(self.model,ignored_layers, reset = True)\n",
    "        \n",
    "            \n",
    "    def train_NN_with_g(self,data,n_epochs, set_train_mode = True):\n",
    "            '''Train a NN that has a g layer'''\n",
    "            dev = next(self.model.parameters()).device\n",
    "            if set_train_mode:\n",
    "                self.model.train()\n",
    "            for epoch in range(n_epochs):\n",
    "                running_loss = 0\n",
    "                for image,label in data:\n",
    "                    image,label = image.to(dev), label.to(dev)\n",
    "                    self.optimizer.zero_grad()\n",
    "                    output = self.model(image)\n",
    "                    g = self.model.get_g()\n",
    "                    loss = self.loss_fn(output,g,label)\n",
    "                    self.bce_iter.append(torch.mean(self.loss_fn.criterion(output,label)).item())\n",
    "                    self.loss_fn.update_L0(np.mean(self.bce_iter[-2080:]))\n",
    "                    #_, _, bce =  model_metrics(self.model,self.loss_fn.criterion,data)\n",
    "                    #self.loss_fn.update_L0(bce)\n",
    "                    \n",
    "                    loss.backward()\n",
    "                    self.optimizer.step()\n",
    "                    running_loss += loss.item()\n",
    "                if self.print_loss:\n",
    "                    print('Epoch ', epoch+1, ', loss = ', running_loss/len(data))\n",
    "                    \n",
    "    def update_hist(self,data):\n",
    "        with torch.no_grad():\n",
    "            loss_criterion = copy.copy(self.loss_fn.criterion)\n",
    "            loss_criterion.reduction = 'mean'\n",
    "            #acc, g, bce =  model_metrics(self.model,loss_criterion,data)\n",
    "            #self.g_list.append(g)\n",
    "            #self.acc_list.append(acc)\n",
    "            #self.bce_list.append(bce)\n",
    "\n",
    "            label, output, g = accumulate_results(self.model,data)\n",
    "            bce = loss_criterion(output,label).item()\n",
    "            output = torch.exp(output)\n",
    "            mcp = unc.MCP_unc(output)\n",
    "\n",
    "            self.acc_c_g.append(unc_comp.acc_coverage(output,label,1-g,0.2))\n",
    "            self.acc_c_mcp.append(unc_comp.acc_coverage(output,label,mcp,0.2))\n",
    "\n",
    "            self.g_list.append(torch.mean(g).item())\n",
    "            acc = correct_total(output,label)/label.size(0)\n",
    "            self.acc_list.append(acc)\n",
    "            self.bce_list.append(bce)"
   ]
  },
  {
   "cell_type": "code",
   "execution_count": 17,
   "metadata": {},
   "outputs": [],
   "source": [
    "loss_criterion = nn.NLLLoss(reduction = 'none')\n",
    "loss_fn = penalized_uncertainty(loss_criterion,np.log(10))"
   ]
  },
  {
   "cell_type": "code",
   "execution_count": 42,
   "metadata": {},
   "outputs": [
    {
     "name": "stdout",
     "output_type": "stream",
     "text": [
      "Epoch  1 , loss =  2.2364705657432724\n",
      "Epoch  1 , loss =  1.94769914388199\n",
      "Epoch  1 , loss =  1.7486923676763524\n",
      "Epoch  1 , loss =  1.6340830505409076\n",
      "Epoch  1 , loss =  1.541128230501045\n",
      "Epoch  1 , loss =  1.4574443403910309\n",
      "Epoch  1 , loss =  1.3868642666175133\n",
      "Epoch  1 , loss =  1.317466154665956\n",
      "Epoch  1 , loss =  1.2492207735204879\n",
      "Epoch  1 , loss =  1.1879790959139702\n",
      "Epoch  1 , loss =  1.1353240734584729\n",
      "Epoch  1 , loss =  1.0850420890379546\n",
      "Epoch  1 , loss =  1.0433676006869483\n",
      "Epoch  1 , loss =  1.0103155898427207\n",
      "Epoch  1 , loss =  0.9783024733274774\n",
      "Epoch  1 , loss =  0.948046897092902\n",
      "Epoch  1 , loss =  0.9207669086825825\n",
      "Epoch  1 , loss =  0.8972111151137188\n",
      "Epoch  1 , loss =  0.8704471660853004\n",
      "Epoch  1 , loss =  0.851830129223856\n",
      "Epoch  1 , loss =  0.8338043340723139\n",
      "Epoch  1 , loss =  0.8151947949224665\n",
      "Epoch  1 , loss =  0.8032132701165331\n",
      "Epoch  1 , loss =  0.7802671666923846\n",
      "Epoch  1 , loss =  0.7582167040756876\n",
      "Epoch  1 , loss =  0.7470368088621667\n",
      "Epoch  1 , loss =  0.7310716100752125\n",
      "Epoch  1 , loss =  0.7184804592982307\n",
      "Epoch  1 , loss =  0.7055608754773801\n",
      "Epoch  1 , loss =  0.69705200089131\n",
      "Epoch  1 , loss =  0.6794234954657287\n",
      "Epoch  1 , loss =  0.6616159177093898\n",
      "Epoch  1 , loss =  0.649651466967134\n",
      "Epoch  1 , loss =  0.6460890989150001\n",
      "Epoch  1 , loss =  0.6410040952043604\n",
      "Epoch  1 , loss =  0.6216808802925493\n",
      "Epoch  1 , loss =  0.6109444446783091\n",
      "Epoch  1 , loss =  0.60434061849951\n",
      "Epoch  1 , loss =  0.5947731596644746\n",
      "Epoch  1 , loss =  0.5842110995442791\n",
      "Epoch  1 , loss =  7.040621927626531\n",
      "Epoch  1 , loss =  7.0488831591926475\n",
      "Epoch  1 , loss =  7.0877733497152855\n",
      "Epoch  1 , loss =  7.049382478399148\n",
      "Epoch  1 , loss =  7.0013139150650625\n",
      "Epoch  1 , loss =  7.015032958503877\n",
      "Epoch  1 , loss =  6.988445150875084\n",
      "Epoch  1 , loss =  6.974095188610384\n",
      "Epoch  1 , loss =  7.0200598346294685\n",
      "Epoch  1 , loss =  6.955284765494304\n",
      "Epoch  1 , loss =  6.958938528274163\n",
      "Epoch  1 , loss =  6.969230022631772\n",
      "Epoch  1 , loss =  6.945149745341683\n",
      "Epoch  1 , loss =  6.963536691985982\n",
      "Epoch  1 , loss =  6.936861304770047\n",
      "Epoch  1 , loss =  6.917302295823015\n",
      "Epoch  1 , loss =  6.93112689519798\n",
      "Epoch  1 , loss =  6.928486245435854\n",
      "Epoch  1 , loss =  6.905998367608852\n",
      "Epoch  1 , loss =  6.952736237456382\n",
      "Epoch  1 , loss =  6.982307829291715\n",
      "Epoch  1 , loss =  6.977696610961446\n",
      "Epoch  1 , loss =  6.965020163045506\n",
      "Epoch  1 , loss =  6.953703909940774\n",
      "Epoch  1 , loss =  6.963691883661467\n",
      "Epoch  1 , loss =  6.897996003705572\n",
      "Epoch  1 , loss =  7.003964429624707\n",
      "Epoch  1 , loss =  6.989344755541569\n",
      "Epoch  1 , loss =  7.014439128696804\n",
      "Epoch  1 , loss =  6.983592096823419\n",
      "Epoch  1 , loss =  6.920306386565522\n",
      "Epoch  1 , loss =  6.999185550350146\n",
      "Epoch  1 , loss =  6.964410152121835\n",
      "Epoch  1 , loss =  6.861923048283455\n",
      "Epoch  1 , loss =  6.985710560303046\n",
      "Epoch  1 , loss =  6.950372526032453\n",
      "Epoch  1 , loss =  6.978697925748843\n",
      "Epoch  1 , loss =  6.966853165409158\n",
      "Epoch  1 , loss =  6.976037011093919\n",
      "Epoch  1 , loss =  6.949130463966252\n",
      "Conjunto de treinamento: acc =  0.83924 média de g =  0.5466512797689438 média de bce =  0.46489245220899583 \n",
      "\n",
      "Conjunto de teste: acc =  0.8038 média de g =  0.5834334324717522 média de bce =  0.568357895925641 \n",
      "\n"
     ]
    }
   ],
   "source": [
    "\n",
    "model_3_2 = Model_CNN_with_g()\n",
    "model_3_2 = model_3_2.to(dev)\n",
    "optimizer = torch.optim.SGD(model_3_2.parameters(), lr=1e-3)\n",
    "loss_fn = penalized_uncertainty(loss_criterion,np.log(10))\n",
    "\n",
    "model_trainer_3_2 = Trainer(model_3_2,optimizer,loss_fn, print_loss = True,keep_hist = True)\n",
    "model_trainer_3_2.fit_x(train_dataloader,40)\n",
    "model_trainer_3_2.fit_g(validation_dataloader,40)\n",
    "\n",
    "acc, g, bce = model_metrics(model_3_2,loss_criterion,train_dataloader)\n",
    "print('Conjunto de treinamento: acc = ', acc, 'média de g = ', g, 'média de bce = ', bce, '\\n')\n",
    "acc, g, bce = model_metrics(model_3_2,loss_criterion,test_dataloader)\n",
    "print('Conjunto de teste: acc = ', acc, 'média de g = ', g, 'média de bce = ', bce, '\\n')"
   ]
  },
  {
   "cell_type": "code",
   "execution_count": 44,
   "metadata": {},
   "outputs": [
    {
     "data": {
      "text/plain": [
       "[<matplotlib.lines.Line2D at 0x7fd7b06edbe0>]"
      ]
     },
     "execution_count": 44,
     "metadata": {},
     "output_type": "execute_result"
    },
    {
     "data": {
      "image/png": "[encoded data removed]",
      "text/plain": [
       "<Figure size 432x288 with 1 Axes>"
      ]
     },
     "metadata": {
      "needs_background": "light"
     },
     "output_type": "display_data"
    }
   ],
   "source": [
    "plt.plot(model_trainer_3_2.g_list)"
   ]
  },
  {
   "cell_type": "code",
   "execution_count": 19,
   "metadata": {},
   "outputs": [
    {
     "name": "stdout",
     "output_type": "stream",
     "text": [
      "Conjunto de treinamento: acc =  0.8518 média de g =  0.0002944570907833986 média de bce =  0.4394220155864954 \n",
      "\n",
      "Conjunto de teste: acc =  0.8132 média de g =  0.0001536316178906418 média de bce =  0.550285159689188 \n",
      "\n"
     ]
    }
   ],
   "source": [
    "#L0 é o bce médio no conjunto de treino\n",
    "model_3 = Model_CNN_with_g()\n",
    "model_3 = model_3.to(dev)\n",
    "optimizer = torch.optim.SGD(model_3.parameters(), lr=1e-3)\n",
    "loss_fn = penalized_uncertainty(loss_criterion,np.log(10))\n",
    "\n",
    "model_trainer_3 = Trainer(model_3,optimizer,loss_fn, print_loss = True,keep_hist = True)\n",
    "model_trainer_3.fit_x(train_dataloader,40)\n",
    "model_trainer_3.fit_g(validation_dataloader,40)\n",
    "\n",
    "acc, g, bce = model_metrics(model_3,loss_criterion,train_dataloader)\n",
    "print('Conjunto de treinamento: acc = ', acc, 'média de g = ', g, 'média de bce = ', bce, '\\n')\n",
    "acc, g, bce = model_metrics(model_3,loss_criterion,test_dataloader)\n",
    "print('Conjunto de teste: acc = ', acc, 'média de g = ', g, 'média de bce = ', bce, '\\n')"
   ]
  },
  {
   "cell_type": "code",
   "execution_count": 48,
   "metadata": {
    "collapsed": true,
    "jupyter": {
     "outputs_hidden": true
    }
   },
   "outputs": [
    {
     "name": "stdout",
     "output_type": "stream",
     "text": [
      "Epoch  1 , loss =  2.2956233935255463\n",
      "Epoch  1 , loss =  2.231451429641178\n",
      "Epoch  1 , loss =  1.9740487976632513\n",
      "Epoch  1 , loss =  1.766384917234505\n",
      "Epoch  1 , loss =  1.6427398526508383\n",
      "Epoch  1 , loss =  1.5486727168143597\n",
      "Epoch  1 , loss =  1.4585744541517376\n",
      "Epoch  1 , loss =  1.3768401341852436\n",
      "Epoch  1 , loss =  1.3055252703818387\n",
      "Epoch  1 , loss =  1.2379574014621137\n",
      "Epoch  1 , loss =  1.1766782449469\n",
      "Epoch  1 , loss =  1.1340186071515999\n",
      "Epoch  1 , loss =  1.0821053848213975\n",
      "Epoch  1 , loss =  1.038775959851188\n",
      "Epoch  1 , loss =  1.0076520530767954\n",
      "Epoch  1 , loss =  0.9707291672031275\n",
      "Epoch  1 , loss =  0.9385496881466909\n",
      "Epoch  1 , loss =  0.9213243031413106\n",
      "Epoch  1 , loss =  0.8909584530799036\n",
      "Epoch  1 , loss =  0.8801110208520734\n",
      "Epoch  1 , loss =  0.8476913263038115\n",
      "Epoch  1 , loss =  0.8331034994736\n",
      "Epoch  1 , loss =  0.8144299985193817\n",
      "Epoch  1 , loss =  0.7953454283586276\n",
      "Epoch  1 , loss =  0.7750872156427254\n",
      "Epoch  1 , loss =  0.7666887474280287\n",
      "Epoch  1 , loss =  0.7441035673958956\n",
      "Epoch  1 , loss =  0.7367584548261367\n",
      "Epoch  1 , loss =  0.7218790618084271\n",
      "Epoch  1 , loss =  0.7048744365944744\n",
      "Epoch  1 , loss =  0.6899253054541641\n",
      "Epoch  1 , loss =  0.6814425523980966\n",
      "Epoch  1 , loss =  0.6689518060242031\n",
      "Epoch  1 , loss =  0.6592016897688042\n",
      "Epoch  1 , loss =  0.653889271571889\n",
      "Epoch  1 , loss =  0.6399882264478193\n",
      "Epoch  1 , loss =  0.630907154338159\n",
      "Epoch  1 , loss =  0.6161948043366826\n",
      "Epoch  1 , loss =  0.6073525143597782\n",
      "Epoch  1 , loss =  0.5973773470663264\n",
      "Epoch  1 , loss =  0.587002841655644\n",
      "Epoch  1 , loss =  0.5771343433181979\n",
      "Epoch  1 , loss =  0.5712312614713257\n",
      "Epoch  1 , loss =  0.5663342529089117\n",
      "Epoch  1 , loss =  0.555492203244707\n",
      "Epoch  1 , loss =  0.5514175494017362\n",
      "Epoch  1 , loss =  0.5409416599528089\n",
      "Epoch  1 , loss =  0.5333856145499163\n",
      "Epoch  1 , loss =  0.524728572809436\n",
      "Epoch  1 , loss =  0.516939226541518\n",
      "Epoch  1 , loss =  0.5117957896969483\n",
      "Epoch  1 , loss =  0.5027095658289923\n",
      "Epoch  1 , loss =  0.4997460044180392\n",
      "Epoch  1 , loss =  0.49041244864370853\n",
      "Epoch  1 , loss =  0.48044285021593613\n",
      "Epoch  1 , loss =  0.48188566253654613\n",
      "Epoch  1 , loss =  0.4717204022237355\n",
      "Epoch  1 , loss =  0.46489408584186476\n",
      "Epoch  1 , loss =  0.46210898663991645\n",
      "Epoch  1 , loss =  0.4521708801288637\n",
      "Epoch  1 , loss =  0.4515317294964721\n",
      "Epoch  1 , loss =  0.44278997163897854\n",
      "Epoch  1 , loss =  0.4378723776193189\n",
      "Epoch  1 , loss =  0.43318889268911703\n",
      "Epoch  1 , loss =  0.42769975118131703\n",
      "Epoch  1 , loss =  0.42316526821644657\n",
      "Epoch  1 , loss =  0.41220669776751817\n",
      "Epoch  1 , loss =  0.4184214150079038\n",
      "Epoch  1 , loss =  0.40796992896328504\n",
      "Epoch  1 , loss =  0.40686312164117416\n",
      "Epoch  1 , loss =  0.39472338672898954\n",
      "Epoch  1 , loss =  0.39727981468830653\n",
      "Epoch  1 , loss =  0.3886897109552589\n",
      "Epoch  1 , loss =  0.3839069134671949\n",
      "Epoch  1 , loss =  0.37977530553064626\n",
      "Epoch  1 , loss =  0.38096879429099884\n",
      "Epoch  1 , loss =  0.37741465120971374\n",
      "Epoch  1 , loss =  0.3678353300886568\n",
      "Epoch  1 , loss =  0.35835131769910483\n",
      "Epoch  1 , loss =  0.3585051096208937\n",
      "Epoch  1 , loss =  0.354323200683955\n",
      "Epoch  1 , loss =  0.3489120119946674\n",
      "Epoch  1 , loss =  0.34997558169917786\n",
      "Epoch  1 , loss =  0.3492612256284181\n",
      "Epoch  1 , loss =  0.34024218596596695\n",
      "Epoch  1 , loss =  0.3412703801404091\n",
      "Epoch  1 , loss =  0.3342572910096246\n",
      "Epoch  1 , loss =  0.32422256115788234\n",
      "Epoch  1 , loss =  0.3265600455370723\n",
      "Epoch  1 , loss =  0.3261461112819855\n",
      "Epoch  1 , loss =  0.3290985546552088\n",
      "Epoch  1 , loss =  0.3196329988356887\n",
      "Epoch  1 , loss =  0.3179958913271492\n",
      "Epoch  1 , loss =  0.31592983215146353\n",
      "Epoch  1 , loss =  0.3064448797124332\n",
      "Epoch  1 , loss =  0.3082238466831035\n",
      "Epoch  1 , loss =  0.3019673459861077\n",
      "Epoch  1 , loss =  0.29550271411917944\n",
      "Epoch  1 , loss =  0.2928696570331642\n",
      "Epoch  1 , loss =  0.2987249147025386\n",
      "Epoch  1 , loss =  0.2848303586051526\n",
      "Epoch  1 , loss =  0.28141187315524313\n",
      "Epoch  1 , loss =  0.28543052783561246\n",
      "Epoch  1 , loss =  0.2814241582009362\n",
      "Epoch  1 , loss =  0.2766774458428148\n",
      "Epoch  1 , loss =  0.2757663390270279\n",
      "Epoch  1 , loss =  0.27802915659763505\n",
      "Epoch  1 , loss =  0.2745739113639561\n",
      "Epoch  1 , loss =  0.2701838723081745\n",
      "Epoch  1 , loss =  0.2672753329934005\n",
      "Epoch  1 , loss =  0.2582345975763138\n",
      "Epoch  1 , loss =  0.26184730068914547\n",
      "Epoch  1 , loss =  0.2613499255800859\n",
      "Epoch  1 , loss =  0.2530195229595631\n",
      "Epoch  1 , loss =  0.2553892659279026\n",
      "Epoch  1 , loss =  0.25184630172867006\n",
      "Epoch  1 , loss =  0.24657883892647364\n",
      "Epoch  1 , loss =  0.24443322837338452\n",
      "Epoch  1 , loss =  0.24802544059128198\n",
      "Epoch  1 , loss =  0.2490544964089246\n",
      "Epoch  1 , loss =  0.24431136277845691\n",
      "Epoch  1 , loss =  0.24073489639021442\n",
      "Epoch  1 , loss =  0.2402743786383928\n",
      "Epoch  1 , loss =  0.2353719923897305\n",
      "Epoch  1 , loss =  0.2356567302336219\n",
      "Epoch  1 , loss =  0.2316928767811886\n",
      "Epoch  1 , loss =  0.2347365842091774\n",
      "Epoch  1 , loss =  0.23113071527546575\n",
      "Epoch  1 , loss =  0.2260145253078179\n",
      "Epoch  1 , loss =  0.22426311204463759\n",
      "Epoch  1 , loss =  0.2204086179532211\n",
      "Epoch  1 , loss =  0.22099096272963023\n",
      "Epoch  1 , loss =  0.2188891493760035\n",
      "Epoch  1 , loss =  0.21356349796299856\n",
      "Epoch  1 , loss =  0.21557003440739383\n",
      "Epoch  1 , loss =  0.20749605255962963\n",
      "Epoch  1 , loss =  0.21246516528037054\n",
      "Epoch  1 , loss =  0.20865841185041273\n",
      "Epoch  1 , loss =  0.203069816448059\n",
      "Epoch  1 , loss =  0.20406806612147765\n",
      "Epoch  1 , loss =  0.2018400231687327\n",
      "Epoch  1 , loss =  0.20414868642660056\n",
      "Epoch  1 , loss =  0.20029324379744234\n",
      "Epoch  1 , loss =  0.19723703330221823\n",
      "Epoch  1 , loss =  0.19458363183922422\n",
      "Epoch  1 , loss =  0.19451634282507216\n",
      "Epoch  1 , loss =  0.1943050874826175\n",
      "Epoch  1 , loss =  0.19169284521661084\n",
      "Epoch  1 , loss =  0.19087543278474955\n",
      "Epoch  1 , loss =  0.18621519121078636\n",
      "Epoch  1 , loss =  0.1868101942036551\n",
      "Epoch  1 , loss =  0.18145462267651383\n",
      "Epoch  1 , loss =  0.18678854750522955\n",
      "Epoch  1 , loss =  0.1811417514179438\n",
      "Epoch  1 , loss =  0.18212160844116287\n",
      "Epoch  1 , loss =  0.18110977021455335\n",
      "Epoch  1 , loss =  0.18224836235075845\n",
      "Epoch  1 , loss =  0.17451675243911668\n",
      "Epoch  1 , loss =  0.17704952672309815\n",
      "Epoch  1 , loss =  0.17703998885555425\n",
      "Epoch  1 , loss =  0.17442149859754771\n",
      "Epoch  1 , loss =  0.17342471382303626\n",
      "Epoch  1 , loss =  0.1739227279230609\n",
      "Epoch  1 , loss =  0.17353044593199057\n",
      "Epoch  1 , loss =  0.17102320945952196\n",
      "Epoch  1 , loss =  0.16807833704346659\n",
      "Epoch  1 , loss =  0.16381178268243965\n",
      "Epoch  1 , loss =  0.16303368079191835\n",
      "Epoch  1 , loss =  0.16655293552047662\n",
      "Epoch  1 , loss =  0.163040032239377\n",
      "Epoch  1 , loss =  0.16255100150440682\n",
      "Epoch  1 , loss =  0.1660166194165508\n",
      "Epoch  1 , loss =  0.15679410434347682\n",
      "Epoch  1 , loss =  0.15538550174174806\n",
      "Epoch  1 , loss =  0.15990945621395408\n",
      "Epoch  1 , loss =  0.1545344537746111\n",
      "Epoch  1 , loss =  0.1554050167759741\n",
      "Epoch  1 , loss =  0.15750567515464697\n",
      "Epoch  1 , loss =  0.15401913016147897\n",
      "Epoch  1 , loss =  0.1535591412212292\n",
      "Epoch  1 , loss =  0.1529108774043877\n",
      "Epoch  1 , loss =  0.1508349505612437\n",
      "Epoch  1 , loss =  0.14893046091444748\n",
      "Epoch  1 , loss =  0.15163397387424465\n",
      "Epoch  1 , loss =  0.14926556600954904\n",
      "Epoch  1 , loss =  0.1428794109489547\n",
      "Epoch  1 , loss =  0.14269342031973395\n",
      "Epoch  1 , loss =  0.14967859320113733\n",
      "Epoch  1 , loss =  0.14768206456143432\n",
      "Epoch  1 , loss =  0.14448213090069034\n",
      "Epoch  1 , loss =  0.144369823415719\n",
      "Epoch  1 , loss =  0.1405686399776081\n",
      "Epoch  1 , loss =  0.14572135725321386\n",
      "Epoch  1 , loss =  0.13965063515045964\n",
      "Epoch  1 , loss =  0.13851100376819667\n",
      "Epoch  1 , loss =  0.1400069686648527\n",
      "Epoch  1 , loss =  0.13754967659722564\n",
      "Epoch  1 , loss =  0.13631771635997061\n",
      "Epoch  1 , loss =  0.138558698291649\n",
      "Epoch  1 , loss =  0.13670734313518637\n",
      "Epoch  1 , loss =  0.1331843453702551\n",
      "Epoch  1 , loss =  0.13174974723163127\n",
      "Epoch  1 , loss =  0.13218029430350592\n",
      "Epoch  1 , loss =  0.13181056280400524\n",
      "Epoch  1 , loss =  0.13196984874245474\n",
      "Epoch  1 , loss =  0.13051046288416734\n",
      "Epoch  1 , loss =  0.1320251375597664\n",
      "Epoch  1 , loss =  0.128646805134357\n",
      "Epoch  1 , loss =  0.13219197894555593\n",
      "Epoch  1 , loss =  0.12668833753090503\n",
      "Epoch  1 , loss =  0.12508480758057647\n",
      "Epoch  1 , loss =  0.12967911909017962\n",
      "Epoch  1 , loss =  0.12078851967113317\n",
      "Epoch  1 , loss =  0.11910009923017442\n",
      "Epoch  1 , loss =  0.12673705103476451\n",
      "Epoch  1 , loss =  0.12268782555055939\n",
      "Epoch  1 , loss =  0.12302374298596708\n",
      "Epoch  1 , loss =  0.12083729855079854\n",
      "Epoch  1 , loss =  0.12220333702147236\n",
      "Epoch  1 , loss =  0.11960121496864765\n",
      "Epoch  1 , loss =  0.12202463395475283\n",
      "Epoch  1 , loss =  0.12115177637477353\n",
      "Epoch  1 , loss =  0.11741925655969646\n",
      "Epoch  1 , loss =  0.12096427955026533\n",
      "Epoch  1 , loss =  0.12025405428302609\n",
      "Epoch  1 , loss =  0.11928058945486275\n",
      "Epoch  1 , loss =  0.11570587062550397\n",
      "Epoch  1 , loss =  0.11654791528191025\n",
      "Epoch  1 , loss =  0.11417422348395662\n",
      "Epoch  1 , loss =  0.11195647103565382\n",
      "Epoch  1 , loss =  0.1136944018610022\n",
      "Epoch  1 , loss =  0.11339556676516177\n",
      "Epoch  1 , loss =  0.11020380519902523\n",
      "Epoch  1 , loss =  0.10922468279894162\n",
      "Epoch  1 , loss =  0.11239234742756768\n",
      "Epoch  1 , loss =  0.1119191952401883\n",
      "Epoch  1 , loss =  0.11048979835938698\n",
      "Epoch  1 , loss =  0.10806623685545505\n",
      "Epoch  1 , loss =  0.1111223208704595\n",
      "Epoch  1 , loss =  0.10773264701547898\n",
      "Epoch  1 , loss =  0.10651258417206769\n",
      "Epoch  1 , loss =  0.10537519230866615\n",
      "Epoch  1 , loss =  0.10420801874961626\n",
      "Epoch  1 , loss =  0.10566433629239132\n",
      "Epoch  1 , loss =  0.10316309944553133\n",
      "Epoch  1 , loss =  0.10378731290976054\n",
      "Epoch  1 , loss =  0.10417210701638528\n",
      "Epoch  1 , loss =  0.10318879588934345\n",
      "Epoch  1 , loss =  0.10038014970212145\n",
      "Epoch  1 , loss =  0.10420420344994044\n",
      "Epoch  1 , loss =  0.10161412034796877\n",
      "Epoch  1 , loss =  0.10414318559108562\n",
      "Epoch  1 , loss =  0.09793498821113251\n",
      "Epoch  1 , loss =  0.09719660592751646\n",
      "Epoch  1 , loss =  0.10166374255139773\n",
      "Epoch  1 , loss =  0.1023253345506305\n",
      "Epoch  1 , loss =  0.0987031650693726\n",
      "Epoch  1 , loss =  0.09948321284222168\n",
      "Epoch  1 , loss =  0.10089637948764978\n"
     ]
    },
    {
     "ename": "KeyboardInterrupt",
     "evalue": "",
     "output_type": "error",
     "traceback": [
      "\u001b[0;31m---------------------------------------------------------------------------\u001b[0m",
      "\u001b[0;31mKeyboardInterrupt\u001b[0m                         Traceback (most recent call last)",
      "\u001b[0;32m<ipython-input-48-779c3191bf73>\u001b[0m in \u001b[0;36m<module>\u001b[0;34m\u001b[0m\n\u001b[1;32m      7\u001b[0m \u001b[0;34m\u001b[0m\u001b[0m\n\u001b[1;32m      8\u001b[0m \u001b[0mmodel_trainer\u001b[0m \u001b[0;34m=\u001b[0m \u001b[0mTrainer\u001b[0m\u001b[0;34m(\u001b[0m\u001b[0mmodel\u001b[0m\u001b[0;34m,\u001b[0m\u001b[0moptimizer\u001b[0m\u001b[0;34m,\u001b[0m\u001b[0mloss_fn\u001b[0m\u001b[0;34m,\u001b[0m \u001b[0mprint_loss\u001b[0m \u001b[0;34m=\u001b[0m \u001b[0;32mTrue\u001b[0m\u001b[0;34m,\u001b[0m\u001b[0mkeep_hist\u001b[0m \u001b[0;34m=\u001b[0m \u001b[0;32mTrue\u001b[0m\u001b[0;34m)\u001b[0m\u001b[0;34m\u001b[0m\u001b[0;34m\u001b[0m\u001b[0m\n\u001b[0;32m----> 9\u001b[0;31m \u001b[0mmodel_trainer\u001b[0m\u001b[0;34m.\u001b[0m\u001b[0mfit\u001b[0m\u001b[0;34m(\u001b[0m\u001b[0mtrain_dataloader\u001b[0m\u001b[0;34m,\u001b[0m\u001b[0;36m400\u001b[0m\u001b[0;34m)\u001b[0m\u001b[0;34m\u001b[0m\u001b[0;34m\u001b[0m\u001b[0m\n\u001b[0m\u001b[1;32m     10\u001b[0m \u001b[0macc\u001b[0m\u001b[0;34m,\u001b[0m \u001b[0mg\u001b[0m\u001b[0;34m,\u001b[0m \u001b[0mbce\u001b[0m \u001b[0;34m=\u001b[0m \u001b[0mmodel_metrics\u001b[0m\u001b[0;34m(\u001b[0m\u001b[0mmodel\u001b[0m\u001b[0;34m,\u001b[0m\u001b[0mloss_criterion\u001b[0m\u001b[0;34m,\u001b[0m\u001b[0mtrain_dataloader\u001b[0m\u001b[0;34m)\u001b[0m\u001b[0;34m\u001b[0m\u001b[0;34m\u001b[0m\u001b[0m\n\u001b[1;32m     11\u001b[0m \u001b[0mprint\u001b[0m\u001b[0;34m(\u001b[0m\u001b[0;34m'Conjunto de treinamento: acc = '\u001b[0m\u001b[0;34m,\u001b[0m \u001b[0macc\u001b[0m\u001b[0;34m,\u001b[0m \u001b[0;34m'média de g = '\u001b[0m\u001b[0;34m,\u001b[0m \u001b[0mg\u001b[0m\u001b[0;34m,\u001b[0m \u001b[0;34m'média de bce = '\u001b[0m\u001b[0;34m,\u001b[0m \u001b[0mbce\u001b[0m\u001b[0;34m,\u001b[0m \u001b[0;34m'\\n'\u001b[0m\u001b[0;34m)\u001b[0m\u001b[0;34m\u001b[0m\u001b[0;34m\u001b[0m\u001b[0m\n",
      "\u001b[0;32m<ipython-input-37-42578887d17a>\u001b[0m in \u001b[0;36mfit\u001b[0;34m(self, data, n_epochs)\u001b[0m\n\u001b[1;32m     20\u001b[0m             \u001b[0mself\u001b[0m\u001b[0;34m.\u001b[0m\u001b[0mtrain_NN_with_g\u001b[0m\u001b[0;34m(\u001b[0m\u001b[0mdata\u001b[0m\u001b[0;34m,\u001b[0m\u001b[0;36m1\u001b[0m\u001b[0;34m,\u001b[0m\u001b[0mset_train_mode\u001b[0m \u001b[0;34m=\u001b[0m \u001b[0;32mTrue\u001b[0m\u001b[0;34m)\u001b[0m\u001b[0;34m\u001b[0m\u001b[0;34m\u001b[0m\u001b[0m\n\u001b[1;32m     21\u001b[0m             \u001b[0;32mif\u001b[0m \u001b[0mself\u001b[0m\u001b[0;34m.\u001b[0m\u001b[0mkeep_hist\u001b[0m\u001b[0;34m:\u001b[0m\u001b[0;34m\u001b[0m\u001b[0;34m\u001b[0m\u001b[0m\n\u001b[0;32m---> 22\u001b[0;31m                 \u001b[0mself\u001b[0m\u001b[0;34m.\u001b[0m\u001b[0mupdate_hist\u001b[0m\u001b[0;34m(\u001b[0m\u001b[0mdata\u001b[0m\u001b[0;34m)\u001b[0m\u001b[0;34m\u001b[0m\u001b[0;34m\u001b[0m\u001b[0m\n\u001b[0m\u001b[1;32m     23\u001b[0m             \u001b[0mself\u001b[0m\u001b[0;34m.\u001b[0m\u001b[0mloss_fn\u001b[0m\u001b[0;34m.\u001b[0m\u001b[0mupdate_L0\u001b[0m\u001b[0;34m(\u001b[0m\u001b[0mself\u001b[0m\u001b[0;34m.\u001b[0m\u001b[0mbce_list\u001b[0m\u001b[0;34m[\u001b[0m\u001b[0;34m-\u001b[0m\u001b[0;36m1\u001b[0m\u001b[0;34m]\u001b[0m\u001b[0;34m)\u001b[0m\u001b[0;34m\u001b[0m\u001b[0;34m\u001b[0m\u001b[0m\n\u001b[1;32m     24\u001b[0m             \u001b[0;31m#self.bce_iter = []\u001b[0m\u001b[0;34m\u001b[0m\u001b[0;34m\u001b[0m\u001b[0;34m\u001b[0m\u001b[0m\n",
      "\u001b[0;32m<ipython-input-37-42578887d17a>\u001b[0m in \u001b[0;36mupdate_hist\u001b[0;34m(self, data)\u001b[0m\n\u001b[1;32m     79\u001b[0m             \u001b[0;31m#self.bce_list.append(bce)\u001b[0m\u001b[0;34m\u001b[0m\u001b[0;34m\u001b[0m\u001b[0;34m\u001b[0m\u001b[0m\n\u001b[1;32m     80\u001b[0m \u001b[0;34m\u001b[0m\u001b[0m\n\u001b[0;32m---> 81\u001b[0;31m             \u001b[0mlabel\u001b[0m\u001b[0;34m,\u001b[0m \u001b[0moutput\u001b[0m\u001b[0;34m,\u001b[0m \u001b[0mg\u001b[0m \u001b[0;34m=\u001b[0m \u001b[0maccumulate_results\u001b[0m\u001b[0;34m(\u001b[0m\u001b[0mself\u001b[0m\u001b[0;34m.\u001b[0m\u001b[0mmodel\u001b[0m\u001b[0;34m,\u001b[0m\u001b[0mdata\u001b[0m\u001b[0;34m)\u001b[0m\u001b[0;34m\u001b[0m\u001b[0;34m\u001b[0m\u001b[0m\n\u001b[0m\u001b[1;32m     82\u001b[0m             \u001b[0mbce\u001b[0m \u001b[0;34m=\u001b[0m \u001b[0mloss_criterion\u001b[0m\u001b[0;34m(\u001b[0m\u001b[0moutput\u001b[0m\u001b[0;34m,\u001b[0m\u001b[0mlabel\u001b[0m\u001b[0;34m)\u001b[0m\u001b[0;34m.\u001b[0m\u001b[0mitem\u001b[0m\u001b[0;34m(\u001b[0m\u001b[0;34m)\u001b[0m\u001b[0;34m\u001b[0m\u001b[0;34m\u001b[0m\u001b[0m\n\u001b[1;32m     83\u001b[0m             \u001b[0moutput\u001b[0m \u001b[0;34m=\u001b[0m \u001b[0mtorch\u001b[0m\u001b[0;34m.\u001b[0m\u001b[0mexp\u001b[0m\u001b[0;34m(\u001b[0m\u001b[0moutput\u001b[0m\u001b[0;34m)\u001b[0m\u001b[0;34m\u001b[0m\u001b[0;34m\u001b[0m\u001b[0m\n",
      "\u001b[0;32m~/anaconda3/lib/python3.8/site-packages/uncertainty_estimation-0.2-py3.8.egg/NN_utils/train_and_eval.py\u001b[0m in \u001b[0;36maccumulate_results\u001b[0;34m(model, data)\u001b[0m\n\u001b[1;32m     72\u001b[0m             \u001b[0mimage\u001b[0m\u001b[0;34m,\u001b[0m\u001b[0mlabel\u001b[0m \u001b[0;34m=\u001b[0m \u001b[0mimage\u001b[0m\u001b[0;34m.\u001b[0m\u001b[0mto\u001b[0m\u001b[0;34m(\u001b[0m\u001b[0mdev\u001b[0m\u001b[0;34m)\u001b[0m\u001b[0;34m,\u001b[0m \u001b[0mlabel\u001b[0m\u001b[0;34m.\u001b[0m\u001b[0mto\u001b[0m\u001b[0;34m(\u001b[0m\u001b[0mdev\u001b[0m\u001b[0;34m)\u001b[0m\u001b[0;34m\u001b[0m\u001b[0;34m\u001b[0m\u001b[0m\n\u001b[1;32m     73\u001b[0m \u001b[0;34m\u001b[0m\u001b[0m\n\u001b[0;32m---> 74\u001b[0;31m             \u001b[0moutput\u001b[0m \u001b[0;34m=\u001b[0m \u001b[0mmodel\u001b[0m\u001b[0;34m(\u001b[0m\u001b[0mimage\u001b[0m\u001b[0;34m)\u001b[0m\u001b[0;34m.\u001b[0m\u001b[0mcpu\u001b[0m\u001b[0;34m(\u001b[0m\u001b[0;34m)\u001b[0m\u001b[0;34m\u001b[0m\u001b[0;34m\u001b[0m\u001b[0m\n\u001b[0m\u001b[1;32m     75\u001b[0m             \u001b[0mg\u001b[0m \u001b[0;34m=\u001b[0m \u001b[0mmodel\u001b[0m\u001b[0;34m.\u001b[0m\u001b[0mget_g\u001b[0m\u001b[0;34m(\u001b[0m\u001b[0;34m)\u001b[0m\u001b[0;34m.\u001b[0m\u001b[0mview\u001b[0m\u001b[0;34m(\u001b[0m\u001b[0;34m-\u001b[0m\u001b[0;36m1\u001b[0m\u001b[0;34m)\u001b[0m\u001b[0;34m.\u001b[0m\u001b[0mcpu\u001b[0m\u001b[0;34m(\u001b[0m\u001b[0;34m)\u001b[0m\u001b[0;34m\u001b[0m\u001b[0;34m\u001b[0m\u001b[0m\n\u001b[1;32m     76\u001b[0m \u001b[0;34m\u001b[0m\u001b[0m\n",
      "\u001b[0;31mKeyboardInterrupt\u001b[0m: "
     ]
    }
   ],
   "source": [
    "model = Model_CNN_with_g()\n",
    "model = model.to(dev)\n",
    "optimizer = torch.optim.SGD(model.parameters(), lr=1e-3)\n",
    "\n",
    "loss_criterion = nn.NLLLoss(reduction = 'none')\n",
    "loss_fn = penalized_uncertainty(loss_criterion,np.log(10))\n",
    "\n",
    "model_trainer = Trainer(model,optimizer,loss_fn, print_loss = True,keep_hist = True)\n",
    "model_trainer.fit(train_dataloader,400)\n",
    "acc, g, bce = model_metrics(model,loss_criterion,train_dataloader)\n",
    "print('Conjunto de treinamento: acc = ', acc, 'média de g = ', g, 'média de bce = ', bce, '\\n')\n",
    "acc, g, bce = model_metrics(model,loss_criterion,test_dataloader)\n",
    "print('Conjunto de teste: acc = ', acc, 'média de g = ', g, 'média de bce = ', bce, '\\n')"
   ]
  },
  {
   "cell_type": "code",
   "execution_count": null,
   "metadata": {},
   "outputs": [],
   "source": []
  },
  {
   "cell_type": "code",
   "execution_count": 64,
   "metadata": {},
   "outputs": [
    {
     "data": {
      "text/plain": [
       "[<matplotlib.lines.Line2D at 0x7fd78dff3c10>]"
      ]
     },
     "execution_count": 64,
     "metadata": {},
     "output_type": "execute_result"
    },
    {
     "data": {
      "image/png": "[encoded data removed]",
      "text/plain": [
       "<Figure size 432x288 with 1 Axes>"
      ]
     },
     "metadata": {
      "needs_background": "light"
     },
     "output_type": "display_data"
    }
   ],
   "source": [
    "plt.plot(model_trainer_3_2.g_list)"
   ]
  },
  {
   "cell_type": "markdown",
   "metadata": {},
   "source": [
    "# TREINAMENTO DO SOFTMAX NO CONJUNTO DE TREINAMENTO E DE G NO DE VALIDAÇÃO"
   ]
  },
  {
   "cell_type": "code",
   "execution_count": 73,
   "metadata": {},
   "outputs": [
    {
     "data": {
      "image/png": "[encoded data removed]",
      "text/plain": [
       "<Figure size 432x288 with 1 Axes>"
      ]
     },
     "metadata": {
      "needs_background": "light"
     },
     "output_type": "display_data"
    },
    {
     "data": {
      "image/png": "[encoded data removed]",
      "text/plain": [
       "<Figure size 432x288 with 1 Axes>"
      ]
     },
     "metadata": {
      "needs_background": "light"
     },
     "output_type": "display_data"
    },
    {
     "data": {
      "text/plain": [
       "[<matplotlib.lines.Line2D at 0x7fd795a68d60>]"
      ]
     },
     "execution_count": 73,
     "metadata": {},
     "output_type": "execute_result"
    },
    {
     "data": {
      "image/png": "[encoded data removed]",
      "text/plain": [
       "<Figure size 432x288 with 1 Axes>"
      ]
     },
     "metadata": {
      "needs_background": "light"
     },
     "output_type": "display_data"
    }
   ],
   "source": [
    "plt.plot(model_trainer_3_2.acc_c_mcp, label = 'mcp')\n",
    "plt.plot(model_trainer_3_2.acc_c_g, label = 'g')\n",
    "plt.plot(model_trainer_3_2.acc_list, label = 'acurácia com cobertura 100%')\n",
    "plt.title('Acurácias com cobertura de 80%')\n",
    "plt.xlim(40,80)\n",
    "plt.grid()\n",
    "plt.legend()\n",
    "plt.show()\n",
    "\n",
    "plt.plot(model_trainer_3_2.g_list)\n",
    "plt.show()\n",
    "\n",
    "plt.plot(model_trainer_3_2.bce_list)"
   ]
  },
  {
   "cell_type": "markdown",
   "metadata": {},
   "source": [
    "# TREINAMENTO CONJUNTO NO DATASET DE TREINAMENTO"
   ]
  },
  {
   "cell_type": "code",
   "execution_count": 84,
   "metadata": {},
   "outputs": [],
   "source": [
    "image,label = next(iter(test_dataloader))\n",
    "image,label = image.to(dev),label.to(dev)\n",
    "output = torch.exp(model(image))"
   ]
  },
  {
   "cell_type": "code",
   "execution_count": 92,
   "metadata": {},
   "outputs": [
    {
     "data": {
      "text/plain": [
       "tensor([[1.2239e-06, 9.4129e-07, 2.1283e-08, 9.9977e-01, 1.3153e-08, 2.1147e-04,\n",
       "         1.6751e-05, 3.1231e-08, 1.7948e-07, 1.8348e-07],\n",
       "        [4.1567e-08, 4.0572e-06, 8.1408e-13, 2.0858e-13, 1.3306e-13, 2.7082e-14,\n",
       "         3.2529e-12, 3.3953e-15, 1.0000e+00, 5.8255e-10],\n",
       "        [6.9899e-07, 8.5341e-07, 2.0464e-11, 7.2524e-11, 2.9151e-11, 2.0877e-12,\n",
       "         5.5615e-11, 3.7160e-12, 1.0000e+00, 6.6966e-09],\n",
       "        [2.3529e-02, 7.8468e-05, 3.9369e-07, 2.9243e-05, 2.5027e-09, 1.5043e-08,\n",
       "         7.6192e-09, 3.3962e-09, 9.7635e-01, 1.3283e-05],\n",
       "        [5.6157e-09, 1.3663e-06, 7.5347e-05, 4.7055e-06, 7.2010e-05, 1.3917e-07,\n",
       "         9.9985e-01, 1.6796e-09, 1.1763e-07, 3.0192e-08],\n",
       "        [1.5050e-06, 3.3171e-07, 2.0976e-04, 4.1255e-01, 2.5542e-05, 5.6744e-01,\n",
       "         1.9762e-02, 1.5164e-05, 1.0137e-06, 1.3204e-06],\n",
       "        [9.8023e-09, 9.7703e-01, 1.0855e-10, 5.5139e-09, 6.6333e-11, 9.9558e-09,\n",
       "         2.8653e-09, 1.3145e-06, 5.7122e-10, 2.2964e-02],\n",
       "        [4.9560e-04, 3.2098e-05, 3.7920e-01, 6.4886e-02, 5.2451e-04, 5.1821e-03,\n",
       "         5.4925e-01, 4.5538e-05, 1.7749e-04, 2.0775e-04],\n",
       "        [1.6551e-05, 6.2501e-08, 6.5329e-07, 9.8515e-01, 3.8513e-03, 1.0808e-02,\n",
       "         8.2032e-06, 1.6469e-04, 4.0562e-07, 4.2537e-06],\n",
       "        [2.7120e-04, 7.1042e-01, 2.8373e-07, 6.6372e-06, 1.5345e-07, 4.9434e-08,\n",
       "         2.4811e-04, 1.3315e-07, 1.3988e-02, 2.7506e-01],\n",
       "        [9.9560e-01, 2.9146e-07, 1.1750e-03, 2.0824e-03, 2.3888e-04, 6.3265e-04,\n",
       "         2.0892e-07, 1.5598e-05, 2.4903e-04, 1.0243e-06],\n",
       "        [4.1472e-10, 4.4135e-04, 8.0046e-18, 5.2687e-16, 5.5345e-19, 5.0908e-17,\n",
       "         4.7076e-16, 2.2755e-15, 3.7649e-12, 9.9956e-01]], device='cuda:0',\n",
       "       grad_fn=<ExpBackward0>)"
      ]
     },
     "execution_count": 92,
     "metadata": {},
     "output_type": "execute_result"
    }
   ],
   "source": [
    "output"
   ]
  },
  {
   "cell_type": "code",
   "execution_count": 91,
   "metadata": {},
   "outputs": [
    {
     "data": {
      "text/plain": [
       "tensor([0.9998, 1.0000, 1.0000, 0.9763, 0.9998, 0.5674, 0.9770, 0.5492, 0.9851,\n",
       "        0.7104, 0.9956, 0.9996], device='cuda:0', grad_fn=<MaxBackward0>)"
      ]
     },
     "execution_count": 91,
     "metadata": {},
     "output_type": "execute_result"
    }
   ],
   "source": [
    "torch.max(output,dim=1).values"
   ]
  },
  {
   "cell_type": "code",
   "execution_count": 80,
   "metadata": {},
   "outputs": [
    {
     "data": {
      "image/png": "[encoded data removed]",
      "text/plain": [
       "<Figure size 432x288 with 1 Axes>"
      ]
     },
     "metadata": {
      "needs_background": "light"
     },
     "output_type": "display_data"
    },
    {
     "data": {
      "image/png": "[encoded data removed]",
      "text/plain": [
       "<Figure size 432x288 with 1 Axes>"
      ]
     },
     "metadata": {
      "needs_background": "light"
     },
     "output_type": "display_data"
    },
    {
     "data": {
      "image/png": "[encoded data removed]",
      "text/plain": [
       "<Figure size 432x288 with 1 Axes>"
      ]
     },
     "metadata": {
      "needs_background": "light"
     },
     "output_type": "display_data"
    }
   ],
   "source": [
    "plt.plot(model_trainer.acc_c_mcp, label = 'mcp')\n",
    "plt.plot(model_trainer.acc_c_g, label = 'g')\n",
    "plt.plot(model_trainer.acc_list, label = 'acc_0')\n",
    "plt.xlim(0,40)\n",
    "plt.grid()\n",
    "plt.legend()\n",
    "plt.show()\n",
    "\n",
    "plt.plot(model_trainer.g_list)\n",
    "plt.show()\n",
    "\n",
    "plt.plot(model_trainer.bce_list)\n",
    "plt.show()"
   ]
  },
  {
   "cell_type": "code",
   "execution_count": 34,
   "metadata": {
    "collapsed": true,
    "jupyter": {
     "outputs_hidden": true
    }
   },
   "outputs": [
    {
     "name": "stdout",
     "output_type": "stream",
     "text": [
      "Epoch  1 , loss =  2.2808087429249815\n",
      "Epoch  1 , loss =  1.1005077224775377\n",
      "Epoch  1 , loss =  1.0137927366309798\n",
      "Epoch  1 , loss =  1.0133301230172507\n",
      "Epoch  1 , loss =  1.0131545769275951\n",
      "Epoch  1 , loss =  1.0130693834139153\n",
      "Epoch  1 , loss =  1.0130138447554693\n",
      "Epoch  1 , loss =  1.0129747025797327\n",
      "Epoch  1 , loss =  1.012949803225596\n",
      "Epoch  1 , loss =  1.0129278834744744\n",
      "Epoch  1 , loss =  1.0129142285194142\n",
      "Epoch  1 , loss =  1.012899866717333\n",
      "Epoch  1 , loss =  1.012891325062845\n",
      "Epoch  1 , loss =  1.0128829959715626\n",
      "Epoch  1 , loss =  1.0128761489308955\n",
      "Epoch  1 , loss =  1.012870888735191\n",
      "Epoch  1 , loss =  1.012864614802908\n",
      "Epoch  1 , loss =  1.0128617473161152\n",
      "Epoch  1 , loss =  1.0128564362676953\n",
      "Epoch  1 , loss =  1.012853853247216\n",
      "Epoch  1 , loss =  1.0128505602335975\n",
      "Epoch  1 , loss =  1.0128474450614768\n",
      "Epoch  1 , loss =  1.0128448323530794\n",
      "Epoch  1 , loss =  1.0128424782556216\n",
      "Epoch  1 , loss =  1.0128402024679128\n",
      "Epoch  1 , loss =  1.012839753202193\n",
      "Epoch  1 , loss =  1.01283687215849\n",
      "Epoch  1 , loss =  1.0128353346789867\n",
      "Epoch  1 , loss =  1.0128342708333211\n",
      "Epoch  1 , loss =  1.0128328942634781\n",
      "Epoch  1 , loss =  1.0128314291447\n",
      "Epoch  1 , loss =  1.0128299051649052\n",
      "Epoch  1 , loss =  1.0128291553018647\n",
      "Epoch  1 , loss =  1.012827705456062\n",
      "Epoch  1 , loss =  1.0128271933251745\n",
      "Epoch  1 , loss =  1.0128262971962254\n",
      "Epoch  1 , loss =  1.0128252239694064\n",
      "Epoch  1 , loss =  1.0128244377257956\n",
      "Epoch  1 , loss =  1.0128243098217786\n",
      "Epoch  1 , loss =  1.0128231197309585\n",
      "Epoch  1 , loss =  1.0128228472770977\n",
      "Conjunto de treinamento: acc =  0.24556 média de g =  7.185611743534537e-07 média de bce =  2.198433854446411 \n",
      "\n",
      "Conjunto de teste: acc =  0.2602 média de g =  1.7298773485890707e-06 média de bce =  2.196673910522461 \n",
      "\n"
     ]
    }
   ],
   "source": [
    "model_4 = Model_CNN_with_g()\n",
    "model_4 = model_4.to(dev)\n",
    "optimizer = torch.optim.SGD(model_4.parameters(), lr=1e-3)\n",
    "loss_fn = penalized_uncertainty(loss_criterion,np.log(10))\n",
    "\n",
    "model_trainer_4 = Trainer(model_4,optimizer,loss_fn, print_loss = True,keep_hist = True)\n",
    "model_trainer_4.fit_x(train_dataloader,1)\n",
    "model_trainer_4.fit_g(validation_dataloader,40)\n",
    "\n",
    "acc, g, bce = model_metrics(model_4,loss_criterion,train_dataloader)\n",
    "print('Conjunto de treinamento: acc = ', acc, 'média de g = ', g, 'média de bce = ', bce, '\\n')\n",
    "acc, g, bce = model_metrics(model_4,loss_criterion,test_dataloader)\n",
    "print('Conjunto de teste: acc = ', acc, 'média de g = ', g, 'média de bce = ', bce, '\\n')"
   ]
  },
  {
   "cell_type": "code",
   "execution_count": 35,
   "metadata": {
    "collapsed": true,
    "jupyter": {
     "outputs_hidden": true
    }
   },
   "outputs": [
    {
     "name": "stdout",
     "output_type": "stream",
     "text": [
      "Epoch  1 , loss =  2.2700905979480486\n",
      "Epoch  1 , loss =  2.001947357535591\n",
      "Epoch  1 , loss =  1.7648847481797159\n",
      "Epoch  1 , loss =  1.6332968442831295\n",
      "Epoch  1 , loss =  1.5442921887661354\n",
      "Epoch  1 , loss =  1.4677013016078844\n",
      "Epoch  1 , loss =  1.398153784808179\n",
      "Epoch  1 , loss =  1.330162478843257\n",
      "Epoch  1 , loss =  1.2720934307334977\n",
      "Epoch  1 , loss =  1.223537874542134\n",
      "Epoch  1 , loss =  1.1751304311595585\n",
      "Epoch  1 , loss =  1.1234345874836715\n",
      "Epoch  1 , loss =  1.0716844156041254\n",
      "Epoch  1 , loss =  1.0382063557570818\n",
      "Epoch  1 , loss =  0.9940896112107155\n",
      "Epoch  1 , loss =  0.9636014345318308\n",
      "Epoch  1 , loss =  0.9370453781635999\n",
      "Epoch  1 , loss =  0.9096715853776561\n",
      "Epoch  1 , loss =  0.8903482409190536\n",
      "Epoch  1 , loss =  0.854557116728655\n",
      "Epoch  1 , loss =  0.8263825614384291\n",
      "Epoch  1 , loss =  0.8190080934130871\n",
      "Epoch  1 , loss =  0.8013047708588118\n",
      "Epoch  1 , loss =  0.7915705401243037\n",
      "Epoch  1 , loss =  0.7658214718746933\n",
      "Epoch  1 , loss =  0.7513677490778596\n",
      "Epoch  1 , loss =  0.7407306074424005\n",
      "Epoch  1 , loss =  0.7196761967717972\n",
      "Epoch  1 , loss =  0.7115609866643822\n",
      "Epoch  1 , loss =  0.6945201787282489\n",
      "Epoch  1 , loss =  0.6841351907850456\n",
      "Epoch  1 , loss =  0.6727772062097367\n",
      "Epoch  1 , loss =  0.6601337678998623\n",
      "Epoch  1 , loss =  0.649241499692173\n",
      "Epoch  1 , loss =  0.6313156099013999\n",
      "Epoch  1 , loss =  0.6228867386004775\n",
      "Epoch  1 , loss =  0.6184374831970817\n",
      "Epoch  1 , loss =  0.6096258024987183\n",
      "Epoch  1 , loss =  0.604499329977281\n",
      "Epoch  1 , loss =  0.5914223435229394\n",
      "Epoch  1 , loss =  1.076225136269077\n",
      "Epoch  1 , loss =  1.0164284837680677\n",
      "Epoch  1 , loss =  1.0158001233657354\n",
      "Epoch  1 , loss =  1.015549427316651\n",
      "Epoch  1 , loss =  1.0154352079426259\n",
      "Epoch  1 , loss =  1.015354852930369\n",
      "Epoch  1 , loss =  1.015307963008844\n",
      "Epoch  1 , loss =  1.0152850566921674\n",
      "Epoch  1 , loss =  1.0152446553254082\n",
      "Epoch  1 , loss =  1.0152337144409627\n",
      "Epoch  1 , loss =  1.0152106354309822\n",
      "Epoch  1 , loss =  1.0151966855416141\n",
      "Epoch  1 , loss =  1.0151908516655042\n",
      "Epoch  1 , loss =  1.0151767007105639\n",
      "Epoch  1 , loss =  1.0151719114029933\n",
      "Epoch  1 , loss =  1.0151653582669953\n",
      "Epoch  1 , loss =  1.0151588625619599\n",
      "Epoch  1 , loss =  1.015150973355244\n",
      "Epoch  1 , loss =  1.0151513601562112\n",
      "Epoch  1 , loss =  1.0151451884441778\n",
      "Epoch  1 , loss =  1.0151416142819711\n",
      "Epoch  1 , loss =  1.015139837297048\n",
      "Epoch  1 , loss =  1.0151358640354105\n",
      "Epoch  1 , loss =  1.0151295164839549\n",
      "Epoch  1 , loss =  1.015127639166453\n",
      "Epoch  1 , loss =  1.015127942738286\n",
      "Epoch  1 , loss =  1.0151261768505806\n",
      "Epoch  1 , loss =  1.015127169422362\n",
      "Epoch  1 , loss =  1.015118958853943\n",
      "Epoch  1 , loss =  1.0151207095830774\n",
      "Epoch  1 , loss =  1.015118247373548\n",
      "Epoch  1 , loss =  1.0151186998425885\n",
      "Epoch  1 , loss =  1.0151126190819804\n",
      "Epoch  1 , loss =  1.0151117519545234\n",
      "Epoch  1 , loss =  1.0151127362891945\n",
      "Epoch  1 , loss =  1.015111458164259\n",
      "Epoch  1 , loss =  1.0151122358847489\n",
      "Epoch  1 , loss =  1.015110476403685\n",
      "Epoch  1 , loss =  1.0151074247831575\n",
      "Epoch  1 , loss =  1.0151076787035205\n",
      "Conjunto de treinamento: acc =  0.83288 média de g =  5.772322175982935e-06 média de bce =  0.48600810324788096 \n",
      "\n",
      "Conjunto de teste: acc =  0.7989 média de g =  3.5316913458743216e-06 média de bce =  0.5859543972730636 \n",
      "\n"
     ]
    }
   ],
   "source": [
    "model_2 = Model_CNN_with_g()\n",
    "model_2 = model_2.to(dev)\n",
    "optimizer = torch.optim.SGD(model_2.parameters(), lr=1e-3)\n",
    "loss_fn = penalized_uncertainty(loss_criterion,np.log(10))\n",
    "\n",
    "model_trainer_2 = Trainer(model_2,optimizer,loss_fn, print_loss = True,keep_hist = True)\n",
    "model_trainer_2.fit_x(train_dataloader,40)\n",
    "model_trainer_2.fit_g(train_dataloader,40)\n",
    "\n",
    "acc, g, bce = model_metrics(model_2,loss_criterion,train_dataloader)\n",
    "print('Conjunto de treinamento: acc = ', acc, 'média de g = ', g, 'média de bce = ', bce, '\\n')\n",
    "acc, g, bce = model_metrics(model_2,loss_criterion,test_dataloader)\n",
    "print('Conjunto de teste: acc = ', acc, 'média de g = ', g, 'média de bce = ', bce, '\\n')"
   ]
  },
  {
   "cell_type": "code",
   "execution_count": null,
   "metadata": {},
   "outputs": [],
   "source": [
    "for image,label in test_dataloader:\n",
    "    image,label = image.to(dev),label.to(dev)\n",
    "    output = model_3(image)\n",
    "    g = model_3.get_g().cpu().detach().numpy().reshape(-1)\n",
    "    break"
   ]
  },
  {
   "cell_type": "code",
   "execution_count": null,
   "metadata": {},
   "outputs": [],
   "source": [
    "plt.hist(g)"
   ]
  },
  {
   "cell_type": "code",
   "execution_count": null,
   "metadata": {},
   "outputs": [],
   "source": [
    "plt.plot(model_trainer_3.g_list)\n",
    "plt.plot(model_trainer_3.acc_list)\n",
    "plt.plot(model_trainer_3.bce_list)"
   ]
  },
  {
   "cell_type": "code",
   "execution_count": null,
   "metadata": {},
   "outputs": [],
   "source": [
    "plt.plot(model_trainer_2.g_list)\n",
    "plt.plot(model_trainer_2.acc_list)\n",
    "plt.plot(model_trainer_2.bce_list,label = 'bce')\n",
    "plt.legend()"
   ]
  },
  {
   "cell_type": "code",
   "execution_count": null,
   "metadata": {},
   "outputs": [],
   "source": [
    "plt.plot(model_trainer_4.g_list)\n",
    "plt.plot(model_trainer_4.acc_list)\n",
    "plt.plot(model_trainer_4.bce_list)"
   ]
  },
  {
   "cell_type": "code",
   "execution_count": null,
   "metadata": {},
   "outputs": [],
   "source": [
    "\n",
    "uncertainties = ['MCP']\n",
    "\n",
    "for uncertainty in uncertainties:\n",
    "    acc_list = []\n",
    "        \n",
    "    model_3.eval()\n",
    "    total = 0\n",
    "    correct= 0\n",
    "    mcp_list = []\n",
    "    g_list = []\n",
    "    output_list = torch.Tensor([]).to(dev)\n",
    "    label_list = torch.Tensor([]).to(dev)\n",
    "    for image,label in validation_dataloader:\n",
    "        image,label = image.to(dev), label.to(dev)\n",
    "        \n",
    "        label_list = torch.cat((label_list,label))\n",
    "        output = torch.exp(model_3(image))\n",
    "        output_list = torch.cat((output_list,output))\n",
    "\n",
    "        uncer = unc.MCP_unc(output).tolist()\n",
    "        mcp_list.extend(uncer)\n",
    "\n",
    "        uncer = (1-model_3.get_g().view(-1)).tolist()\n",
    "        g_list.extend(uncer)\n",
    "\n",
    "        #uncer = 1-model_3.get_g()\n",
    "    mcp_list = torch.Tensor(mcp_list)\n",
    "        \n",
    "\n",
    "    g_list = torch.Tensor(g_list)\n",
    "            \n",
    "            \n",
    "        \n",
    "g_list = g_list.view(-1)"
   ]
  },
  {
   "cell_type": "code",
   "execution_count": null,
   "metadata": {},
   "outputs": [],
   "source": [
    "g_list = g_list.view(-1)"
   ]
  },
  {
   "cell_type": "code",
   "execution_count": null,
   "metadata": {},
   "outputs": [],
   "source": [
    "acc_list_mcp = []\n",
    "acc_list_g = []\n",
    "for c in np.arange(0,1,0.05):\n",
    "    dk_mcp = unc_comp.dontknow_mask(output_list,uncertainty = mcp_list, coverage = c)\n",
    "    dk_mcp = dk_mcp.to(dev)\n",
    "    dk_g = unc_comp.dontknow_mask(output_list,uncertainty = g_list, coverage = c)\n",
    "    dk_g = dk_g.to(dev)\n",
    "    \n",
    "    output, label = apply_mask(output_list,label_list,1-dk_mcp)\n",
    "    correct = correct_total(output,label)\n",
    "    total = output.size(0)\n",
    "\n",
    "    acc_list_mcp.append(correct*100/total)\n",
    "\n",
    "    output, label = apply_mask(output_list,label_list,1-dk_g)\n",
    "    correct = correct_total(output,label)\n",
    "    total = output.size(0)\n",
    "    \n",
    "    acc_list_g.append(correct*100/total)\n",
    "    \n",
    "    "
   ]
  },
  {
   "cell_type": "code",
   "execution_count": null,
   "metadata": {},
   "outputs": [],
   "source": [
    "plt.plot( np.arange(0,1,0.05),acc_list_mcp,label = 'MCP')\n",
    "plt.plot( np.arange(0,1,0.05),acc_list_g, label = 'g')\n",
    "plt.legend()\n",
    "plt.grid()\n",
    "plt.show()"
   ]
  },
  {
   "cell_type": "code",
   "execution_count": null,
   "metadata": {},
   "outputs": [],
   "source": [
    "plt.hist(g_list.view(-1).tolist())"
   ]
  },
  {
   "cell_type": "code",
   "execution_count": null,
   "metadata": {},
   "outputs": [],
   "source": [
    "g_list.shape"
   ]
  },
  {
   "cell_type": "code",
   "execution_count": 78,
   "metadata": {},
   "outputs": [
    {
     "data": {
      "image/png": "[encoded data removed]",
      "text/plain": [
       "<Figure size 432x288 with 1 Axes>"
      ]
     },
     "metadata": {
      "needs_background": "light"
     },
     "output_type": "display_data"
    }
   ],
   "source": [
    "label, output, g = accumulate_results(model,validation_dataloader)\n",
    "for c in np.arange(0,1,0.05):\n",
    "    acc = unc_comp.acc_coverage(output,label, 1-g, c)\n",
    "    plt.plot(c,acc,'ro')\n",
    "    acc = unc_comp.acc_coverage(output,label, unc.MCP_unc(output), c)\n",
    "    plt.plot(c,acc,'bo')"
   ]
  },
  {
   "cell_type": "code",
   "execution_count": null,
   "metadata": {},
   "outputs": [],
   "source": [
    "label, output, g = accumulate_results(model,validation_dataloader)\n",
    "for c in np.arange(0,1,0.05):\n",
    "    acc = unc_comp.acc_coverage(output,label, 1-g, c)\n",
    "    plt.plot(c,acc,'ro')\n",
    "    acc = unc_comp.acc_coverage(output,label, unc.MCP_unc(output), c)\n",
    "    plt.plot(c,acc,'bo')"
   ]
  }
 ],
 "metadata": {
  "kernelspec": {
   "display_name": "Python 3",
   "language": "python",
   "name": "python3"
  },
  "language_info": {
   "codemirror_mode": {
    "name": "ipython",
    "version": 3
   },
   "file_extension": ".py",
   "mimetype": "text/x-python",
   "name": "python",
   "nbconvert_exporter": "python",
   "pygments_lexer": "ipython3",
   "version": "3.8.5"
  }
 },
 "nbformat": 4,
 "nbformat_minor": 4
}
