{
 "cells": [
  {
   "cell_type": "code",
   "execution_count": 10,
   "metadata": {},
   "outputs": [],
   "source": [
    "import torch\n",
    "import numpy as np\n",
    "import pandas as pd\n",
    "import matplotlib\n",
    "from matplotlib import pyplot as plt\n",
    "import torchvision\n",
    "from torch import nn\n",
    "from torch.utils.data import DataLoader\n",
    "from torchvision import datasets\n",
    "import torchvision.transforms as transforms\n",
    "from torchvision.transforms import ToTensor, Lambda, Compose, Normalize\n",
    "from collections import defaultdict\n",
    "from torch.utils.data import random_split\n",
    "import copy\n",
    "\n",
    "from NN_utils import *\n",
    "from NN_utils.train_and_eval import *\n",
    "from uncertainty import train_NN_with_g\n",
    "from uncertainty.losses import penalized_uncertainty\n",
    "import uncertainty.comparison as unc_comp\n",
    "import uncertainty.quantifications as unc\n",
    "\n",
    "\n",
    "from torch.utils.data import random_split"
   ]
  },
  {
   "cell_type": "code",
   "execution_count": 2,
   "metadata": {},
   "outputs": [
    {
     "name": "stdout",
     "output_type": "stream",
     "text": [
      "True\n"
     ]
    }
   ],
   "source": [
    "print(torch.cuda.is_available())\n",
    "dev = torch.device('cuda') if torch.cuda.is_available() else torch.device('cpu')"
   ]
  },
  {
   "cell_type": "code",
   "execution_count": 3,
   "metadata": {},
   "outputs": [],
   "source": [
    "transforms_train = transforms.Compose([\n",
    "                    transforms.RandomCrop(32, padding=4),\n",
    "                    transforms.RandomHorizontalFlip(),\n",
    "                    transforms.ToTensor(),\n",
    "                    transforms.Normalize((0.4914, 0.4822, 0.4465), (0.2023, 0.1994, 0.2010))])\n",
    "transforms_ = transforms.Compose([\n",
    "transforms.ToTensor(),\n",
    "transforms.Normalize((0.4914, 0.4822, 0.4465), (0.2023, 0.1994, 0.2010)),])"
   ]
  },
  {
   "cell_type": "code",
   "execution_count": 4,
   "metadata": {},
   "outputs": [
    {
     "name": "stdout",
     "output_type": "stream",
     "text": [
      "Files already downloaded and verified\n",
      "Files already downloaded and verified\n"
     ]
    }
   ],
   "source": [
    "training_data = datasets.CIFAR100(\n",
    "root=\"data\",\n",
    " train=True,\n",
    " download=True,\n",
    "transform=transforms_train)\n",
    "\n",
    "test_data = datasets.CIFAR100(\n",
    "root=\"data\",\n",
    "train=False,\n",
    "download=True,\n",
    "transform=transforms_)\n",
    "\n",
    "train_size = int(0.5*len(training_data))\n",
    "val_size = len(training_data) - train_size\n",
    "training_data, validation_data = random_split(training_data, [train_size, val_size])"
   ]
  },
  {
   "cell_type": "code",
   "execution_count": 5,
   "metadata": {},
   "outputs": [],
   "source": [
    "batch_size = 12\n",
    "train_dataloader = DataLoader(training_data, batch_size=batch_size,shuffle = True)\n",
    "validation_dataloader = DataLoader(validation_data, batch_size=batch_size,shuffle = True)\n",
    "test_dataloader = DataLoader(test_data, batch_size=100)"
   ]
  },
  {
   "cell_type": "code",
   "execution_count": 6,
   "metadata": {},
   "outputs": [],
   "source": [
    "\n",
    "from NN_models.CIFAR100 import Model_CNN_100_with_g\n",
    "model_100 = Model_CNN_100_with_g()\n",
    "model_100.to(dev)\n",
    "\n",
    "from NN_models import Model_CNN_with_g\n",
    "model_90 = Model_CNN_with_g(90)\n",
    "model_90.to(dev);"
   ]
  },
  {
   "cell_type": "code",
   "execution_count": 7,
   "metadata": {},
   "outputs": [],
   "source": [
    "optimizer = torch.optim.SGD(model_90.parameters(), lr=1e-3)\n",
    "loss_criterion = nn.NLLLoss(reduction = 'none')\n",
    "loss_fn = penalized_uncertainty(loss_criterion,np.log(10))\n",
    "\n",
    "Trainer_90 = Trainer(model_90, optimizer, loss_fn, print_loss=True, keep_hist=True)\n"
   ]
  },
  {
   "cell_type": "code",
   "execution_count": 9,
   "metadata": {},
   "outputs": [
    {
     "name": "stdout",
     "output_type": "stream",
     "text": [
      "Epoch  1 , loss =  1.6456514187371662\n",
      "Epoch  1 , loss =  1.6479998733455068\n",
      "Epoch  1 , loss =  1.6521076676712843\n",
      "Epoch  1 , loss =  1.6208714493863186\n",
      "Epoch  1 , loss =  1.598949745383235\n",
      "Epoch  1 , loss =  1.6087585327263758\n",
      "Epoch  1 , loss =  1.6181315141881953\n",
      "Epoch  1 , loss =  1.61206546096907\n",
      "Epoch  1 , loss =  1.5939808384928273\n",
      "Epoch  1 , loss =  1.594114494100642\n",
      "Epoch  1 , loss =  1.5919451359480676\n",
      "Epoch  1 , loss =  1.587409650867594\n",
      "Epoch  1 , loss =  1.5828316981069415\n",
      "Epoch  1 , loss =  1.5885717631988012\n",
      "Epoch  1 , loss =  1.555963343656452\n",
      "Epoch  1 , loss =  1.5611013166048706\n",
      "Epoch  1 , loss =  1.5432939287167822\n",
      "Epoch  1 , loss =  1.539942075560967\n",
      "Epoch  1 , loss =  1.566072698003271\n",
      "Epoch  1 , loss =  1.5501842398103505\n",
      "Epoch  1 , loss =  1.5491820641877325\n",
      "Epoch  1 , loss =  1.542850535684721\n",
      "Epoch  1 , loss =  1.5352791089300002\n",
      "Epoch  1 , loss =  1.5332851515450083\n",
      "Epoch  1 , loss =  1.5239705643589803\n",
      "Epoch  1 , loss =  1.520536091529019\n",
      "Epoch  1 , loss =  1.5040168856304574\n",
      "Epoch  1 , loss =  1.5191806604846196\n",
      "Epoch  1 , loss =  1.5206534954327768\n",
      "Epoch  1 , loss =  1.5224484188943357\n",
      "Epoch  1 , loss =  1.5152872685278675\n",
      "Epoch  1 , loss =  1.4972408139888704\n",
      "Epoch  1 , loss =  1.4965361596126245\n",
      "Epoch  1 , loss =  1.48292882485948\n",
      "Epoch  1 , loss =  1.5139618776238124\n",
      "Epoch  1 , loss =  1.498619913082434\n",
      "Epoch  1 , loss =  1.491579744299863\n",
      "Epoch  1 , loss =  1.4625701507599935\n",
      "Epoch  1 , loss =  1.4682422493103597\n",
      "Epoch  1 , loss =  1.474370195088826\n",
      "Epoch  1 , loss =  1.45873238037621\n",
      "Epoch  1 , loss =  1.4908242312308237\n",
      "Epoch  1 , loss =  1.4857903893128923\n",
      "Epoch  1 , loss =  1.4435843339121959\n",
      "Epoch  1 , loss =  1.4614136120636954\n",
      "Epoch  1 , loss =  1.4335907256362992\n",
      "Epoch  1 , loss =  1.4396513796298838\n",
      "Epoch  1 , loss =  1.4332392802622862\n",
      "Epoch  1 , loss =  1.4125565318766116\n",
      "Epoch  1 , loss =  1.409245946242576\n",
      "Epoch  1 , loss =  1.4368885023637377\n",
      "Epoch  1 , loss =  1.4144222411164395\n",
      "Epoch  1 , loss =  1.4257144302186948\n",
      "Epoch  1 , loss =  1.4145638432189278\n",
      "Epoch  1 , loss =  1.4126117793903927\n",
      "Epoch  1 , loss =  1.4008018593527305\n",
      "Epoch  1 , loss =  1.4234993430623166\n",
      "Epoch  1 , loss =  1.3754704830857019\n",
      "Epoch  1 , loss =  1.3974365075753425\n",
      "Epoch  1 , loss =  1.3963845030417141\n",
      "Epoch  1 , loss =  1.4073056573487976\n",
      "Epoch  1 , loss =  1.38389686370651\n",
      "Epoch  1 , loss =  1.3851556398417808\n",
      "Epoch  1 , loss =  1.3836761616356312\n",
      "Epoch  1 , loss =  1.367768061738783\n",
      "Epoch  1 , loss =  1.3794458385792896\n",
      "Epoch  1 , loss =  1.3768935745399653\n",
      "Epoch  1 , loss =  1.3647854431405406\n",
      "Epoch  1 , loss =  1.3381211033480638\n",
      "Epoch  1 , loss =  1.3533531771454381\n",
      "Epoch  1 , loss =  1.3466066154517276\n",
      "Epoch  1 , loss =  1.3650041199119443\n",
      "Epoch  1 , loss =  1.3539187932340517\n",
      "Epoch  1 , loss =  1.345594041406994\n",
      "Epoch  1 , loss =  1.3441210482090769\n",
      "Epoch  1 , loss =  1.3246276906321466\n",
      "Epoch  1 , loss =  1.3250224591159545\n",
      "Epoch  1 , loss =  1.3167976415403286\n",
      "Epoch  1 , loss =  1.3158956105586663\n",
      "Epoch  1 , loss =  1.3261433965642713\n",
      "Conjunto de treinamento: acc =  0.7012 média de g =  0.2897819756439328 média de bce =  1.0294189448833466 \n",
      "\n",
      "Conjunto de teste: acc =  0.5501 média de g =  0.3715862079620361 média de bce =  1.6628100212097168 \n",
      "\n"
     ]
    }
   ],
   "source": [
    "optimizer = torch.optim.SGD(model_100.parameters(), lr=1e-3)\n",
    "loss_criterion = nn.NLLLoss(reduction = 'none')\n",
    "loss_fn = penalized_uncertainty(loss_criterion,np.log(10))\n",
    "\n",
    "Trainer_100 = Trainer(model_100, optimizer, loss_fn, print_loss=True, keep_hist=True)\n",
    "\n",
    "Trainer_100.fit(train_dataloader,80)\n",
    "acc, g, bce = model_metrics(model_100,nn.NLLLoss(),train_dataloader)\n",
    "print('Conjunto de treinamento: acc = ', acc, 'média de g = ', g, 'média de bce = ', bce, '\\n')\n",
    "acc, g, bce = model_metrics(model_100,nn.NLLLoss(),test_dataloader)\n",
    "print('Conjunto de teste: acc = ', acc, 'média de g = ', g, 'média de bce = ', bce, '\\n')"
   ]
  },
  {
   "cell_type": "code",
   "execution_count": null,
   "metadata": {},
   "outputs": [],
   "source": []
  },
  {
   "cell_type": "code",
   "execution_count": null,
   "metadata": {},
   "outputs": [],
   "source": []
  }
 ],
 "metadata": {
  "kernelspec": {
   "display_name": "Python 3",
   "language": "python",
   "name": "python3"
  },
  "language_info": {
   "codemirror_mode": {
    "name": "ipython",
    "version": 3
   },
   "file_extension": ".py",
   "mimetype": "text/x-python",
   "name": "python",
   "nbconvert_exporter": "python",
   "pygments_lexer": "ipython3",
   "version": "3.8.5"
  }
 },
 "nbformat": 4,
 "nbformat_minor": 4
}
