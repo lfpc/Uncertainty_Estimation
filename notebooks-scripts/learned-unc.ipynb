{
 "cells": [
  {
   "cell_type": "code",
   "execution_count": 1,
   "metadata": {},
   "outputs": [],
   "source": [
    "import torch\n",
    "import numpy as np\n",
    "import pandas as pd\n",
    "import matplotlib\n",
    "from matplotlib import pyplot as plt\n",
    "import torchvision\n",
    "from torch import nn\n",
    "from torch.utils.data import DataLoader\n",
    "from torchvision import datasets\n",
    "import torchvision.transforms as transforms\n",
    "from torchvision.transforms import ToTensor, Lambda, Compose, Normalize\n",
    "from collections import defaultdict\n",
    "from torch.utils.data import random_split\n",
    "import copy\n",
    "\n",
    "from NN_utils import *\n",
    "from NN_utils.train_and_eval import *\n",
    "from uncertainty import train_NN_with_g\n",
    "from uncertainty.losses import penalized_uncertainty\n",
    "import uncertainty.comparison as unc_comp\n",
    "import uncertainty.quantifications as unc\n",
    "\n",
    "\n",
    "from torch.utils.data import random_split"
   ]
  },
  {
   "cell_type": "code",
   "execution_count": 2,
   "metadata": {},
   "outputs": [
    {
     "name": "stdout",
     "output_type": "stream",
     "text": [
      "True\n"
     ]
    }
   ],
   "source": [
    "print(torch.cuda.is_available())\n",
    "dev = torch.device('cuda') if torch.cuda.is_available() else torch.device('cpu')"
   ]
  },
  {
   "cell_type": "code",
   "execution_count": 3,
   "metadata": {},
   "outputs": [],
   "source": [
    "transforms_train = transforms.Compose([\n",
    "                    transforms.RandomCrop(32, padding=4),\n",
    "                    transforms.RandomHorizontalFlip(),\n",
    "                    transforms.ToTensor(),\n",
    "                    transforms.Normalize((0.4914, 0.4822, 0.4465), (0.2023, 0.1994, 0.2010))])\n",
    "transforms_ = transforms.Compose([\n",
    "transforms.ToTensor(),\n",
    "transforms.Normalize((0.4914, 0.4822, 0.4465), (0.2023, 0.1994, 0.2010)),])"
   ]
  },
  {
   "cell_type": "code",
   "execution_count": 4,
   "metadata": {},
   "outputs": [
    {
     "name": "stdout",
     "output_type": "stream",
     "text": [
      "Files already downloaded and verified\n",
      "Files already downloaded and verified\n"
     ]
    }
   ],
   "source": [
    "training_data = datasets.CIFAR10(\n",
    "root=\"data\",\n",
    " train=True,\n",
    " download=True,\n",
    "transform=transforms_train)\n",
    "\n",
    "test_data = datasets.CIFAR10(\n",
    "root=\"data\",\n",
    "train=False,\n",
    "download=True,\n",
    "transform=transforms_)\n",
    "\n",
    "train_size = int(0.5*len(training_data))\n",
    "val_size = len(training_data) - train_size\n",
    "training_data, validation_data = random_split(training_data, [train_size, val_size])"
   ]
  },
  {
   "cell_type": "code",
   "execution_count": 5,
   "metadata": {},
   "outputs": [],
   "source": [
    "batch_size = 12\n",
    "train_dataloader = DataLoader(training_data, batch_size=batch_size,shuffle = True)\n",
    "validation_dataloader = DataLoader(validation_data, batch_size=batch_size,shuffle = True)\n",
    "test_dataloader = DataLoader(test_data, batch_size=12)"
   ]
  },
  {
   "cell_type": "code",
   "execution_count": 6,
   "metadata": {},
   "outputs": [],
   "source": [
    "from NN_models.CIFAR10 import Model_CNN_10_with_g as Model_CNN_with_g\n",
    "model = Model_CNN_with_g()"
   ]
  },
  {
   "cell_type": "code",
   "execution_count": 7,
   "metadata": {},
   "outputs": [],
   "source": [
    "def model_metrics(model,data):\n",
    "    loss_criterion = nn.NLLLoss(reduction = 'sum')\n",
    "    model.eval()\n",
    "    dev = next(model.parameters()).device\n",
    "    total = 0\n",
    "    correct= 0\n",
    "    g_i = 0\n",
    "    bce = 0\n",
    "    with torch.no_grad():\n",
    "        for image,label in data:\n",
    "            image,label = image.to(dev), label.to(dev)\n",
    "            output = model(image)\n",
    "            g = model.get_g()\n",
    "            total += label.size(0)\n",
    "            correct += correct_total(output,label)\n",
    "            g_i += torch.sum(g).item()\n",
    "            bce += loss_criterion(output,label).item()\n",
    "\n",
    "    return (correct/total),g_i/total, bce/total"
   ]
  },
  {
   "cell_type": "code",
   "execution_count": 8,
   "metadata": {},
   "outputs": [],
   "source": [
    "loss_criterion = nn.NLLLoss(reduction = 'none')\n",
    "loss_fn = penalized_uncertainty(loss_criterion,np.log(10))"
   ]
  },
  {
   "cell_type": "code",
   "execution_count": 9,
   "metadata": {},
   "outputs": [
    {
     "name": "stdout",
     "output_type": "stream",
     "text": [
      "Epoch  1 , loss =  2.2969778027964645\n",
      "Epoch  1 , loss =  2.242379144491939\n",
      "Epoch  1 , loss =  2.0442711534747233\n",
      "Epoch  1 , loss =  1.8171785184380647\n",
      "Epoch  1 , loss =  1.6817909822926183\n",
      "Epoch  1 , loss =  1.586351747132995\n",
      "Epoch  1 , loss =  1.504117070255719\n",
      "Epoch  1 , loss =  1.434191603435207\n",
      "Epoch  1 , loss =  1.3678374166909655\n",
      "Epoch  1 , loss =  1.3004199916250188\n",
      "Epoch  1 , loss =  1.2367620935195238\n",
      "Epoch  1 , loss =  1.1815279366416345\n",
      "Epoch  1 , loss =  1.1224039039233138\n",
      "Epoch  1 , loss =  1.0815830024213113\n",
      "Epoch  1 , loss =  1.0340022578578079\n",
      "Epoch  1 , loss =  0.9926005614896425\n",
      "Epoch  1 , loss =  0.9654178442630109\n",
      "Epoch  1 , loss =  0.930507403775163\n",
      "Epoch  1 , loss =  0.9140248371005745\n",
      "Epoch  1 , loss =  0.8801979319605397\n",
      "Epoch  1 , loss =  0.85444484924229\n",
      "Epoch  1 , loss =  0.8341266450806452\n",
      "Epoch  1 , loss =  0.8170168685178039\n",
      "Epoch  1 , loss =  0.7928662961509773\n",
      "Epoch  1 , loss =  0.780243597252584\n",
      "Epoch  1 , loss =  0.7629155822012452\n",
      "Epoch  1 , loss =  0.7435619726834279\n",
      "Epoch  1 , loss =  0.7346754509154815\n",
      "Epoch  1 , loss =  0.7135509359122981\n",
      "Epoch  1 , loss =  0.7009533690485296\n",
      "Epoch  1 , loss =  0.6868551118360142\n",
      "Epoch  1 , loss =  0.670177913558689\n",
      "Epoch  1 , loss =  0.6598896679473816\n",
      "Epoch  1 , loss =  0.6531456833930539\n",
      "Epoch  1 , loss =  0.639113324642496\n",
      "Epoch  1 , loss =  0.6314545284363221\n",
      "Epoch  1 , loss =  0.6140199218574561\n",
      "Epoch  1 , loss =  0.6013293554452239\n",
      "Epoch  1 , loss =  0.5954162990227485\n",
      "Epoch  1 , loss =  0.5806587452744625\n",
      "Epoch  1 , loss =  0.5742106229824777\n",
      "Epoch  1 , loss =  0.5638194499562375\n",
      "Epoch  1 , loss =  0.5569471115185638\n",
      "Epoch  1 , loss =  0.5507878231317263\n",
      "Epoch  1 , loss =  0.5396318041260092\n",
      "Epoch  1 , loss =  0.5362309361352172\n",
      "Epoch  1 , loss =  0.5278888432570016\n",
      "Epoch  1 , loss =  0.5133374379071873\n",
      "Epoch  1 , loss =  0.5061511978535643\n",
      "Epoch  1 , loss =  0.49364797160701535\n",
      "Epoch  1 , loss =  0.485565422635504\n",
      "Epoch  1 , loss =  0.48623818924897233\n",
      "Epoch  1 , loss =  0.491610529634122\n",
      "Epoch  1 , loss =  0.4752944528684735\n",
      "Epoch  1 , loss =  0.4631329440438473\n",
      "Epoch  1 , loss =  0.46860147935415186\n",
      "Epoch  1 , loss =  0.44997880543490976\n",
      "Epoch  1 , loss =  0.4439358503098337\n",
      "Epoch  1 , loss =  0.43946196432734863\n",
      "Epoch  1 , loss =  0.4340810117145532\n",
      "Epoch  1 , loss =  0.42846486701731945\n",
      "Epoch  1 , loss =  0.41928965490375736\n",
      "Epoch  1 , loss =  0.4157962994274617\n",
      "Epoch  1 , loss =  0.42031315930774027\n",
      "Epoch  1 , loss =  0.4156926279376313\n",
      "Epoch  1 , loss =  0.40950675862850244\n",
      "Epoch  1 , loss =  0.40432528619459635\n",
      "Epoch  1 , loss =  0.39588253296582804\n",
      "Epoch  1 , loss =  0.3956318021378339\n",
      "Epoch  1 , loss =  0.39349710711076025\n",
      "Epoch  1 , loss =  0.3828564843237972\n",
      "Epoch  1 , loss =  0.39755419244893225\n",
      "Epoch  1 , loss =  0.3902554275064002\n",
      "Epoch  1 , loss =  0.38692325535954303\n",
      "Epoch  1 , loss =  0.3896057765551927\n",
      "Epoch  1 , loss =  0.3800015420243573\n",
      "Epoch  1 , loss =  0.3715226855665274\n",
      "Epoch  1 , loss =  0.3605965571817647\n",
      "Epoch  1 , loss =  0.3582356809826135\n",
      "Epoch  1 , loss =  0.3626847612794896\n",
      "Conjunto de treinamento: acc =  0.91836 média de g =  0.33545616425037383 média de bce =  0.2492562629005313 \n",
      "\n",
      "Conjunto de teste: acc =  0.8434 média de g =  0.36986689519882204 média de bce =  0.4768688649326563 \n",
      "\n"
     ]
    }
   ],
   "source": [
    "model = Model_CNN_with_g()\n",
    "model = model.to(dev)\n",
    "optimizer = torch.optim.SGD(model.parameters(), lr=1e-3)\n",
    "\n",
    "loss_criterion = nn.NLLLoss(reduction = 'none')\n",
    "loss_fn = penalized_uncertainty(loss_criterion,np.log(10))\n",
    "\n",
    "model_trainer = Trainer(model,optimizer,loss_fn, print_loss = True,keep_hist = True)\n",
    "model_trainer.fit(train_dataloader,80)\n",
    "acc, g, bce = model_metrics(model,train_dataloader)\n",
    "print('Conjunto de treinamento: acc = ', acc, 'média de g = ', g, 'média de bce = ', bce, '\\n')\n",
    "acc, g, bce = model_metrics(model,test_dataloader)\n",
    "print('Conjunto de teste: acc = ', acc, 'média de g = ', g, 'média de bce = ', bce, '\\n')"
   ]
  },
  {
   "cell_type": "code",
   "execution_count": 10,
   "metadata": {},
   "outputs": [
    {
     "data": {
      "text/plain": [
       "[<matplotlib.lines.Line2D at 0x7effc85575b0>]"
      ]
     },
     "execution_count": 10,
     "metadata": {},
     "output_type": "execute_result"
    },
    {
     "data": {
      "image/png": "[encoded data removed]",
      "text/plain": [
       "<Figure size 432x288 with 1 Axes>"
      ]
     },
     "metadata": {
      "needs_background": "light"
     },
     "output_type": "display_data"
    }
   ],
   "source": [
    "plt.plot(model_trainer.g_list)"
   ]
  },
  {
   "cell_type": "code",
   "execution_count": 11,
   "metadata": {},
   "outputs": [
    {
     "name": "stdout",
     "output_type": "stream",
     "text": [
      "Epoch  1 , loss =  2.2411674056881448\n",
      "Epoch  1 , loss =  1.9969223347025962\n",
      "Epoch  1 , loss =  1.7880079753110596\n",
      "Epoch  1 , loss =  1.6555332804595668\n",
      "Epoch  1 , loss =  1.554354215251736\n",
      "Epoch  1 , loss =  1.468805257281049\n",
      "Epoch  1 , loss =  1.3937483433912903\n",
      "Epoch  1 , loss =  1.3318818399178547\n",
      "Epoch  1 , loss =  1.2594859286027311\n",
      "Epoch  1 , loss =  1.1944273173265632\n",
      "Epoch  1 , loss =  1.1366048776857456\n",
      "Epoch  1 , loss =  1.0887488036661368\n",
      "Epoch  1 , loss =  1.0502224818958887\n",
      "Epoch  1 , loss =  1.0073739499883323\n",
      "Epoch  1 , loss =  0.9776214023483577\n",
      "Epoch  1 , loss =  0.9484973094013167\n",
      "Epoch  1 , loss =  0.9191503372479538\n",
      "Epoch  1 , loss =  0.884717461458209\n",
      "Epoch  1 , loss =  0.8686741437841629\n",
      "Epoch  1 , loss =  0.8479361147146078\n",
      "Epoch  1 , loss =  0.8236277138782154\n",
      "Epoch  1 , loss =  0.8052293620896374\n",
      "Epoch  1 , loss =  0.7830426204670757\n",
      "Epoch  1 , loss =  0.7689912888237531\n",
      "Epoch  1 , loss =  0.7564737593644297\n",
      "Epoch  1 , loss =  0.7383416632508534\n",
      "Epoch  1 , loss =  0.7182141860085406\n",
      "Epoch  1 , loss =  0.7134861462247234\n",
      "Epoch  1 , loss =  0.7008605142036406\n",
      "Epoch  1 , loss =  0.6845111492663736\n",
      "Epoch  1 , loss =  0.6780676805841488\n",
      "Epoch  1 , loss =  0.6584097122283734\n",
      "Epoch  1 , loss =  0.6480311943779408\n",
      "Epoch  1 , loss =  0.637155134227277\n",
      "Epoch  1 , loss =  0.6296574992293961\n",
      "Epoch  1 , loss =  0.6179501110913085\n",
      "Epoch  1 , loss =  0.6086937875063256\n",
      "Epoch  1 , loss =  0.5938380004555673\n",
      "Epoch  1 , loss =  0.5928155462992254\n",
      "Epoch  1 , loss =  0.574903668485396\n",
      "Epoch  1 , loss =  0.6035568440858553\n",
      "Epoch  1 , loss =  0.6065432131719452\n",
      "Epoch  1 , loss =  0.6125298118980284\n",
      "Epoch  1 , loss =  0.6102827994471091\n",
      "Epoch  1 , loss =  0.6078065295566066\n",
      "Epoch  1 , loss =  0.6071433239757672\n",
      "Epoch  1 , loss =  0.6107846682966327\n",
      "Epoch  1 , loss =  0.6122109653596228\n",
      "Epoch  1 , loss =  0.6021859032493406\n",
      "Epoch  1 , loss =  0.6077567839390828\n",
      "Epoch  1 , loss =  0.6020312566531826\n",
      "Epoch  1 , loss =  0.6032075998936414\n",
      "Epoch  1 , loss =  0.6102205638965009\n",
      "Epoch  1 , loss =  0.6156815833227991\n",
      "Epoch  1 , loss =  0.6065239265932918\n",
      "Epoch  1 , loss =  0.6130418887007946\n",
      "Epoch  1 , loss =  0.6035866237919413\n",
      "Epoch  1 , loss =  0.6110278721934546\n",
      "Epoch  1 , loss =  0.602191287623772\n",
      "Epoch  1 , loss =  0.6142604369205386\n",
      "Epoch  1 , loss =  0.6096095772613834\n",
      "Epoch  1 , loss =  0.6063251176530821\n",
      "Epoch  1 , loss =  0.6089858658926386\n",
      "Epoch  1 , loss =  0.6011980293593915\n",
      "Epoch  1 , loss =  0.605904382337135\n",
      "Epoch  1 , loss =  0.6061095853842037\n",
      "Epoch  1 , loss =  0.6022360704181405\n",
      "Epoch  1 , loss =  0.6029040789063627\n",
      "Epoch  1 , loss =  0.6035625875968622\n",
      "Epoch  1 , loss =  0.604452834620128\n",
      "Epoch  1 , loss =  0.6021484480795385\n",
      "Epoch  1 , loss =  0.6025128532308306\n",
      "Epoch  1 , loss =  0.6063215091409816\n",
      "Epoch  1 , loss =  0.602813707532329\n",
      "Epoch  1 , loss =  0.6064262256784196\n",
      "Epoch  1 , loss =  0.6026231922967191\n",
      "Epoch  1 , loss =  0.6013932852020877\n",
      "Epoch  1 , loss =  0.6050706736514642\n",
      "Epoch  1 , loss =  0.6052847796418274\n",
      "Epoch  1 , loss =  0.6116024851656006\n",
      "Conjunto de treinamento: acc =  0.83508 média de g =  0.5534826101112366 média de bce =  0.4758397745656967 \n",
      "\n",
      "Conjunto de teste: acc =  0.8014 média de g =  0.566757621216774 média de bce =  0.5737190435111522 \n",
      "\n"
     ]
    }
   ],
   "source": [
    "model_3 = Model_CNN_with_g()\n",
    "model_3 = model_3.to(dev)\n",
    "optimizer = torch.optim.SGD(model_3.parameters(), lr=1e-3)\n",
    "loss_fn = penalized_uncertainty(loss_criterion,np.log(10))\n",
    "\n",
    "model_trainer_3 = Trainer(model_3,optimizer,loss_fn, print_loss = True,keep_hist = True)\n",
    "model_trainer_3.fit_x(train_dataloader,40)\n",
    "model_trainer_3.fit_g(validation_dataloader,40)\n",
    "\n",
    "acc, g, bce = model_metrics(model_3,train_dataloader)\n",
    "print('Conjunto de treinamento: acc = ', acc, 'média de g = ', g, 'média de bce = ', bce, '\\n')\n",
    "acc, g, bce = model_metrics(model_3,test_dataloader)\n",
    "print('Conjunto de teste: acc = ', acc, 'média de g = ', g, 'média de bce = ', bce, '\\n')"
   ]
  },
  {
   "cell_type": "code",
   "execution_count": 12,
   "metadata": {},
   "outputs": [
    {
     "name": "stdout",
     "output_type": "stream",
     "text": [
      "Epoch  1 , loss =  2.247856280339199\n",
      "Epoch  1 , loss =  2.0941144880658147\n",
      "Epoch  1 , loss =  2.0970608383245524\n",
      "Epoch  1 , loss =  2.0986291869702587\n",
      "Epoch  1 , loss =  2.096699533158209\n",
      "Epoch  1 , loss =  2.096144236495536\n",
      "Epoch  1 , loss =  2.0927744583296457\n",
      "Epoch  1 , loss =  2.1000526421587207\n",
      "Epoch  1 , loss =  2.09734251019822\n",
      "Epoch  1 , loss =  2.0976599226643167\n",
      "Epoch  1 , loss =  2.0976471858038326\n",
      "Epoch  1 , loss =  2.095453134539489\n",
      "Epoch  1 , loss =  2.0959862404844354\n",
      "Epoch  1 , loss =  2.095530459096015\n",
      "Epoch  1 , loss =  2.0942412049665102\n",
      "Epoch  1 , loss =  2.094941950862559\n",
      "Epoch  1 , loss =  2.093871176185626\n",
      "Epoch  1 , loss =  2.0941587374214934\n",
      "Epoch  1 , loss =  2.09601114510117\n",
      "Epoch  1 , loss =  2.0952216861572923\n",
      "Epoch  1 , loss =  2.096086929375288\n",
      "Epoch  1 , loss =  2.094855044601975\n",
      "Epoch  1 , loss =  2.0987481905608627\n",
      "Epoch  1 , loss =  2.09534928625925\n",
      "Epoch  1 , loss =  2.0965114148358697\n",
      "Epoch  1 , loss =  2.0966270934368505\n",
      "Epoch  1 , loss =  2.0975176582752857\n",
      "Epoch  1 , loss =  2.0935856881846395\n",
      "Epoch  1 , loss =  2.094147912314208\n",
      "Epoch  1 , loss =  2.0958456557794634\n",
      "Epoch  1 , loss =  2.094912356984821\n",
      "Epoch  1 , loss =  2.0942109041845502\n",
      "Epoch  1 , loss =  2.097459054210593\n",
      "Epoch  1 , loss =  2.0940618369149155\n",
      "Epoch  1 , loss =  2.093806935992671\n",
      "Epoch  1 , loss =  2.094559315413294\n",
      "Epoch  1 , loss =  2.0940509361863824\n",
      "Epoch  1 , loss =  2.093798483573544\n",
      "Epoch  1 , loss =  2.095964381653608\n",
      "Epoch  1 , loss =  2.0960481124510006\n",
      "Epoch  1 , loss =  2.0928620963773894\n",
      "Conjunto de treinamento: acc =  0.23096 média de g =  0.487378357629776 média de bce =  2.094820827484131 \n",
      "\n",
      "Conjunto de teste: acc =  0.2431 média de g =  0.5009750723600388 média de bce =  2.0865321043014524 \n",
      "\n"
     ]
    }
   ],
   "source": [
    "model_4 = Model_CNN_with_g()\n",
    "model_4 = model_4.to(dev)\n",
    "optimizer = torch.optim.SGD(model_4.parameters(), lr=1e-3)\n",
    "loss_fn = penalized_uncertainty(loss_criterion,np.log(10))\n",
    "\n",
    "model_trainer_4 = Trainer(model_4,optimizer,loss_fn, print_loss = True,keep_hist = True)\n",
    "model_trainer_4.fit_x(train_dataloader,1)\n",
    "model_trainer_4.fit_g(validation_dataloader,40)\n",
    "\n",
    "acc, g, bce = model_metrics(model_4,train_dataloader)\n",
    "print('Conjunto de treinamento: acc = ', acc, 'média de g = ', g, 'média de bce = ', bce, '\\n')\n",
    "acc, g, bce = model_metrics(model_4,test_dataloader)\n",
    "print('Conjunto de teste: acc = ', acc, 'média de g = ', g, 'média de bce = ', bce, '\\n')"
   ]
  },
  {
   "cell_type": "code",
   "execution_count": 13,
   "metadata": {},
   "outputs": [
    {
     "name": "stdout",
     "output_type": "stream",
     "text": [
      "Conjunto de treinamento: acc =  0.2322 média de g =  0.4877837809753418 média de bce =  2.0944531643295288 \n",
      "\n",
      "Conjunto de teste: acc =  0.2431 média de g =  0.5009750723600388 média de bce =  2.0865321043014524 \n",
      "\n"
     ]
    }
   ],
   "source": [
    "acc, g, bce = model_metrics(model_4,train_dataloader)\n",
    "print('Conjunto de treinamento: acc = ', acc, 'média de g = ', g, 'média de bce = ', bce, '\\n')\n",
    "acc, g, bce = model_metrics(model_4,test_dataloader)\n",
    "print('Conjunto de teste: acc = ', acc, 'média de g = ', g, 'média de bce = ', bce, '\\n')"
   ]
  },
  {
   "cell_type": "code",
   "execution_count": 14,
   "metadata": {},
   "outputs": [
    {
     "name": "stdout",
     "output_type": "stream",
     "text": [
      "Epoch  1 , loss =  2.248564677595406\n",
      "Epoch  1 , loss =  2.001881860954519\n",
      "Epoch  1 , loss =  1.7933817044215101\n",
      "Epoch  1 , loss =  1.6686449489071822\n",
      "Epoch  1 , loss =  1.5694906999305205\n",
      "Epoch  1 , loss =  1.4799095298415639\n",
      "Epoch  1 , loss =  1.4061567976698994\n",
      "Epoch  1 , loss =  1.33030879202937\n",
      "Epoch  1 , loss =  1.2610126028334339\n",
      "Epoch  1 , loss =  1.190435975103598\n",
      "Epoch  1 , loss =  1.141828729157942\n",
      "Epoch  1 , loss =  1.085711258458199\n",
      "Epoch  1 , loss =  1.0426982751048228\n",
      "Epoch  1 , loss =  1.004573365970159\n",
      "Epoch  1 , loss =  0.9658204994223397\n",
      "Epoch  1 , loss =  0.9356110652268733\n",
      "Epoch  1 , loss =  0.9015788248813427\n",
      "Epoch  1 , loss =  0.8784583278801185\n",
      "Epoch  1 , loss =  0.8585403390772168\n",
      "Epoch  1 , loss =  0.8385938523469525\n",
      "Epoch  1 , loss =  0.8126199284922367\n",
      "Epoch  1 , loss =  0.7972766857901713\n",
      "Epoch  1 , loss =  0.7762802217420255\n",
      "Epoch  1 , loss =  0.757218562674328\n",
      "Epoch  1 , loss =  0.7442484216410631\n",
      "Epoch  1 , loss =  0.7267912060608677\n",
      "Epoch  1 , loss =  0.7144886572593233\n",
      "Epoch  1 , loss =  0.7074731891284806\n",
      "Epoch  1 , loss =  0.6786707566904473\n",
      "Epoch  1 , loss =  0.6740255393874394\n",
      "Epoch  1 , loss =  0.6606262608604674\n",
      "Epoch  1 , loss =  0.6488351030042842\n",
      "Epoch  1 , loss =  0.6377764264883156\n",
      "Epoch  1 , loss =  0.6248565123071483\n",
      "Epoch  1 , loss =  0.6173636013456046\n",
      "Epoch  1 , loss =  0.6029561998058046\n",
      "Epoch  1 , loss =  0.5931866386683654\n",
      "Epoch  1 , loss =  0.5835613033603769\n",
      "Epoch  1 , loss =  0.5742394058873981\n",
      "Epoch  1 , loss =  0.5665921217631441\n",
      "Epoch  1 , loss =  0.46283614803498857\n",
      "Epoch  1 , loss =  0.46678578761368705\n",
      "Epoch  1 , loss =  0.4625558191534997\n",
      "Epoch  1 , loss =  0.4600544914302922\n",
      "Epoch  1 , loss =  0.4602465793032793\n",
      "Epoch  1 , loss =  0.4684041775763035\n",
      "Epoch  1 , loss =  0.45820139255553427\n",
      "Epoch  1 , loss =  0.46133540264704403\n",
      "Epoch  1 , loss =  0.465169619876112\n",
      "Epoch  1 , loss =  0.4662101051185616\n",
      "Epoch  1 , loss =  0.4646745657051365\n",
      "Epoch  1 , loss =  0.4698730445254215\n",
      "Epoch  1 , loss =  0.4655881028786845\n",
      "Epoch  1 , loss =  0.46761100260172606\n",
      "Epoch  1 , loss =  0.46371938029372073\n",
      "Epoch  1 , loss =  0.46199902988641367\n",
      "Epoch  1 , loss =  0.460181064581974\n",
      "Epoch  1 , loss =  0.45980971285826644\n",
      "Epoch  1 , loss =  0.46411117971401067\n",
      "Epoch  1 , loss =  0.4636037517946764\n",
      "Epoch  1 , loss =  0.46417751930468143\n",
      "Epoch  1 , loss =  0.4605692506422809\n",
      "Epoch  1 , loss =  0.461846006887602\n",
      "Epoch  1 , loss =  0.4658930029956027\n",
      "Epoch  1 , loss =  0.46500669278905166\n",
      "Epoch  1 , loss =  0.46214737608714207\n",
      "Epoch  1 , loss =  0.46548492888314025\n",
      "Epoch  1 , loss =  0.46172262247716167\n",
      "Epoch  1 , loss =  0.4599913091697299\n",
      "Epoch  1 , loss =  0.46381121863130187\n",
      "Epoch  1 , loss =  0.4573746716206797\n",
      "Epoch  1 , loss =  0.4601153090038478\n",
      "Epoch  1 , loss =  0.460656455469509\n",
      "Epoch  1 , loss =  0.46394230328114155\n",
      "Epoch  1 , loss =  0.46449282388569296\n",
      "Epoch  1 , loss =  0.46065045221782003\n",
      "Epoch  1 , loss =  0.4599918318401143\n",
      "Epoch  1 , loss =  0.4651273250572684\n",
      "Epoch  1 , loss =  0.46128469481420725\n",
      "Epoch  1 , loss =  0.4645444765086366\n",
      "Conjunto de treinamento: acc =  0.8404 média de g =  0.7288985133361816 média de bce =  0.46236101181805134 \n",
      "\n",
      "Conjunto de teste: acc =  0.8019 média de g =  0.7499303467988968 média de bce =  0.5840551210790873 \n",
      "\n"
     ]
    }
   ],
   "source": [
    "model_2 = Model_CNN_with_g()\n",
    "model_2 = model_2.to(dev)\n",
    "optimizer = torch.optim.SGD(model_2.parameters(), lr=1e-3)\n",
    "loss_fn = penalized_uncertainty(loss_criterion,np.log(10))\n",
    "\n",
    "model_trainer_2 = Trainer(model_2,optimizer,loss_fn, print_loss = True,keep_hist = True)\n",
    "model_trainer_2.fit_x(train_dataloader,40)\n",
    "model_trainer_2.fit_g(train_dataloader,40)\n",
    "\n",
    "acc, g, bce = model_metrics(model_2,train_dataloader)\n",
    "print('Conjunto de treinamento: acc = ', acc, 'média de g = ', g, 'média de bce = ', bce, '\\n')\n",
    "acc, g, bce = model_metrics(model_2,test_dataloader)\n",
    "print('Conjunto de teste: acc = ', acc, 'média de g = ', g, 'média de bce = ', bce, '\\n')"
   ]
  },
  {
   "cell_type": "code",
   "execution_count": 15,
   "metadata": {},
   "outputs": [
    {
     "data": {
      "text/plain": [
       "0.4665627036035061"
      ]
     },
     "execution_count": 15,
     "metadata": {},
     "output_type": "execute_result"
    }
   ],
   "source": [
    "model_trainer_2.loss_fn.L0"
   ]
  },
  {
   "cell_type": "code",
   "execution_count": 16,
   "metadata": {},
   "outputs": [],
   "source": [
    "for image,label in test_dataloader:\n",
    "    image,label = image.to(dev),label.to(dev)\n",
    "    output = model_3(image)\n",
    "    g = model_3.get_g().cpu().detach().numpy().reshape(-1)\n",
    "    break"
   ]
  },
  {
   "cell_type": "code",
   "execution_count": 17,
   "metadata": {},
   "outputs": [
    {
     "data": {
      "text/plain": [
       "(array([1., 2., 2., 1., 0., 0., 1., 0., 2., 3.]),\n",
       " array([0.2440771 , 0.31793162, 0.39178616, 0.4656407 , 0.5394952 ,\n",
       "        0.61334974, 0.68720424, 0.7610588 , 0.8349133 , 0.9087679 ,\n",
       "        0.9826224 ], dtype=float32),\n",
       " <BarContainer object of 10 artists>)"
      ]
     },
     "execution_count": 17,
     "metadata": {},
     "output_type": "execute_result"
    },
    {
     "data": {
      "image/png": "[encoded data removed]",
      "text/plain": [
       "<Figure size 432x288 with 1 Axes>"
      ]
     },
     "metadata": {
      "needs_background": "light"
     },
     "output_type": "display_data"
    }
   ],
   "source": [
    "plt.hist(g)"
   ]
  },
  {
   "cell_type": "code",
   "execution_count": 18,
   "metadata": {},
   "outputs": [
    {
     "data": {
      "text/plain": [
       "[<matplotlib.lines.Line2D at 0x7effc8340940>]"
      ]
     },
     "execution_count": 18,
     "metadata": {},
     "output_type": "execute_result"
    },
    {
     "data": {
      "image/png": "[encoded data removed]",
      "text/plain": [
       "<Figure size 432x288 with 1 Axes>"
      ]
     },
     "metadata": {
      "needs_background": "light"
     },
     "output_type": "display_data"
    }
   ],
   "source": [
    "plt.plot(model_trainer_3.g_list)\n",
    "plt.plot(model_trainer_3.acc_list)\n",
    "plt.plot(model_trainer_3.bce_list)"
   ]
  },
  {
   "cell_type": "code",
   "execution_count": 19,
   "metadata": {},
   "outputs": [
    {
     "data": {
      "text/plain": [
       "<matplotlib.legend.Legend at 0x7effc82a6970>"
      ]
     },
     "execution_count": 19,
     "metadata": {},
     "output_type": "execute_result"
    },
    {
     "data": {
      "image/png": "[encoded data removed]",
      "text/plain": [
       "<Figure size 432x288 with 1 Axes>"
      ]
     },
     "metadata": {
      "needs_background": "light"
     },
     "output_type": "display_data"
    }
   ],
   "source": [
    "plt.plot(model_trainer_2.g_list)\n",
    "plt.plot(model_trainer_2.acc_list)\n",
    "plt.plot(model_trainer_2.bce_list,label = 'bce')\n",
    "plt.legend()"
   ]
  },
  {
   "cell_type": "code",
   "execution_count": 20,
   "metadata": {},
   "outputs": [
    {
     "data": {
      "text/plain": [
       "[<matplotlib.lines.Line2D at 0x7effc8214e50>]"
      ]
     },
     "execution_count": 20,
     "metadata": {},
     "output_type": "execute_result"
    },
    {
     "data": {
      "image/png": "[encoded data removed]",
      "text/plain": [
       "<Figure size 432x288 with 1 Axes>"
      ]
     },
     "metadata": {
      "needs_background": "light"
     },
     "output_type": "display_data"
    }
   ],
   "source": [
    "plt.plot(model_trainer_4.g_list)\n",
    "plt.plot(model_trainer_4.acc_list)\n",
    "plt.plot(model_trainer_4.bce_list)"
   ]
  },
  {
   "cell_type": "code",
   "execution_count": 28,
   "metadata": {},
   "outputs": [],
   "source": [
    "\n",
    "uncertainties = ['MCP']\n",
    "\n",
    "for uncertainty in uncertainties:\n",
    "    acc_list = []\n",
    "        \n",
    "    model_3.eval()\n",
    "    total = 0\n",
    "    correct= 0\n",
    "    mcp_list = []\n",
    "    g_list = []\n",
    "    output_list = torch.Tensor([]).to(dev)\n",
    "    label_list = torch.Tensor([]).to(dev)\n",
    "    for image,label in validation_dataloader:\n",
    "        image,label = image.to(dev), label.to(dev)\n",
    "        \n",
    "        label_list = torch.cat((label_list,label))\n",
    "        output = torch.exp(model_3(image))\n",
    "        output_list = torch.cat((output_list,output))\n",
    "\n",
    "        uncer = unc.MCP_unc(output).tolist()\n",
    "        mcp_list.extend(uncer)\n",
    "\n",
    "        uncer = (1-model_3.get_g().view(-1)).tolist()\n",
    "        g_list.extend(uncer)\n",
    "\n",
    "        #uncer = 1-model_3.get_g()\n",
    "    mcp_list = torch.Tensor(mcp_list)\n",
    "        \n",
    "\n",
    "    g_list = torch.Tensor(g_list)\n",
    "            \n",
    "            \n",
    "        \n",
    "g_list = g_list.view(-1)"
   ]
  },
  {
   "cell_type": "code",
   "execution_count": 22,
   "metadata": {},
   "outputs": [],
   "source": [
    "g_list = g_list.view(-1)"
   ]
  },
  {
   "cell_type": "code",
   "execution_count": 23,
   "metadata": {},
   "outputs": [],
   "source": [
    "acc_list_mcp = []\n",
    "acc_list_g = []\n",
    "for c in np.arange(0,1,0.05):\n",
    "    dk_mcp = unc_comp.dontknow_mask(output_list,uncertainty = mcp_list, coverage = c)\n",
    "    dk_mcp = dk_mcp.to(dev)\n",
    "    dk_g = unc_comp.dontknow_mask(output_list,uncertainty = g_list, coverage = c)\n",
    "    dk_g = dk_g.to(dev)\n",
    "    \n",
    "    output, label = apply_mask(output_list,label_list,1-dk_mcp)\n",
    "    correct = correct_total(output,label)\n",
    "    total = output.size(0)\n",
    "\n",
    "    acc_list_mcp.append(correct*100/total)\n",
    "\n",
    "    output, label = apply_mask(output_list,label_list,1-dk_g)\n",
    "    correct = correct_total(output,label)\n",
    "    total = output.size(0)\n",
    "    \n",
    "    acc_list_g.append(correct*100/total)\n",
    "    \n",
    "    "
   ]
  },
  {
   "cell_type": "code",
   "execution_count": 24,
   "metadata": {},
   "outputs": [
    {
     "data": {
      "image/png": "[encoded data removed]",
      "text/plain": [
       "<Figure size 432x288 with 1 Axes>"
      ]
     },
     "metadata": {
      "needs_background": "light"
     },
     "output_type": "display_data"
    }
   ],
   "source": [
    "plt.plot( np.arange(0,1,0.05),acc_list_mcp,label = 'MCP')\n",
    "plt.plot( np.arange(0,1,0.05),acc_list_g, label = 'g')\n",
    "plt.legend()\n",
    "plt.grid()\n",
    "plt.show()"
   ]
  },
  {
   "cell_type": "code",
   "execution_count": 25,
   "metadata": {},
   "outputs": [
    {
     "data": {
      "text/plain": [
       "(array([2410., 2187., 1843., 1678., 1696., 2186., 3486., 5661., 3661.,\n",
       "         192.]),\n",
       " array([4.45902348e-04, 8.47466707e-02, 1.69047439e-01, 2.53348207e-01,\n",
       "        3.37648976e-01, 4.21949744e-01, 5.06250513e-01, 5.90551281e-01,\n",
       "        6.74852049e-01, 7.59152818e-01, 8.43453586e-01]),\n",
       " <BarContainer object of 10 artists>)"
      ]
     },
     "execution_count": 25,
     "metadata": {},
     "output_type": "execute_result"
    },
    {
     "data": {
      "image/png": "[encoded data removed]",
      "text/plain": [
       "<Figure size 432x288 with 1 Axes>"
      ]
     },
     "metadata": {
      "needs_background": "light"
     },
     "output_type": "display_data"
    }
   ],
   "source": [
    "plt.hist(g_list.view(-1).tolist())"
   ]
  },
  {
   "cell_type": "code",
   "execution_count": 26,
   "metadata": {},
   "outputs": [
    {
     "data": {
      "text/plain": [
       "torch.Size([25000])"
      ]
     },
     "execution_count": 26,
     "metadata": {},
     "output_type": "execute_result"
    }
   ],
   "source": [
    "g_list.shape"
   ]
  },
  {
   "cell_type": "code",
   "execution_count": null,
   "metadata": {},
   "outputs": [],
   "source": []
  }
 ],
 "metadata": {
  "kernelspec": {
   "display_name": "Python 3",
   "language": "python",
   "name": "python3"
  },
  "language_info": {
   "codemirror_mode": {
    "name": "ipython",
    "version": 3
   },
   "file_extension": ".py",
   "mimetype": "text/x-python",
   "name": "python",
   "nbconvert_exporter": "python",
   "pygments_lexer": "ipython3",
   "version": "3.8.5"
  }
 },
 "nbformat": 4,
 "nbformat_minor": 4
}
