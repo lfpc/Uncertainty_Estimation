{
 "cells": [
  {
   "cell_type": "code",
   "execution_count": 1,
   "metadata": {
    "_cell_guid": "b1076dfc-b9ad-4769-8c92-a6c4dae69d19",
    "_uuid": "8f2839f25d086af736a60e9eeb907d3b93b6e0e5"
   },
   "outputs": [],
   "source": [
    "import torch\n",
    "import numpy as np\n",
    "import pandas as pd\n",
    "import matplotlib\n",
    "from matplotlib import pyplot as plt\n",
    "import torchvision\n",
    "from torch import nn\n",
    "from torch.utils.data import DataLoader\n",
    "from torchvision import datasets\n",
    "import torchvision.transforms as transforms\n",
    "from torchvision.transforms import ToTensor, Lambda, Compose, Normalize\n",
    "from collections import defaultdict\n",
<<<<<<< HEAD
<<<<<<< HEAD
<<<<<<< HEAD
    "from torch.utils.data import random_split\n",
    "import copy\n",
    "\n",
    "from NN_utils import *\n",
    "from NN_utils.train_and_eval import *\n",
    "from uncertainty import train_NN_with_g\n",
    "from uncertainty.losses import penalized_uncertainty\n",
    "import uncertainty.comparison as unc_comp\n",
    "import uncertainty.quantifications as unc\n",
    "\n"
=======
    "from torch.utils.data import random_split"
>>>>>>> 38c7beaaad146b7a125010a1f849c8364dedd4bd
=======
    "from torch.utils.data import random_split"
>>>>>>> 38c7beaaad146b7a125010a1f849c8364dedd4bd
=======
    "from torch.utils.data import random_split"
>>>>>>> 38c7beaaad146b7a125010a1f849c8364dedd4bd
   ]
  },
  {
   "cell_type": "code",
<<<<<<< HEAD
<<<<<<< HEAD
<<<<<<< HEAD
   "execution_count": 2,
   "metadata": {},
   "outputs": [
    {
     "name": "stdout",
     "output_type": "stream",
     "text": [
      "True\n"
     ]
    }
   ],
=======
   "execution_count": null,
   "metadata": {},
   "outputs": [],
>>>>>>> 38c7beaaad146b7a125010a1f849c8364dedd4bd
=======
   "execution_count": null,
   "metadata": {},
   "outputs": [],
>>>>>>> 38c7beaaad146b7a125010a1f849c8364dedd4bd
=======
   "execution_count": null,
   "metadata": {},
   "outputs": [],
>>>>>>> 38c7beaaad146b7a125010a1f849c8364dedd4bd
   "source": [
    "print(torch.cuda.is_available())\n",
    "dev = torch.device(\"cuda\") if torch.cuda.is_available() else torch.device(\"cpu\")"
   ]
  },
  {
   "cell_type": "code",
<<<<<<< HEAD
<<<<<<< HEAD
<<<<<<< HEAD
   "execution_count": 3,
   "metadata": {},
   "outputs": [
    {
     "name": "stdout",
     "output_type": "stream",
     "text": [
      "Files already downloaded and verified\n",
      "Files already downloaded and verified\n"
     ]
    }
   ],
=======
   "execution_count": null,
   "metadata": {},
   "outputs": [],
>>>>>>> 38c7beaaad146b7a125010a1f849c8364dedd4bd
=======
   "execution_count": null,
   "metadata": {},
   "outputs": [],
>>>>>>> 38c7beaaad146b7a125010a1f849c8364dedd4bd
=======
   "execution_count": null,
   "metadata": {},
   "outputs": [],
>>>>>>> 38c7beaaad146b7a125010a1f849c8364dedd4bd
   "source": [
    "transforms_train = transforms.Compose([\n",
    "    transforms.RandomCrop(32, padding=4),\n",
    "    transforms.RandomHorizontalFlip(),\n",
    "    transforms.ToTensor(),\n",
    "    transforms.Normalize((0.4914, 0.4822, 0.4465), (0.2023, 0.1994, 0.2010)),\n",
    "])\n",
    "\n",
    "transforms_ = transforms.Compose([\n",
    "    transforms.ToTensor(),\n",
    "    transforms.Normalize((0.4914, 0.4822, 0.4465), (0.2023, 0.1994, 0.2010)),\n",
    "])\n",
    "\n",
    "\n",
    "training_data = datasets.CIFAR10(\n",
    "    root=\"data\",\n",
    "    train=True,\n",
    "    download=True,\n",
    "    transform=transforms_train,\n",
    ")\n",
    "\n",
    "# Download test data from open datasets.\n",
    "test_data = datasets.CIFAR10(\n",
    "    root=\"data\",\n",
    "    train=False,\n",
    "    download=True,\n",
    "    transform=transforms_,\n",
    ")\n",
    "\n",
    "train_size = int(0.5*len(training_data))\n",
    "val_size = len(training_data) - train_size\n",
    "training_data, validation_data = random_split(training_data, [train_size, val_size])"
   ]
  },
  {
   "cell_type": "code",
<<<<<<< HEAD
<<<<<<< HEAD
<<<<<<< HEAD
   "execution_count": 4,
   "metadata": {},
   "outputs": [
    {
     "name": "stdout",
     "output_type": "stream",
     "text": [
      "Shape of X [N, C, H, W]:  torch.Size([12, 3, 32, 32])\n",
      "Shape of y:  torch.Size([12]) torch.int64\n"
     ]
    }
   ],
=======
   "execution_count": null,
   "metadata": {},
   "outputs": [],
>>>>>>> 38c7beaaad146b7a125010a1f849c8364dedd4bd
=======
   "execution_count": null,
   "metadata": {},
   "outputs": [],
>>>>>>> 38c7beaaad146b7a125010a1f849c8364dedd4bd
=======
   "execution_count": null,
   "metadata": {},
   "outputs": [],
>>>>>>> 38c7beaaad146b7a125010a1f849c8364dedd4bd
   "source": [
    "batch_size = 12\n",
    "\n",
    "\n",
    "# Create data loaders.\n",
    "train_dataloader = DataLoader(training_data, batch_size=batch_size,shuffle = True)\n",
    "validation_dataloader = DataLoader(validation_data, batch_size=batch_size,shuffle = True)\n",
    "test_dataloader = DataLoader(test_data, batch_size=100)\n",
    "\n",
<<<<<<< HEAD
<<<<<<< HEAD
<<<<<<< HEAD
    "image,label = next(iter(train_dataloader))\n",
    "image,label = image.to(dev),label.to(dev)\n",
    "print(\"Shape of X [N, C, H, W]: \", image.shape)\n",
    "print(\"Shape of y: \", label.shape, label.dtype)\n",
=======
=======
>>>>>>> 38c7beaaad146b7a125010a1f849c8364dedd4bd
=======
>>>>>>> 38c7beaaad146b7a125010a1f849c8364dedd4bd
    "for X, y in train_dataloader:\n",
    "    print(\"Shape of X [N, C, H, W]: \", X.shape)\n",
    "    print(\"Shape of y: \", y.shape, y.dtype)\n",
    "    break\n",
<<<<<<< HEAD
<<<<<<< HEAD
>>>>>>> 38c7beaaad146b7a125010a1f849c8364dedd4bd
=======
>>>>>>> 38c7beaaad146b7a125010a1f849c8364dedd4bd
=======
>>>>>>> 38c7beaaad146b7a125010a1f849c8364dedd4bd
    "\n",
    "classes = ('plane', 'car', 'bird', 'cat',\n",
    "           'deer', 'dog', 'frog', 'horse', 'ship', 'truck')"
   ]
  },
  {
   "cell_type": "code",
<<<<<<< HEAD
<<<<<<< HEAD
<<<<<<< HEAD
   "execution_count": 5,
   "metadata": {
    "collapsed": true,
    "jupyter": {
     "outputs_hidden": true
    }
   },
   "outputs": [
    {
     "name": "stdout",
     "output_type": "stream",
     "text": [
      "Model_CNN_with_g(\n",
      "  (conv_layer): Sequential(\n",
      "    (0): Conv2d(3, 32, kernel_size=(3, 3), stride=(1, 1), padding=(1, 1))\n",
      "    (1): BatchNorm2d(32, eps=1e-05, momentum=0.1, affine=True, track_running_stats=True)\n",
      "    (2): ReLU(inplace=True)\n",
      "    (3): Conv2d(32, 64, kernel_size=(3, 3), stride=(1, 1), padding=(1, 1))\n",
      "    (4): ReLU(inplace=True)\n",
      "    (5): MaxPool2d(kernel_size=2, stride=2, padding=0, dilation=1, ceil_mode=False)\n",
      "    (6): Conv2d(64, 128, kernel_size=(3, 3), stride=(1, 1), padding=(1, 1))\n",
      "    (7): BatchNorm2d(128, eps=1e-05, momentum=0.1, affine=True, track_running_stats=True)\n",
      "    (8): ReLU(inplace=True)\n",
      "    (9): Conv2d(128, 128, kernel_size=(3, 3), stride=(1, 1), padding=(1, 1))\n",
      "    (10): ReLU(inplace=True)\n",
      "    (11): MaxPool2d(kernel_size=2, stride=2, padding=0, dilation=1, ceil_mode=False)\n",
      "    (12): Dropout2d(p=0.2, inplace=False)\n",
      "    (13): Conv2d(128, 256, kernel_size=(3, 3), stride=(1, 1), padding=(1, 1))\n",
      "    (14): BatchNorm2d(256, eps=1e-05, momentum=0.1, affine=True, track_running_stats=True)\n",
      "    (15): ReLU(inplace=True)\n",
      "    (16): Conv2d(256, 256, kernel_size=(3, 3), stride=(1, 1), padding=(1, 1))\n",
      "    (17): ReLU(inplace=True)\n",
      "    (18): MaxPool2d(kernel_size=2, stride=2, padding=0, dilation=1, ceil_mode=False)\n",
      "  )\n",
      "  (fc_x_layer): Sequential(\n",
      "    (0): Dropout(p=0.2, inplace=False)\n",
      "    (1): Linear(in_features=4096, out_features=1024, bias=True)\n",
      "    (2): ReLU(inplace=True)\n",
      "    (3): Linear(in_features=1024, out_features=512, bias=True)\n",
      "    (4): ReLU(inplace=True)\n",
      "    (5): Dropout(p=0.2, inplace=False)\n",
      "    (6): Linear(in_features=512, out_features=10, bias=True)\n",
      "    (7): LogSoftmax(dim=1)\n",
      "  )\n",
      "  (fc_g_layer): Sequential(\n",
      "    (0): Dropout(p=0.2, inplace=False)\n",
      "    (1): Linear(in_features=4096, out_features=1024, bias=True)\n",
      "    (2): ReLU(inplace=True)\n",
      "    (3): Linear(in_features=1024, out_features=512, bias=True)\n",
      "    (4): ReLU(inplace=True)\n",
      "    (5): Dropout(p=0.2, inplace=False)\n",
      "    (6): Linear(in_features=512, out_features=1, bias=True)\n",
      "    (7): Sigmoid()\n",
      "  )\n",
      ")\n"
     ]
    }
   ],
   "source": [
    "from NN_models.CIFAR10 import Model_CNN_with_g \n",
    "model = Model_CNN_with_g()\n",
=======
=======
>>>>>>> 38c7beaaad146b7a125010a1f849c8364dedd4bd
=======
>>>>>>> 38c7beaaad146b7a125010a1f849c8364dedd4bd
   "execution_count": null,
   "metadata": {},
   "outputs": [],
   "source": [
    "# Define model\n",
    "class Model_NN(nn.Module):\n",
    "    \"\"\"CNN.\"\"\"\n",
    "\n",
    "    def __init__(self):\n",
    "        \"\"\"CNN Builder.\"\"\"\n",
    "        super().__init__()\n",
    "\n",
    "        self.conv_layer = nn.Sequential(\n",
    "\n",
    "            # Conv Layer block 1\n",
    "            nn.Conv2d(in_channels=3, out_channels=int(32), kernel_size=3, padding=1),\n",
    "            nn.BatchNorm2d(int(32)),\n",
    "            nn.ReLU(inplace=True),\n",
    "            nn.Conv2d(in_channels=int(32), out_channels=int(64), kernel_size=3, padding=1),\n",
    "            nn.ReLU(inplace=True),\n",
    "            nn.MaxPool2d(kernel_size=2, stride=2),\n",
    "\n",
    "            # Conv Layer block 2\n",
    "            nn.Conv2d(in_channels=int(64), out_channels=int(128), kernel_size=3, padding=1),\n",
    "            nn.BatchNorm2d(int(128)),\n",
    "            nn.ReLU(inplace=True),\n",
    "            nn.Conv2d(in_channels=int(128), out_channels=int(128), kernel_size=3, padding=1),\n",
    "            nn.ReLU(inplace=True),\n",
    "            nn.MaxPool2d(kernel_size=2, stride=2),\n",
    "            nn.Dropout2d(p=0.2),\n",
    "\n",
    "            # Conv Layer block 3\n",
    "            nn.Conv2d(in_channels=int(128), out_channels=int(256), kernel_size=3, padding=1),\n",
    "            nn.BatchNorm2d(int(256)),\n",
    "            nn.ReLU(inplace=True),\n",
    "            nn.Conv2d(in_channels=int(256), out_channels=int(256), kernel_size=3, padding=1),\n",
    "            nn.ReLU(inplace=True),\n",
    "            nn.MaxPool2d(kernel_size=2, stride=2),\n",
    "        )\n",
    "\n",
    "        self.fc_x_layer = nn.Sequential(\n",
    "            nn.Dropout(p=0.2),\n",
    "            nn.Linear(4096, int(1024)),\n",
    "            nn.ReLU(inplace=True),\n",
    "            nn.Linear(int(1024), int(512)),\n",
    "            nn.ReLU(inplace=True),\n",
    "            nn.Dropout(p=0.2),\n",
    "            nn.Linear(int(512), 10),\n",
    "            nn.LogSoftmax(dim=1)\n",
    "        )\n",
    "        \n",
    "        self.fc_g_layer = nn.Sequential(\n",
    "            nn.Dropout(p=0.2),\n",
    "            nn.Linear(4096, int(1024)),\n",
    "            nn.ReLU(inplace=True),\n",
    "            nn.Linear(int(1024), int(512)),\n",
    "            nn.ReLU(inplace=True),\n",
    "            nn.Dropout(p=0.2),\n",
    "            nn.Linear(int(512), 1),\n",
    "            nn.Sigmoid()\n",
    "        )\n",
    "\n",
    "\n",
    "    def forward(self, x):\n",
    "        \"\"\"Perform forward.\"\"\"\n",
    "        \n",
    "        # conv layers\n",
    "        x = self.conv_layer(x)\n",
    "        \n",
    "        # flatten\n",
    "        x = x.view(x.size(0), -1)\n",
    "        \n",
    "        # fc layer\n",
    "        #x = self.fc_layer(x)\n",
    "\n",
    "\n",
    "        y = self.fc_x_layer(x)\n",
    "\n",
    "        self.g = self.fc_g_layer(x)\n",
    "\n",
    "        #x = torch.stack((self.x1,self.g))\n",
    "        self.g = (self.g).float()\n",
    "        y = y.float()\n",
    "\n",
    "        \n",
    "\n",
    "        return y\n",
    "    def get_g(self):\n",
    "        return self.g\n",
    "      \n",
    "\n",
    "model = Model_NN()\n",
<<<<<<< HEAD
<<<<<<< HEAD
>>>>>>> 38c7beaaad146b7a125010a1f849c8364dedd4bd
=======
>>>>>>> 38c7beaaad146b7a125010a1f849c8364dedd4bd
=======
>>>>>>> 38c7beaaad146b7a125010a1f849c8364dedd4bd
    "model = model.to(dev)\n",
    "print(model)"
   ]
  },
  {
   "cell_type": "code",
<<<<<<< HEAD
<<<<<<< HEAD
<<<<<<< HEAD
   "execution_count": 24,
   "metadata": {},
   "outputs": [],
   "source": [
    "class Trainer(nn.Module):\n",
    "    def __init__(self,model,optimizer,loss_criterion, print_loss = True,keep_hist = True):\n",
    "        # adaptar keep hist para definir oq manter\n",
    "        super().__init__()\n",
    "        self.model = model\n",
    "        self.optimizer = optimizer\n",
    "        self.loss_fn = loss_criterion\n",
    "        self.print_loss = print_loss\n",
    "        self.keep_hist = keep_hist\n",
    "\n",
    "        self.g_list = []\n",
    "        self.acc_list = []\n",
    "        self.bce_list = []\n",
    "        \n",
    "    def fit(self,data,n_epochs):\n",
    "        for epoch in range(1,n_epochs+1):\n",
    "            train_NN_with_g(self.model,self.optimizer,data,self.loss_fn,1, self.print_loss, set_train_mode = True)\n",
    "            if self.keep_hist:\n",
    "                self.update_hist(data)\n",
    "                \n",
    "        \n",
    "    def fit_x(self,data,n_epochs,ignored_layers = ['fc_g_layer']):\n",
    "        loss_criterion = copy.copy(self.loss_fn.criterion)\n",
    "        loss_criterion.reduction = 'mean'\n",
    "        ignore_layers(model,ignored_layers,reset = True)\n",
    "        for epoch in range(1,n_epochs+1):\n",
    "            train_NN(self.model,self.optimizer,data,loss_criterion,1, self.print_loss, set_train_mode = True)\n",
    "            if self.keep_hist:\n",
    "                    self.update_hist(data)\n",
    "                \n",
    "    def fit_g(self,data,n_epochs,ignored_layers = ['conv_layer','fc_x_layer']):\n",
    "        try:\n",
    "            self.loss_fn.update_L0(self.bce_list[-1])\n",
    "        except:\n",
    "            self.loss_fn.update_L0(np.log(10))\n",
    "        ignore_layers(model,ignored_layers, reset = True)\n",
    "        for epoch in range(1,n_epochs+1):\n",
    "            train_NN_with_g(self.model,self.optimizer,data,self.loss_fn,1, self.print_loss, set_train_mode = True)\n",
    "            if self.keep_hist:\n",
    "                    self.update_hist(data)\n",
    "                \n",
    "            self.loss_fn.update_L0(self.bce_list[-1])\n",
    "            \n",
    "    def update_hist(self,data):\n",
    "        acc, g, bce =  model_metrics(self.model,data)\n",
    "        self.g_list.append(g)\n",
    "        self.acc_list.append(acc)\n",
    "        self.bce_list.append(bce)\n",
    "        \n",
    "        \n",
    "        \n",
    "        \n",
    "        \n",
    "\n",
    "\n",
    "def model_metrics(model,data):\n",
=======
=======
>>>>>>> 38c7beaaad146b7a125010a1f849c8364dedd4bd
=======
>>>>>>> 38c7beaaad146b7a125010a1f849c8364dedd4bd
   "execution_count": null,
   "metadata": {},
   "outputs": [],
   "source": [
    "def freeze_params(model, name = None):\n",
    "    for n,param in model.named_parameters():\n",
    "        if name ==None:\n",
    "            param.requires_grad = False\n",
    "        elif name in n:\n",
    "            param.requires_grad = False\n",
    "def unfreeze_params(model, name = None):\n",
    "    for n,param in model.named_parameters():\n",
    "        if name == None:\n",
    "            param.requires_grad = True\n",
    "        elif name in n:\n",
    "            param.requires_grad = True"
   ]
  },
  {
   "cell_type": "code",
   "execution_count": null,
   "metadata": {},
   "outputs": [],
   "source": [
    "\n",
    "class rejection_loss(nn.Module):\n",
    "    def __init__(self,criterion, def_loss, no_grad= True):\n",
    "        super().__init__()\n",
    "        self.L0 = def_loss\n",
    "        self.criterion = criterion\n",
    "        self.no_grad = no_grad\n",
    " \n",
    "    def forward(self, y_pred,g,y_true):\n",
    "        \n",
    "        loss = g*self.criterion(y_pred,y_true)+(1-g)*self.L0\n",
    "        loss = torch.mean(loss)\n",
    "        \n",
    "        return loss\n",
    "    def update_L0(self,new_L0):\n",
    "        if self.no_grad:\n",
    "            with torch.no_grad():\n",
    "                self.L0 = new_L0\n",
    "        else: self.L0 = new_L0"
   ]
  },
  {
   "cell_type": "code",
   "execution_count": null,
   "metadata": {},
   "outputs": [],
   "source": [
    "\n",
    "def predicted_class(y_pred):\n",
    "    '''Returns the predicted class for a given softmax output.'''\n",
    "    if y_pred.shape[-1] == 1:\n",
    "        y_pred = y_pred.view(-1)\n",
    "        y_pred = (y_pred>0.5).float()\n",
    "        \n",
    "    else:\n",
    "        y_pred = torch.max(y_pred, 1)[1]\n",
    "    return y_pred\n",
    "def correct_class(y_pred,y_true):\n",
    "    '''Returns a bool tensor indicating if each prediction is correct'''\n",
    "\n",
    "    y_pred = predicted_class(y_pred)\n",
    "    correct = (y_pred==y_true)\n",
    "    \n",
    "    return correct\n",
    "def correct_total(y_pred,y_true):\n",
    "    '''Returns the number of correct predictions in a batch where dk_mask=0'''\n",
    "    correct = correct_class(y_pred,y_true)\n",
    "    correct_total = torch.sum(correct).item()\n",
    "    return correct_total\n"
   ]
  },
  {
   "cell_type": "code",
   "execution_count": null,
   "metadata": {},
   "outputs": [],
   "source": [
    "def model_acc_g(model,data):\n",
<<<<<<< HEAD
<<<<<<< HEAD
>>>>>>> 38c7beaaad146b7a125010a1f849c8364dedd4bd
=======
>>>>>>> 38c7beaaad146b7a125010a1f849c8364dedd4bd
=======
>>>>>>> 38c7beaaad146b7a125010a1f849c8364dedd4bd
    "    '''Returns the total accuracy of model in some dataset'''\n",
    "    loss_criterion = nn.NLLLoss(reduction = 'sum')\n",
    "    model.eval()\n",
    "    dev = next(model.parameters()).device\n",
    "    total = 0\n",
    "    correct= 0\n",
    "    g_i = 0\n",
    "    bce = 0\n",
    "    with torch.no_grad():\n",
    "        for image,label in data:\n",
    "            image,label = image.to(dev), label.to(dev)\n",
    "            output = model(image)\n",
    "            g = model.get_g()\n",
    "            total += label.size(0)\n",
    "            correct += correct_total(output,label)\n",
    "            g_i += torch.sum(g).item()\n",
    "            bce += loss_criterion(output,label).item()\n",
    "        \n",
    "    return (correct/total),g_i/total, bce/total"
   ]
  },
  {
   "cell_type": "code",
<<<<<<< HEAD
<<<<<<< HEAD
<<<<<<< HEAD
   "execution_count": 25,
   "metadata": {},
   "outputs": [
    {
     "name": "stdout",
     "output_type": "stream",
     "text": [
      "Epoch  1 , loss =  2.296064248583825\n",
      "Epoch  1 , loss =  2.2084027543063356\n",
      "Epoch  1 , loss =  1.913609494288915\n",
      "Epoch  1 , loss =  1.7378593460726417\n",
      "Epoch  1 , loss =  1.624718855415791\n",
      "Epoch  1 , loss =  1.5366224493552536\n",
      "Epoch  1 , loss =  1.4522774165742915\n",
      "Epoch  1 , loss =  1.3805204536372548\n",
      "Epoch  1 , loss =  1.317987400845351\n",
      "Epoch  1 , loss =  1.2529897999569002\n",
      "Epoch  1 , loss =  1.1867227330946877\n",
      "Epoch  1 , loss =  1.1380689608616015\n",
      "Epoch  1 , loss =  1.0889408717972304\n",
      "Epoch  1 , loss =  1.0567709423472922\n",
      "Epoch  1 , loss =  1.0157125926435338\n",
      "Epoch  1 , loss =  0.9806016084600433\n",
      "Epoch  1 , loss =  0.9531693772382448\n",
      "Epoch  1 , loss =  0.9272417682017452\n",
      "Epoch  1 , loss =  0.8920284155005457\n",
      "Epoch  1 , loss =  0.8731756221767579\n",
      "Epoch  1 , loss =  0.8545516670079126\n",
      "Epoch  1 , loss =  0.8286742461441289\n",
      "Epoch  1 , loss =  0.8066683714912629\n",
      "Epoch  1 , loss =  0.7952085838951671\n",
      "Epoch  1 , loss =  0.779535478288433\n",
      "Epoch  1 , loss =  0.7565694181051913\n",
      "Epoch  1 , loss =  0.7450234509053535\n",
      "Epoch  1 , loss =  0.7228265473808586\n",
      "Epoch  1 , loss =  0.7173393583407843\n",
      "Epoch  1 , loss =  0.7011841884322622\n",
      "Conjunto de treinamento: acc =  0.7838 média de g =  0.9996933382129669 média de bce =  0.6232818145895004 \n",
      "\n",
      "Conjunto de teste: acc =  0.7618 média de g =  0.9998640281677246 média de bce =  0.6822031387329102 \n",
      "\n"
     ]
    }
   ],
   "source": [
    "model = Model_CNN_with_g()\n",
    "model = model.to(dev)\n",
    "optimizer = torch.optim.SGD(model.parameters(), lr=1e-3)\n",
    "\n",
    "loss_criterion = nn.NLLLoss(reduction = 'none')\n",
    "loss_fn = penalized_uncertainty(loss_criterion,np.log(10))\n",
    "\n",
    "model_trainer = Trainer(model,optimizer,loss_fn, print_loss = True,keep_hist = True)\n",
    "model_trainer.fit(train_dataloader,30)\n",
    "acc, g, bce = model_metrics(model,train_dataloader)\n",
    "print('Conjunto de treinamento: acc = ', acc, 'média de g = ', g, 'média de bce = ', bce, '\\n')\n",
    "acc, g, bce = model_metrics(model,test_dataloader)\n",
    "print('Conjunto de teste: acc = ', acc, 'média de g = ', g, 'média de bce = ', bce, '\\n')"
   ]
  },
  {
   "cell_type": "code",
   "execution_count": 26,
   "metadata": {},
   "outputs": [
    {
     "name": "stdout",
     "output_type": "stream",
     "text": [
      "Epoch  1 , loss =  0.6908977456612516\n",
      "Epoch  1 , loss =  0.6723191991355449\n",
      "Epoch  1 , loss =  0.6618233226532843\n",
      "Epoch  1 , loss =  0.6514767771604651\n",
      "Epoch  1 , loss =  0.6390471769364519\n",
      "Epoch  1 , loss =  0.6228378652907808\n",
      "Epoch  1 , loss =  0.6184420249533916\n",
      "Epoch  1 , loss =  0.6023707333380167\n"
     ]
    },
    {
     "ename": "KeyboardInterrupt",
     "evalue": "",
     "output_type": "error",
     "traceback": [
      "\u001b[0;31m---------------------------------------------------------------------------\u001b[0m",
      "\u001b[0;31mKeyboardInterrupt\u001b[0m                         Traceback (most recent call last)",
      "\u001b[0;32m<ipython-input-26-cf5baa908cd0>\u001b[0m in \u001b[0;36m<module>\u001b[0;34m\u001b[0m\n\u001b[1;32m      4\u001b[0m \u001b[0;34m\u001b[0m\u001b[0m\n\u001b[1;32m      5\u001b[0m \u001b[0mmodel_trainer_2\u001b[0m \u001b[0;34m=\u001b[0m \u001b[0mTrainer\u001b[0m\u001b[0;34m(\u001b[0m\u001b[0mmodel_2\u001b[0m\u001b[0;34m,\u001b[0m\u001b[0moptimizer\u001b[0m\u001b[0;34m,\u001b[0m\u001b[0mloss_fn\u001b[0m\u001b[0;34m,\u001b[0m \u001b[0mprint_loss\u001b[0m \u001b[0;34m=\u001b[0m \u001b[0;32mTrue\u001b[0m\u001b[0;34m,\u001b[0m\u001b[0mkeep_hist\u001b[0m \u001b[0;34m=\u001b[0m \u001b[0;32mTrue\u001b[0m\u001b[0;34m)\u001b[0m\u001b[0;34m\u001b[0m\u001b[0;34m\u001b[0m\u001b[0m\n\u001b[0;32m----> 6\u001b[0;31m \u001b[0mmodel_trainer_2\u001b[0m\u001b[0;34m.\u001b[0m\u001b[0mfit_x\u001b[0m\u001b[0;34m(\u001b[0m\u001b[0mtrain_dataloader\u001b[0m\u001b[0;34m,\u001b[0m\u001b[0;36m30\u001b[0m\u001b[0;34m)\u001b[0m\u001b[0;34m\u001b[0m\u001b[0;34m\u001b[0m\u001b[0m\n\u001b[0m\u001b[1;32m      7\u001b[0m \u001b[0mmodel_trainer_2\u001b[0m\u001b[0;34m.\u001b[0m\u001b[0mfit_g\u001b[0m\u001b[0;34m(\u001b[0m\u001b[0mtrain_dataloader\u001b[0m\u001b[0;34m,\u001b[0m\u001b[0;36m15\u001b[0m\u001b[0;34m)\u001b[0m\u001b[0;34m\u001b[0m\u001b[0;34m\u001b[0m\u001b[0m\n\u001b[1;32m      8\u001b[0m \u001b[0;34m\u001b[0m\u001b[0m\n",
      "\u001b[0;32m<ipython-input-24-b4c0696fe86e>\u001b[0m in \u001b[0;36mfit_x\u001b[0;34m(self, data, n_epochs, ignored_layers)\u001b[0m\n\u001b[1;32m     25\u001b[0m         \u001b[0mignore_layers\u001b[0m\u001b[0;34m(\u001b[0m\u001b[0mmodel\u001b[0m\u001b[0;34m,\u001b[0m\u001b[0mignored_layers\u001b[0m\u001b[0;34m,\u001b[0m\u001b[0mreset\u001b[0m \u001b[0;34m=\u001b[0m \u001b[0;32mTrue\u001b[0m\u001b[0;34m)\u001b[0m\u001b[0;34m\u001b[0m\u001b[0;34m\u001b[0m\u001b[0m\n\u001b[1;32m     26\u001b[0m         \u001b[0;32mfor\u001b[0m \u001b[0mepoch\u001b[0m \u001b[0;32min\u001b[0m \u001b[0mrange\u001b[0m\u001b[0;34m(\u001b[0m\u001b[0;36m1\u001b[0m\u001b[0;34m,\u001b[0m\u001b[0mn_epochs\u001b[0m\u001b[0;34m+\u001b[0m\u001b[0;36m1\u001b[0m\u001b[0;34m)\u001b[0m\u001b[0;34m:\u001b[0m\u001b[0;34m\u001b[0m\u001b[0;34m\u001b[0m\u001b[0m\n\u001b[0;32m---> 27\u001b[0;31m             \u001b[0mtrain_NN\u001b[0m\u001b[0;34m(\u001b[0m\u001b[0mself\u001b[0m\u001b[0;34m.\u001b[0m\u001b[0mmodel\u001b[0m\u001b[0;34m,\u001b[0m\u001b[0mself\u001b[0m\u001b[0;34m.\u001b[0m\u001b[0moptimizer\u001b[0m\u001b[0;34m,\u001b[0m\u001b[0mdata\u001b[0m\u001b[0;34m,\u001b[0m\u001b[0mloss_criterion\u001b[0m\u001b[0;34m,\u001b[0m\u001b[0;36m1\u001b[0m\u001b[0;34m,\u001b[0m \u001b[0mself\u001b[0m\u001b[0;34m.\u001b[0m\u001b[0mprint_loss\u001b[0m\u001b[0;34m,\u001b[0m \u001b[0mset_train_mode\u001b[0m \u001b[0;34m=\u001b[0m \u001b[0;32mTrue\u001b[0m\u001b[0;34m)\u001b[0m\u001b[0;34m\u001b[0m\u001b[0;34m\u001b[0m\u001b[0m\n\u001b[0m\u001b[1;32m     28\u001b[0m             \u001b[0;32mif\u001b[0m \u001b[0mself\u001b[0m\u001b[0;34m.\u001b[0m\u001b[0mkeep_hist\u001b[0m\u001b[0;34m:\u001b[0m\u001b[0;34m\u001b[0m\u001b[0;34m\u001b[0m\u001b[0m\n\u001b[1;32m     29\u001b[0m                     \u001b[0mself\u001b[0m\u001b[0;34m.\u001b[0m\u001b[0mupdate_hist\u001b[0m\u001b[0;34m(\u001b[0m\u001b[0mdata\u001b[0m\u001b[0;34m)\u001b[0m\u001b[0;34m\u001b[0m\u001b[0;34m\u001b[0m\u001b[0m\n",
      "\u001b[0;32m~/anaconda3/lib/python3.8/site-packages/Uncertainty_Estimation-0.1-py3.8.egg/NN_utils/train_and_eval.py\u001b[0m in \u001b[0;36mtrain_NN\u001b[0;34m(model, optimizer, data, loss_criterion, n_epochs, print_loss, set_train_mode)\u001b[0m\n\u001b[1;32m      7\u001b[0m     \u001b[0;32mfor\u001b[0m \u001b[0mepoch\u001b[0m \u001b[0;32min\u001b[0m \u001b[0mrange\u001b[0m\u001b[0;34m(\u001b[0m\u001b[0mn_epochs\u001b[0m\u001b[0;34m)\u001b[0m\u001b[0;34m:\u001b[0m\u001b[0;34m\u001b[0m\u001b[0;34m\u001b[0m\u001b[0m\n\u001b[1;32m      8\u001b[0m         \u001b[0mrunning_loss\u001b[0m \u001b[0;34m=\u001b[0m \u001b[0;36m0\u001b[0m\u001b[0;34m\u001b[0m\u001b[0;34m\u001b[0m\u001b[0m\n\u001b[0;32m----> 9\u001b[0;31m         \u001b[0;32mfor\u001b[0m \u001b[0mimage\u001b[0m\u001b[0;34m,\u001b[0m\u001b[0mlabel\u001b[0m \u001b[0;32min\u001b[0m \u001b[0mdata\u001b[0m\u001b[0;34m:\u001b[0m\u001b[0;34m\u001b[0m\u001b[0;34m\u001b[0m\u001b[0m\n\u001b[0m\u001b[1;32m     10\u001b[0m             \u001b[0mimage\u001b[0m\u001b[0;34m,\u001b[0m\u001b[0mlabel\u001b[0m \u001b[0;34m=\u001b[0m \u001b[0mimage\u001b[0m\u001b[0;34m.\u001b[0m\u001b[0mto\u001b[0m\u001b[0;34m(\u001b[0m\u001b[0mdev\u001b[0m\u001b[0;34m)\u001b[0m\u001b[0;34m,\u001b[0m \u001b[0mlabel\u001b[0m\u001b[0;34m.\u001b[0m\u001b[0mto\u001b[0m\u001b[0;34m(\u001b[0m\u001b[0mdev\u001b[0m\u001b[0;34m)\u001b[0m\u001b[0;34m\u001b[0m\u001b[0;34m\u001b[0m\u001b[0m\n\u001b[1;32m     11\u001b[0m             \u001b[0moptimizer\u001b[0m\u001b[0;34m.\u001b[0m\u001b[0mzero_grad\u001b[0m\u001b[0;34m(\u001b[0m\u001b[0;34m)\u001b[0m\u001b[0;34m\u001b[0m\u001b[0;34m\u001b[0m\u001b[0m\n",
      "\u001b[0;32m~/anaconda3/lib/python3.8/site-packages/torch/utils/data/dataloader.py\u001b[0m in \u001b[0;36m__next__\u001b[0;34m(self)\u001b[0m\n\u001b[1;32m    519\u001b[0m             \u001b[0;32mif\u001b[0m \u001b[0mself\u001b[0m\u001b[0;34m.\u001b[0m\u001b[0m_sampler_iter\u001b[0m \u001b[0;32mis\u001b[0m \u001b[0;32mNone\u001b[0m\u001b[0;34m:\u001b[0m\u001b[0;34m\u001b[0m\u001b[0;34m\u001b[0m\u001b[0m\n\u001b[1;32m    520\u001b[0m                 \u001b[0mself\u001b[0m\u001b[0;34m.\u001b[0m\u001b[0m_reset\u001b[0m\u001b[0;34m(\u001b[0m\u001b[0;34m)\u001b[0m\u001b[0;34m\u001b[0m\u001b[0;34m\u001b[0m\u001b[0m\n\u001b[0;32m--> 521\u001b[0;31m             \u001b[0mdata\u001b[0m \u001b[0;34m=\u001b[0m \u001b[0mself\u001b[0m\u001b[0;34m.\u001b[0m\u001b[0m_next_data\u001b[0m\u001b[0;34m(\u001b[0m\u001b[0;34m)\u001b[0m\u001b[0;34m\u001b[0m\u001b[0;34m\u001b[0m\u001b[0m\n\u001b[0m\u001b[1;32m    522\u001b[0m             \u001b[0mself\u001b[0m\u001b[0;34m.\u001b[0m\u001b[0m_num_yielded\u001b[0m \u001b[0;34m+=\u001b[0m \u001b[0;36m1\u001b[0m\u001b[0;34m\u001b[0m\u001b[0;34m\u001b[0m\u001b[0m\n\u001b[1;32m    523\u001b[0m             \u001b[0;32mif\u001b[0m \u001b[0mself\u001b[0m\u001b[0;34m.\u001b[0m\u001b[0m_dataset_kind\u001b[0m \u001b[0;34m==\u001b[0m \u001b[0m_DatasetKind\u001b[0m\u001b[0;34m.\u001b[0m\u001b[0mIterable\u001b[0m \u001b[0;32mand\u001b[0m\u001b[0;31m \u001b[0m\u001b[0;31m\\\u001b[0m\u001b[0;34m\u001b[0m\u001b[0;34m\u001b[0m\u001b[0m\n",
      "\u001b[0;32m~/anaconda3/lib/python3.8/site-packages/torch/utils/data/dataloader.py\u001b[0m in \u001b[0;36m_next_data\u001b[0;34m(self)\u001b[0m\n\u001b[1;32m    559\u001b[0m     \u001b[0;32mdef\u001b[0m \u001b[0m_next_data\u001b[0m\u001b[0;34m(\u001b[0m\u001b[0mself\u001b[0m\u001b[0;34m)\u001b[0m\u001b[0;34m:\u001b[0m\u001b[0;34m\u001b[0m\u001b[0;34m\u001b[0m\u001b[0m\n\u001b[1;32m    560\u001b[0m         \u001b[0mindex\u001b[0m \u001b[0;34m=\u001b[0m \u001b[0mself\u001b[0m\u001b[0;34m.\u001b[0m\u001b[0m_next_index\u001b[0m\u001b[0;34m(\u001b[0m\u001b[0;34m)\u001b[0m  \u001b[0;31m# may raise StopIteration\u001b[0m\u001b[0;34m\u001b[0m\u001b[0;34m\u001b[0m\u001b[0m\n\u001b[0;32m--> 561\u001b[0;31m         \u001b[0mdata\u001b[0m \u001b[0;34m=\u001b[0m \u001b[0mself\u001b[0m\u001b[0;34m.\u001b[0m\u001b[0m_dataset_fetcher\u001b[0m\u001b[0;34m.\u001b[0m\u001b[0mfetch\u001b[0m\u001b[0;34m(\u001b[0m\u001b[0mindex\u001b[0m\u001b[0;34m)\u001b[0m  \u001b[0;31m# may raise StopIteration\u001b[0m\u001b[0;34m\u001b[0m\u001b[0;34m\u001b[0m\u001b[0m\n\u001b[0m\u001b[1;32m    562\u001b[0m         \u001b[0;32mif\u001b[0m \u001b[0mself\u001b[0m\u001b[0;34m.\u001b[0m\u001b[0m_pin_memory\u001b[0m\u001b[0;34m:\u001b[0m\u001b[0;34m\u001b[0m\u001b[0;34m\u001b[0m\u001b[0m\n\u001b[1;32m    563\u001b[0m             \u001b[0mdata\u001b[0m \u001b[0;34m=\u001b[0m \u001b[0m_utils\u001b[0m\u001b[0;34m.\u001b[0m\u001b[0mpin_memory\u001b[0m\u001b[0;34m.\u001b[0m\u001b[0mpin_memory\u001b[0m\u001b[0;34m(\u001b[0m\u001b[0mdata\u001b[0m\u001b[0;34m)\u001b[0m\u001b[0;34m\u001b[0m\u001b[0;34m\u001b[0m\u001b[0m\n",
      "\u001b[0;32m~/anaconda3/lib/python3.8/site-packages/torch/utils/data/_utils/fetch.py\u001b[0m in \u001b[0;36mfetch\u001b[0;34m(self, possibly_batched_index)\u001b[0m\n\u001b[1;32m     47\u001b[0m     \u001b[0;32mdef\u001b[0m \u001b[0mfetch\u001b[0m\u001b[0;34m(\u001b[0m\u001b[0mself\u001b[0m\u001b[0;34m,\u001b[0m \u001b[0mpossibly_batched_index\u001b[0m\u001b[0;34m)\u001b[0m\u001b[0;34m:\u001b[0m\u001b[0;34m\u001b[0m\u001b[0;34m\u001b[0m\u001b[0m\n\u001b[1;32m     48\u001b[0m         \u001b[0;32mif\u001b[0m \u001b[0mself\u001b[0m\u001b[0;34m.\u001b[0m\u001b[0mauto_collation\u001b[0m\u001b[0;34m:\u001b[0m\u001b[0;34m\u001b[0m\u001b[0;34m\u001b[0m\u001b[0m\n\u001b[0;32m---> 49\u001b[0;31m             \u001b[0mdata\u001b[0m \u001b[0;34m=\u001b[0m \u001b[0;34m[\u001b[0m\u001b[0mself\u001b[0m\u001b[0;34m.\u001b[0m\u001b[0mdataset\u001b[0m\u001b[0;34m[\u001b[0m\u001b[0midx\u001b[0m\u001b[0;34m]\u001b[0m \u001b[0;32mfor\u001b[0m \u001b[0midx\u001b[0m \u001b[0;32min\u001b[0m \u001b[0mpossibly_batched_index\u001b[0m\u001b[0;34m]\u001b[0m\u001b[0;34m\u001b[0m\u001b[0;34m\u001b[0m\u001b[0m\n\u001b[0m\u001b[1;32m     50\u001b[0m         \u001b[0;32melse\u001b[0m\u001b[0;34m:\u001b[0m\u001b[0;34m\u001b[0m\u001b[0;34m\u001b[0m\u001b[0m\n\u001b[1;32m     51\u001b[0m             \u001b[0mdata\u001b[0m \u001b[0;34m=\u001b[0m \u001b[0mself\u001b[0m\u001b[0;34m.\u001b[0m\u001b[0mdataset\u001b[0m\u001b[0;34m[\u001b[0m\u001b[0mpossibly_batched_index\u001b[0m\u001b[0;34m]\u001b[0m\u001b[0;34m\u001b[0m\u001b[0;34m\u001b[0m\u001b[0m\n",
      "\u001b[0;32m~/anaconda3/lib/python3.8/site-packages/torch/utils/data/_utils/fetch.py\u001b[0m in \u001b[0;36m<listcomp>\u001b[0;34m(.0)\u001b[0m\n\u001b[1;32m     47\u001b[0m     \u001b[0;32mdef\u001b[0m \u001b[0mfetch\u001b[0m\u001b[0;34m(\u001b[0m\u001b[0mself\u001b[0m\u001b[0;34m,\u001b[0m \u001b[0mpossibly_batched_index\u001b[0m\u001b[0;34m)\u001b[0m\u001b[0;34m:\u001b[0m\u001b[0;34m\u001b[0m\u001b[0;34m\u001b[0m\u001b[0m\n\u001b[1;32m     48\u001b[0m         \u001b[0;32mif\u001b[0m \u001b[0mself\u001b[0m\u001b[0;34m.\u001b[0m\u001b[0mauto_collation\u001b[0m\u001b[0;34m:\u001b[0m\u001b[0;34m\u001b[0m\u001b[0;34m\u001b[0m\u001b[0m\n\u001b[0;32m---> 49\u001b[0;31m             \u001b[0mdata\u001b[0m \u001b[0;34m=\u001b[0m \u001b[0;34m[\u001b[0m\u001b[0mself\u001b[0m\u001b[0;34m.\u001b[0m\u001b[0mdataset\u001b[0m\u001b[0;34m[\u001b[0m\u001b[0midx\u001b[0m\u001b[0;34m]\u001b[0m \u001b[0;32mfor\u001b[0m \u001b[0midx\u001b[0m \u001b[0;32min\u001b[0m \u001b[0mpossibly_batched_index\u001b[0m\u001b[0;34m]\u001b[0m\u001b[0;34m\u001b[0m\u001b[0;34m\u001b[0m\u001b[0m\n\u001b[0m\u001b[1;32m     50\u001b[0m         \u001b[0;32melse\u001b[0m\u001b[0;34m:\u001b[0m\u001b[0;34m\u001b[0m\u001b[0;34m\u001b[0m\u001b[0m\n\u001b[1;32m     51\u001b[0m             \u001b[0mdata\u001b[0m \u001b[0;34m=\u001b[0m \u001b[0mself\u001b[0m\u001b[0;34m.\u001b[0m\u001b[0mdataset\u001b[0m\u001b[0;34m[\u001b[0m\u001b[0mpossibly_batched_index\u001b[0m\u001b[0;34m]\u001b[0m\u001b[0;34m\u001b[0m\u001b[0;34m\u001b[0m\u001b[0m\n",
      "\u001b[0;32m~/anaconda3/lib/python3.8/site-packages/torch/utils/data/dataset.py\u001b[0m in \u001b[0;36m__getitem__\u001b[0;34m(self, idx)\u001b[0m\n\u001b[1;32m    361\u001b[0m         \u001b[0;32mif\u001b[0m \u001b[0misinstance\u001b[0m\u001b[0;34m(\u001b[0m\u001b[0midx\u001b[0m\u001b[0;34m,\u001b[0m \u001b[0mlist\u001b[0m\u001b[0;34m)\u001b[0m\u001b[0;34m:\u001b[0m\u001b[0;34m\u001b[0m\u001b[0;34m\u001b[0m\u001b[0m\n\u001b[1;32m    362\u001b[0m             \u001b[0;32mreturn\u001b[0m \u001b[0mself\u001b[0m\u001b[0;34m.\u001b[0m\u001b[0mdataset\u001b[0m\u001b[0;34m[\u001b[0m\u001b[0;34m[\u001b[0m\u001b[0mself\u001b[0m\u001b[0;34m.\u001b[0m\u001b[0mindices\u001b[0m\u001b[0;34m[\u001b[0m\u001b[0mi\u001b[0m\u001b[0;34m]\u001b[0m \u001b[0;32mfor\u001b[0m \u001b[0mi\u001b[0m \u001b[0;32min\u001b[0m \u001b[0midx\u001b[0m\u001b[0;34m]\u001b[0m\u001b[0;34m]\u001b[0m\u001b[0;34m\u001b[0m\u001b[0;34m\u001b[0m\u001b[0m\n\u001b[0;32m--> 363\u001b[0;31m         \u001b[0;32mreturn\u001b[0m \u001b[0mself\u001b[0m\u001b[0;34m.\u001b[0m\u001b[0mdataset\u001b[0m\u001b[0;34m[\u001b[0m\u001b[0mself\u001b[0m\u001b[0;34m.\u001b[0m\u001b[0mindices\u001b[0m\u001b[0;34m[\u001b[0m\u001b[0midx\u001b[0m\u001b[0;34m]\u001b[0m\u001b[0;34m]\u001b[0m\u001b[0;34m\u001b[0m\u001b[0;34m\u001b[0m\u001b[0m\n\u001b[0m\u001b[1;32m    364\u001b[0m \u001b[0;34m\u001b[0m\u001b[0m\n\u001b[1;32m    365\u001b[0m     \u001b[0;32mdef\u001b[0m \u001b[0m__len__\u001b[0m\u001b[0;34m(\u001b[0m\u001b[0mself\u001b[0m\u001b[0;34m)\u001b[0m\u001b[0;34m:\u001b[0m\u001b[0;34m\u001b[0m\u001b[0;34m\u001b[0m\u001b[0m\n",
      "\u001b[0;32m~/anaconda3/lib/python3.8/site-packages/torchvision/datasets/cifar.py\u001b[0m in \u001b[0;36m__getitem__\u001b[0;34m(self, index)\u001b[0m\n\u001b[1;32m    119\u001b[0m \u001b[0;34m\u001b[0m\u001b[0m\n\u001b[1;32m    120\u001b[0m         \u001b[0;32mif\u001b[0m \u001b[0mself\u001b[0m\u001b[0;34m.\u001b[0m\u001b[0mtransform\u001b[0m \u001b[0;32mis\u001b[0m \u001b[0;32mnot\u001b[0m \u001b[0;32mNone\u001b[0m\u001b[0;34m:\u001b[0m\u001b[0;34m\u001b[0m\u001b[0;34m\u001b[0m\u001b[0m\n\u001b[0;32m--> 121\u001b[0;31m             \u001b[0mimg\u001b[0m \u001b[0;34m=\u001b[0m \u001b[0mself\u001b[0m\u001b[0;34m.\u001b[0m\u001b[0mtransform\u001b[0m\u001b[0;34m(\u001b[0m\u001b[0mimg\u001b[0m\u001b[0;34m)\u001b[0m\u001b[0;34m\u001b[0m\u001b[0;34m\u001b[0m\u001b[0m\n\u001b[0m\u001b[1;32m    122\u001b[0m \u001b[0;34m\u001b[0m\u001b[0m\n\u001b[1;32m    123\u001b[0m         \u001b[0;32mif\u001b[0m \u001b[0mself\u001b[0m\u001b[0;34m.\u001b[0m\u001b[0mtarget_transform\u001b[0m \u001b[0;32mis\u001b[0m \u001b[0;32mnot\u001b[0m \u001b[0;32mNone\u001b[0m\u001b[0;34m:\u001b[0m\u001b[0;34m\u001b[0m\u001b[0;34m\u001b[0m\u001b[0m\n",
      "\u001b[0;32m~/anaconda3/lib/python3.8/site-packages/torchvision/transforms/transforms.py\u001b[0m in \u001b[0;36m__call__\u001b[0;34m(self, img)\u001b[0m\n\u001b[1;32m     59\u001b[0m     \u001b[0;32mdef\u001b[0m \u001b[0m__call__\u001b[0m\u001b[0;34m(\u001b[0m\u001b[0mself\u001b[0m\u001b[0;34m,\u001b[0m \u001b[0mimg\u001b[0m\u001b[0;34m)\u001b[0m\u001b[0;34m:\u001b[0m\u001b[0;34m\u001b[0m\u001b[0;34m\u001b[0m\u001b[0m\n\u001b[1;32m     60\u001b[0m         \u001b[0;32mfor\u001b[0m \u001b[0mt\u001b[0m \u001b[0;32min\u001b[0m \u001b[0mself\u001b[0m\u001b[0;34m.\u001b[0m\u001b[0mtransforms\u001b[0m\u001b[0;34m:\u001b[0m\u001b[0;34m\u001b[0m\u001b[0;34m\u001b[0m\u001b[0m\n\u001b[0;32m---> 61\u001b[0;31m             \u001b[0mimg\u001b[0m \u001b[0;34m=\u001b[0m \u001b[0mt\u001b[0m\u001b[0;34m(\u001b[0m\u001b[0mimg\u001b[0m\u001b[0;34m)\u001b[0m\u001b[0;34m\u001b[0m\u001b[0;34m\u001b[0m\u001b[0m\n\u001b[0m\u001b[1;32m     62\u001b[0m         \u001b[0;32mreturn\u001b[0m \u001b[0mimg\u001b[0m\u001b[0;34m\u001b[0m\u001b[0;34m\u001b[0m\u001b[0m\n\u001b[1;32m     63\u001b[0m \u001b[0;34m\u001b[0m\u001b[0m\n",
      "\u001b[0;32m~/anaconda3/lib/python3.8/site-packages/torch/nn/modules/module.py\u001b[0m in \u001b[0;36m_call_impl\u001b[0;34m(self, *input, **kwargs)\u001b[0m\n\u001b[1;32m   1100\u001b[0m         if not (self._backward_hooks or self._forward_hooks or self._forward_pre_hooks or _global_backward_hooks\n\u001b[1;32m   1101\u001b[0m                 or _global_forward_hooks or _global_forward_pre_hooks):\n\u001b[0;32m-> 1102\u001b[0;31m             \u001b[0;32mreturn\u001b[0m \u001b[0mforward_call\u001b[0m\u001b[0;34m(\u001b[0m\u001b[0;34m*\u001b[0m\u001b[0minput\u001b[0m\u001b[0;34m,\u001b[0m \u001b[0;34m**\u001b[0m\u001b[0mkwargs\u001b[0m\u001b[0;34m)\u001b[0m\u001b[0;34m\u001b[0m\u001b[0;34m\u001b[0m\u001b[0m\n\u001b[0m\u001b[1;32m   1103\u001b[0m         \u001b[0;31m# Do not call functions when jit is used\u001b[0m\u001b[0;34m\u001b[0m\u001b[0;34m\u001b[0m\u001b[0;34m\u001b[0m\u001b[0m\n\u001b[1;32m   1104\u001b[0m         \u001b[0mfull_backward_hooks\u001b[0m\u001b[0;34m,\u001b[0m \u001b[0mnon_full_backward_hooks\u001b[0m \u001b[0;34m=\u001b[0m \u001b[0;34m[\u001b[0m\u001b[0;34m]\u001b[0m\u001b[0;34m,\u001b[0m \u001b[0;34m[\u001b[0m\u001b[0;34m]\u001b[0m\u001b[0;34m\u001b[0m\u001b[0;34m\u001b[0m\u001b[0m\n",
      "\u001b[0;32m~/anaconda3/lib/python3.8/site-packages/torchvision/transforms/transforms.py\u001b[0m in \u001b[0;36mforward\u001b[0;34m(self, tensor)\u001b[0m\n\u001b[1;32m    224\u001b[0m             \u001b[0mTensor\u001b[0m\u001b[0;34m:\u001b[0m \u001b[0mNormalized\u001b[0m \u001b[0mTensor\u001b[0m \u001b[0mimage\u001b[0m\u001b[0;34m.\u001b[0m\u001b[0;34m\u001b[0m\u001b[0;34m\u001b[0m\u001b[0m\n\u001b[1;32m    225\u001b[0m         \"\"\"\n\u001b[0;32m--> 226\u001b[0;31m         \u001b[0;32mreturn\u001b[0m \u001b[0mF\u001b[0m\u001b[0;34m.\u001b[0m\u001b[0mnormalize\u001b[0m\u001b[0;34m(\u001b[0m\u001b[0mtensor\u001b[0m\u001b[0;34m,\u001b[0m \u001b[0mself\u001b[0m\u001b[0;34m.\u001b[0m\u001b[0mmean\u001b[0m\u001b[0;34m,\u001b[0m \u001b[0mself\u001b[0m\u001b[0;34m.\u001b[0m\u001b[0mstd\u001b[0m\u001b[0;34m,\u001b[0m \u001b[0mself\u001b[0m\u001b[0;34m.\u001b[0m\u001b[0minplace\u001b[0m\u001b[0;34m)\u001b[0m\u001b[0;34m\u001b[0m\u001b[0;34m\u001b[0m\u001b[0m\n\u001b[0m\u001b[1;32m    227\u001b[0m \u001b[0;34m\u001b[0m\u001b[0m\n\u001b[1;32m    228\u001b[0m     \u001b[0;32mdef\u001b[0m \u001b[0m__repr__\u001b[0m\u001b[0;34m(\u001b[0m\u001b[0mself\u001b[0m\u001b[0;34m)\u001b[0m\u001b[0;34m:\u001b[0m\u001b[0;34m\u001b[0m\u001b[0;34m\u001b[0m\u001b[0m\n",
      "\u001b[0;32m~/anaconda3/lib/python3.8/site-packages/torchvision/transforms/functional.py\u001b[0m in \u001b[0;36mnormalize\u001b[0;34m(tensor, mean, std, inplace)\u001b[0m\n\u001b[1;32m    342\u001b[0m     \u001b[0mdtype\u001b[0m \u001b[0;34m=\u001b[0m \u001b[0mtensor\u001b[0m\u001b[0;34m.\u001b[0m\u001b[0mdtype\u001b[0m\u001b[0;34m\u001b[0m\u001b[0;34m\u001b[0m\u001b[0m\n\u001b[1;32m    343\u001b[0m     \u001b[0mmean\u001b[0m \u001b[0;34m=\u001b[0m \u001b[0mtorch\u001b[0m\u001b[0;34m.\u001b[0m\u001b[0mas_tensor\u001b[0m\u001b[0;34m(\u001b[0m\u001b[0mmean\u001b[0m\u001b[0;34m,\u001b[0m \u001b[0mdtype\u001b[0m\u001b[0;34m=\u001b[0m\u001b[0mdtype\u001b[0m\u001b[0;34m,\u001b[0m \u001b[0mdevice\u001b[0m\u001b[0;34m=\u001b[0m\u001b[0mtensor\u001b[0m\u001b[0;34m.\u001b[0m\u001b[0mdevice\u001b[0m\u001b[0;34m)\u001b[0m\u001b[0;34m\u001b[0m\u001b[0;34m\u001b[0m\u001b[0m\n\u001b[0;32m--> 344\u001b[0;31m     \u001b[0mstd\u001b[0m \u001b[0;34m=\u001b[0m \u001b[0mtorch\u001b[0m\u001b[0;34m.\u001b[0m\u001b[0mas_tensor\u001b[0m\u001b[0;34m(\u001b[0m\u001b[0mstd\u001b[0m\u001b[0;34m,\u001b[0m \u001b[0mdtype\u001b[0m\u001b[0;34m=\u001b[0m\u001b[0mdtype\u001b[0m\u001b[0;34m,\u001b[0m \u001b[0mdevice\u001b[0m\u001b[0;34m=\u001b[0m\u001b[0mtensor\u001b[0m\u001b[0;34m.\u001b[0m\u001b[0mdevice\u001b[0m\u001b[0;34m)\u001b[0m\u001b[0;34m\u001b[0m\u001b[0;34m\u001b[0m\u001b[0m\n\u001b[0m\u001b[1;32m    345\u001b[0m     \u001b[0;32mif\u001b[0m \u001b[0;34m(\u001b[0m\u001b[0mstd\u001b[0m \u001b[0;34m==\u001b[0m \u001b[0;36m0\u001b[0m\u001b[0;34m)\u001b[0m\u001b[0;34m.\u001b[0m\u001b[0many\u001b[0m\u001b[0;34m(\u001b[0m\u001b[0;34m)\u001b[0m\u001b[0;34m:\u001b[0m\u001b[0;34m\u001b[0m\u001b[0;34m\u001b[0m\u001b[0m\n\u001b[1;32m    346\u001b[0m         \u001b[0;32mraise\u001b[0m \u001b[0mValueError\u001b[0m\u001b[0;34m(\u001b[0m\u001b[0;34m'std evaluated to zero after conversion to {}, leading to division by zero.'\u001b[0m\u001b[0;34m.\u001b[0m\u001b[0mformat\u001b[0m\u001b[0;34m(\u001b[0m\u001b[0mdtype\u001b[0m\u001b[0;34m)\u001b[0m\u001b[0;34m)\u001b[0m\u001b[0;34m\u001b[0m\u001b[0;34m\u001b[0m\u001b[0m\n",
      "\u001b[0;31mKeyboardInterrupt\u001b[0m: "
     ]
    }
   ],
   "source": [
    "model_2 = Model_CNN_with_g()\n",
    "model_2 = model.to(dev)\n",
    "optimizer = torch.optim.SGD(model_2.parameters(), lr=1e-3)\n",
    "\n",
    "model_trainer_2 = Trainer(model_2,optimizer,loss_fn, print_loss = True,keep_hist = True)\n",
    "model_trainer_2.fit_x(train_dataloader,30)\n",
    "model_trainer_2.fit_g(train_dataloader,15)\n",
    "\n",
    "acc, g, bce = model_metrics(model_2,train_dataloader)\n",
    "print('Conjunto de treinamento: acc = ', acc, 'média de g = ', g, 'média de bce = ', bce, '\\n')\n",
    "acc, g, bce = model_metrics(model_2,test_dataloader)\n",
    "print('Conjunto de teste: acc = ', acc, 'média de g = ', g, 'média de bce = ', bce, '\\n')"
   ]
  },
  {
   "cell_type": "code",
=======
>>>>>>> 38c7beaaad146b7a125010a1f849c8364dedd4bd
=======
>>>>>>> 38c7beaaad146b7a125010a1f849c8364dedd4bd
=======
>>>>>>> 38c7beaaad146b7a125010a1f849c8364dedd4bd
   "execution_count": null,
   "metadata": {},
   "outputs": [],
   "source": [
<<<<<<< HEAD
<<<<<<< HEAD
<<<<<<< HEAD
    "model_3 = Model_CNN_with_g()\n",
    "model_3 = model.to(dev)\n",
    "optimizer = torch.optim.SGD(model_3.parameters(), lr=1e-3)\n",
    "\n",
    "model_trainer_3 = Trainer(model_3,optimizer,loss_fn, print_loss = True,keep_hist = True)\n",
    "model_trainer_3.fit_x(train_dataloader,15)\n",
    "model_trainer_3.fit_g(validation_dataloader,15)\n",
    "\n",
    "acc, g, bce = model_metrics(model_3,train_dataloader)\n",
    "print('Conjunto de treinamento: acc = ', acc, 'média de g = ', g, 'média de bce = ', bce, '\\n')\n",
    "acc, g, bce = model_metrics(model_3,test_dataloader)\n",
    "print('Conjunto de teste: acc = ', acc, 'média de g = ', g, 'média de bce = ', bce, '\\n')"
=======
=======
>>>>>>> 38c7beaaad146b7a125010a1f849c8364dedd4bd
=======
>>>>>>> 38c7beaaad146b7a125010a1f849c8364dedd4bd
    "def model_eval_layers(layer):\n",
    "    layer.eval()\n",
    "def model_train_layers(layer):\n",
    "    layer.train()\n",
    "    "
<<<<<<< HEAD
<<<<<<< HEAD
>>>>>>> 38c7beaaad146b7a125010a1f849c8364dedd4bd
=======
>>>>>>> 38c7beaaad146b7a125010a1f849c8364dedd4bd
=======
>>>>>>> 38c7beaaad146b7a125010a1f849c8364dedd4bd
   ]
  },
  {
   "cell_type": "code",
<<<<<<< HEAD
<<<<<<< HEAD
<<<<<<< HEAD
   "execution_count": 19,
   "metadata": {},
   "outputs": [
    {
     "data": {
      "text/plain": [
       "'        for n,p in model.named_parameters():\\n            if(p.requires_grad) and (\"bias\" not in n):\\n\\n                d_mean[n].append(p.grad.abs().mean().item())\\n                d_max[n].append(p.grad.abs().max().item())'"
      ]
     },
     "execution_count": 19,
     "metadata": {},
     "output_type": "execute_result"
    }
   ],
   "source": [
    "model = Model_CNN_with_g()\n",
=======
=======
>>>>>>> 38c7beaaad146b7a125010a1f849c8364dedd4bd
=======
>>>>>>> 38c7beaaad146b7a125010a1f849c8364dedd4bd
   "execution_count": null,
   "metadata": {},
   "outputs": [],
   "source": [
    "model = Model_NN()\n",
<<<<<<< HEAD
<<<<<<< HEAD
>>>>>>> 38c7beaaad146b7a125010a1f849c8364dedd4bd
=======
>>>>>>> 38c7beaaad146b7a125010a1f849c8364dedd4bd
=======
>>>>>>> 38c7beaaad146b7a125010a1f849c8364dedd4bd
    "model = model.to(dev)\n",
    "optimizer = torch.optim.SGD(model.parameters(), lr=1e-3)\n",
    "\n",
    "L0_init = 0\n",
    "#loss_criterion = rejection_loss(CrossEntropy,L0_init)\n",
    "\n",
    "d_mean = defaultdict(list)\n",
    "d_max = defaultdict(list)\n",
    "bce_mean = []\n",
    "L0_list = []\n",
    "g_mean = []\n",
    "mcp_list = []\n",
    "acc_list = []\n",
    "\n",
    "model.train()\n",
    "\n",
    "loss_criterion = nn.NLLLoss(reduction = 'mean')\n",
<<<<<<< HEAD
<<<<<<< HEAD
<<<<<<< HEAD
    "loss_fn = penalized_uncertainty(loss_criterion,bce)\n",
=======
>>>>>>> 38c7beaaad146b7a125010a1f849c8364dedd4bd
=======
>>>>>>> 38c7beaaad146b7a125010a1f849c8364dedd4bd
=======
>>>>>>> 38c7beaaad146b7a125010a1f849c8364dedd4bd
    "freeze_params(model,'fc_g')\n",
    "n_epochs = 50\n",
    "for epoch in range(n_epochs):\n",
    "    total = 0\n",
    "    correct = 0\n",
    "    for image,label in train_dataloader:\n",
    "        image,label = image.to(dev), label.to(dev)\n",
    "        optimizer.zero_grad()\n",
    "        output = model(image)\n",
    "        #g = model.get_g()\n",
    "        \n",
<<<<<<< HEAD
<<<<<<< HEAD
<<<<<<< HEAD
    "        loss = loss_fn(output,g,label)\n",
=======
    "        loss = loss_criterion(output,label)\n",
>>>>>>> 38c7beaaad146b7a125010a1f849c8364dedd4bd
=======
    "        loss = loss_criterion(output,label)\n",
>>>>>>> 38c7beaaad146b7a125010a1f849c8364dedd4bd
=======
    "        loss = loss_criterion(output,label)\n",
>>>>>>> 38c7beaaad146b7a125010a1f849c8364dedd4bd
    "        loss.backward()\n",
    "        optimizer.step()\n",
    "        \n",
    "        #L0_list.append(0)\n",
    "        mcp_list.append((torch.mean(torch.max(torch.exp(output),dim=1)[0]).item()))\n",
    "        bce_mean.append(loss_criterion(output,label).item())\n",
    "        \n",
<<<<<<< HEAD
<<<<<<< HEAD
<<<<<<< HEAD
    "        g_mean.append(torch.mean(g).item())\n",
=======
    "        #g_mean.append(torch.mean(g).item())\n",
>>>>>>> 38c7beaaad146b7a125010a1f849c8364dedd4bd
=======
    "        #g_mean.append(torch.mean(g).item())\n",
>>>>>>> 38c7beaaad146b7a125010a1f849c8364dedd4bd
=======
    "        #g_mean.append(torch.mean(g).item())\n",
>>>>>>> 38c7beaaad146b7a125010a1f849c8364dedd4bd
    "        #g_mm.append(np.mean(g_mean))\n",
    "\n",
    "        total += label.size(0)\n",
    "        correct += correct_total(output,label)\n",
    "        acc_list.append(correct/total)\n",
    "acc, g_i, bce = model_acc_g(model,validation_dataloader) #training_data   \n",
    "loss_criterion = nn.NLLLoss(reduction = 'none')\n",
    "freeze_params(model)\n",
    "unfreeze_params(model,'fc_g')\n",
    "model_eval_layers(model.conv_layer)\n",
    "model_eval_layers(model.fc_x_layer)\n",
<<<<<<< HEAD
<<<<<<< HEAD
<<<<<<< HEAD
    "loss_fn = penalized_uncertainty(loss_criterion,bce)#np.mean(bce_mean[-4166:]),no_grad= False)\n",
=======
    "loss_fn = rejection_loss(loss_criterion,bce,no_grad= True)#np.mean(bce_mean[-4166:]),no_grad= False)\n",
>>>>>>> 38c7beaaad146b7a125010a1f849c8364dedd4bd
=======
    "loss_fn = rejection_loss(loss_criterion,bce,no_grad= True)#np.mean(bce_mean[-4166:]),no_grad= False)\n",
>>>>>>> 38c7beaaad146b7a125010a1f849c8364dedd4bd
=======
    "loss_fn = rejection_loss(loss_criterion,bce,no_grad= True)#np.mean(bce_mean[-4166:]),no_grad= False)\n",
>>>>>>> 38c7beaaad146b7a125010a1f849c8364dedd4bd
    "acc_m = []\n",
    "g_m = []\n",
    "bce_m = []\n",
    "for epoch in range(5*n_epochs):\n",
    "    correct = 0\n",
    "    total = 0\n",
    "    for image,label in validation_dataloader:\n",
    "        image,label = image.to(dev), label.to(dev)\n",
    "        optimizer.zero_grad()\n",
    "        output = model(image)\n",
    "        \n",
    "        #bce_mean.append(torch.mean(loss_criterion(output,label)).item())\n",
    "        #loss_fn.update_L0(np.mean(bce_mean[-4166:]))\n",
    "        \n",
    "        g = model.get_g()\n",
    "        loss = loss_fn(output,g,label)\n",
    "        loss.backward()\n",
    "        optimizer.step()\n",
    "        \n",
    "        L0_list.append(loss_fn.L0)\n",
    "        bce_mean.append(torch.mean(loss_criterion(output,label)).item())\n",
    "        g_mean.append(torch.mean(g).item())\n",
    "        mcp_list.append((torch.mean(torch.max(torch.exp(output),dim=1)[0]).item()))\n",
    "        \n",
    "        #if (i%5000) == 0:\n",
    "        #loss_fn.update_L0(np.mean(bce_mean[-4166:]))\n",
    "\n",
    "        #loss_criterion.update_L0(torch.mean(CrossEntropy(output,label)).item())\n",
    "\n",
    "        total += label.size(0)\n",
    "        correct += correct_total(output,label)\n",
    "        acc_list.append(correct/total)\n",
    "    acc, g_i, bce = model_acc_g(model,validation_dataloader)\n",
    "    acc_m.append(acc)\n",
    "    g_m.append(g_i)\n",
    "    bce_m.append(bce)\n",
    "        \n",
    "        \n",
    "'''        for n,p in model.named_parameters():\n",
    "            if(p.requires_grad) and (\"bias\" not in n):\n",
    "\n",
    "                d_mean[n].append(p.grad.abs().mean().item())\n",
    "                d_max[n].append(p.grad.abs().max().item())'''\n",
    "                \n",
    "                \n"
   ]
  },
  {
   "cell_type": "code",
<<<<<<< HEAD
<<<<<<< HEAD
<<<<<<< HEAD
   "execution_count": 20,
   "metadata": {},
   "outputs": [
    {
     "data": {
      "image/png": "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\n",
      "text/plain": [
       "<Figure size 432x288 with 1 Axes>"
      ]
     },
     "metadata": {
      "needs_background": "light"
     },
     "output_type": "display_data"
    },
    {
     "data": {
      "image/png": "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\n",
      "text/plain": [
       "<Figure size 432x288 with 1 Axes>"
      ]
     },
     "metadata": {
      "needs_background": "light"
     },
     "output_type": "display_data"
    }
   ],
=======
   "execution_count": null,
   "metadata": {},
   "outputs": [],
>>>>>>> 38c7beaaad146b7a125010a1f849c8364dedd4bd
=======
   "execution_count": null,
   "metadata": {},
   "outputs": [],
>>>>>>> 38c7beaaad146b7a125010a1f849c8364dedd4bd
=======
   "execution_count": null,
   "metadata": {},
   "outputs": [],
>>>>>>> 38c7beaaad146b7a125010a1f849c8364dedd4bd
   "source": [
    "plt.plot(np.arange(len(g_m)),g_m,label = 'Média de g',lw=3)\n",
    "plt.plot(np.arange(len(acc_m)),acc_m,label = 'Acurácia',lw=2)\n",
    "plt.legend()\n",
    "plt.show()\n",
    "plt.plot(np.arange(len(bce_m)),bce_m,label = 'BCE',lw=1)\n",
    "plt.plot(L0_list[0:250], label = 'L0',lw = 4)\n",
    "plt.legend()\n",
    "plt.show()"
   ]
  },
  {
   "cell_type": "code",
<<<<<<< HEAD
<<<<<<< HEAD
<<<<<<< HEAD
   "execution_count": 42,
=======
=======
>>>>>>> 38c7beaaad146b7a125010a1f849c8364dedd4bd
=======
>>>>>>> 38c7beaaad146b7a125010a1f849c8364dedd4bd
   "execution_count": null,
   "metadata": {},
   "outputs": [],
   "source": [
    "def round_decimal(y,n_digits = 1):\n",
    "    '''Round a tensor with n_digits digits'''\n",
    "    rounded = np.around(y,1)\n",
    "    return rounded"
   ]
  },
  {
   "cell_type": "code",
   "execution_count": null,
<<<<<<< HEAD
<<<<<<< HEAD
>>>>>>> 38c7beaaad146b7a125010a1f849c8364dedd4bd
=======
>>>>>>> 38c7beaaad146b7a125010a1f849c8364dedd4bd
=======
>>>>>>> 38c7beaaad146b7a125010a1f849c8364dedd4bd
   "metadata": {},
   "outputs": [],
   "source": [
    "listg = []\n",
    "listbce = []\n",
    "g_dict = defaultdict(list)\n",
<<<<<<< HEAD
<<<<<<< HEAD
<<<<<<< HEAD
    "for i in np.around(np.arange(0,1.1,0.1),1):\n",
=======
    "for i in round_decimal(np.arange(0,1.1,0.1)):\n",
>>>>>>> 38c7beaaad146b7a125010a1f849c8364dedd4bd
=======
    "for i in round_decimal(np.arange(0,1.1,0.1)):\n",
>>>>>>> 38c7beaaad146b7a125010a1f849c8364dedd4bd
=======
    "for i in round_decimal(np.arange(0,1.1,0.1)):\n",
>>>>>>> 38c7beaaad146b7a125010a1f849c8364dedd4bd
    "    g_dict[i] = [0,0]\n",
    "for image,label in validation_dataloader:\n",
    "    image,label = image.to(dev), label.to(dev)\n",
    "    output = model(image)\n",
    "    bce = loss_criterion(output,label).cpu().detach().numpy()\n",
<<<<<<< HEAD
<<<<<<< HEAD
<<<<<<< HEAD
    "    g = model.get_g().view(-1)\n",
    "    g = round_decimal(g).tolist()\n",
=======
    "    g = model.get_g().view(-1).tolist()\n",
    "    g = round_decimal(g)\n",
>>>>>>> 38c7beaaad146b7a125010a1f849c8364dedd4bd
=======
    "    g = model.get_g().view(-1).tolist()\n",
    "    g = round_decimal(g)\n",
>>>>>>> 38c7beaaad146b7a125010a1f849c8364dedd4bd
=======
    "    g = model.get_g().view(-1).tolist()\n",
    "    g = round_decimal(g)\n",
>>>>>>> 38c7beaaad146b7a125010a1f849c8364dedd4bd
    "    for i in g_dict:\n",
    "        g_dict[i][0] += np.sum(bce[g==i])\n",
    "        g_dict[i][1] += np.sum(g==i)\n",
    "    listbce.extend(bce)\n",
    "    listg.extend(g)"
   ]
  },
  {
   "cell_type": "code",
   "execution_count": null,
   "metadata": {},
   "outputs": [],
   "source": [
    "for i in g_dict:\n",
    "    acc=g_dict[i][0]/g_dict[i][1]\n",
    "    plt.bar(i,acc,width=0.1)\n",
    "plt.show()"
   ]
  },
  {
   "cell_type": "code",
   "execution_count": null,
   "metadata": {},
   "outputs": [],
   "source": [
    "for image,label in test_dataloader:\n",
    "    image,label = image.to(dev), label.to(dev)\n",
    "    output = model(image)\n",
    "    bce = loss_criterion(output,label).tolist()\n",
    "    g = model.get_g().tolist()\n",
    "    \n",
    "    break"
   ]
  },
  {
   "cell_type": "code",
   "execution_count": null,
   "metadata": {},
   "outputs": [],
   "source": [
    "#Colocar MCP e TCP também\n",
    "plt.plot(np.arange(len(bce_mean)),bce_mean,label = 'Média de BCE',lw=0.5)\n",
    "plt.plot(np.arange(len(g_mean)),g_mean,label = 'Média de g',lw=3)\n",
    "#plt.plot(it_list,acc_list,label = 'Acurácia',lw=4)\n",
    "plt.plot(np.arange(len(L0_list)),L0_list,label = 'L0',lw=2)\n",
    "#plt.plot(it_list,(np.array(bce_mean)-np.array(L0_list)),label = 'BCE - L0',lw=2)\n",
    "plt.legend()\n",
    "plt.grid()\n",
    "plt.title('Médias do Output')\n",
    "plt.show()\n",
    "\n",
    "\n",
    "'''for n in d_mean:\n",
    "    plt.bar(np.array(it_list),d_max[n],color=\"b\", label = 'Max (grad)')\n",
    "    plt.plot(np.array(it_list),d_mean[n],color=\"g\", label = 'Média do grad')\n",
    "    plt.legend()\n",
    "    plt.grid()\n",
    "    plt.title('Camada: %s'%n)\n",
    "    plt.show()'''\n",
    "\n",
    "print('Acurácia de treino = ',model_acc(model,train_dataloader), 'Acurácia de teste = ',model_acc(model,test_dataloader))\n",
    "\n",
    "\n",
    "plt.plot(np.arange(len(g_mean)),g_mean,label = 'Média de g',lw=3)\n",
    "plt.plot(np.arange(len(acc_list)),acc_list,label = 'Acurácia',lw=4)\n",
    "plt.plot(np.arange(len(L0_list)),L0_list,label = 'L0',lw=2)\n",
    "#plt.plot(it_list,(np.array(bce_mean)-np.array(L0_list)),label = 'BCE - L0',lw=2)\n",
    "plt.legend()\n",
    "plt.grid()\n",
    "plt.title('Médias do Output')\n",
    "plt.show()\n"
   ]
  },
  {
   "cell_type": "code",
   "execution_count": null,
   "metadata": {},
   "outputs": [],
   "source": [
    "plt.plot(np.arange(len(g_mean)),g_mean,label = 'Média de g',lw=3)\n",
    "plt.plot(np.arange(len(L0_list)),L0_list,label = 'L0',lw=2)\n",
    "#plt.plot(it_list,(np.array(bce_mean)-np.array(L0_list)),label = 'BCE - L0',lw=2)\n",
    "plt.legend()\n",
    "plt.grid()\n",
    "plt.title('Médias do Output')\n",
    "plt.show()\n"
   ]
  },
  {
   "cell_type": "code",
   "execution_count": null,
   "metadata": {},
   "outputs": [],
   "source": [
    "PATH = r'/home/luis-felipe/data/output'\n",
    "file = PATH + '/model_bad_big.csv'\n",
    "a = np.asarray([bce_mean,mcp_list,acc_list])\n",
    "np.savetxt(file, a, delimiter=\",\")\n",
    "\n",
    "file = PATH + '/model_bad_small.csv'\n",
    "a = np.asarray([ g_mean, L0_list])\n",
    "np.savetxt(file, a, delimiter=\",\")\n",
    "\n",
    "# Specify a path\n",
    "PATH = r'/home/luis-felipe/torch_models/test_learned_unc_bad.pt'\n",
    "\n",
    "# Save\n",
    "torch.save(model.state_dict(), PATH)"
   ]
  },
  {
   "cell_type": "code",
   "execution_count": null,
   "metadata": {},
   "outputs": [],
   "source": [
    "dif_m = []\n",
    "n = 500\n",
    "for j in range(0,len(L0_list),n):\n",
    "    diff = np.mean(((bce_mean)[len(bce_mean)-i:])[j:j+n-1])-np.mean(L0_list[j:j+n-1])\n",
    "    dif_m.append(diff)\n",
    "    \n",
    "plt.plot(range(len(dif_m)),dif_m) "
   ]
  },
  {
   "cell_type": "code",
   "execution_count": null,
   "metadata": {},
   "outputs": [],
   "source": [
    "model.eval()\n",
    "g_m_test = []\n",
    "g_min = []\n",
    "g_max = []\n",
    "for image,label in test_dataloader:\n",
    "    image,label = image.to(dev), label.to(dev)\n",
    "    y = (model(image))\n",
    "    g = model.get_g()\n",
    "    g_m_test.append(torch.mean(g).item())\n",
    "    g_min.append(torch.min(g).item())\n",
    "    g_max.append(torch.max(g).item())\n",
    "plt.plot(g_m_test)\n",
    "plt.plot(g_min,'ro')\n",
    "plt.plot(g_max,'gx')\n",
    "    "
   ]
  },
  {
   "cell_type": "code",
   "execution_count": null,
   "metadata": {},
   "outputs": [],
   "source": [
    "model.eval()\n",
    "mcp_m_test = []\n",
    "mcp_min = []\n",
    "mcp_max = []\n",
    "for image,label in test_dataloader:\n",
    "    image,label = image.to(dev), label.to(dev)\n",
    "    y = torch.exp(model(image))\n",
    "    MCP = torch.max(y,dim=1)[0]\n",
    "    mcp_m_test.append(torch.mean(MCP).item())\n",
    "    mcp_min.append(torch.min(MCP).item())\n",
    "    mcp_max.append(torch.max(MCP).item())\n",
    "plt.plot(mcp_m_test)\n",
    "plt.plot(mcp_min,'ro')\n",
    "plt.plot(mcp_max,'gx')\n",
    "plt.ylim(0.8,1)"
   ]
  },
  {
   "cell_type": "code",
<<<<<<< HEAD
<<<<<<< HEAD
<<<<<<< HEAD
   "execution_count": null,
   "metadata": {},
   "outputs": [],
=======
=======
>>>>>>> 38c7beaaad146b7a125010a1f849c8364dedd4bd
=======
>>>>>>> 38c7beaaad146b7a125010a1f849c8364dedd4bd
   "execution_count": 18,
   "metadata": {},
   "outputs": [
    {
     "name": "stdout",
     "output_type": "stream",
     "text": [
      "oi\n"
     ]
    }
   ],
<<<<<<< HEAD
<<<<<<< HEAD
>>>>>>> 38c7beaaad146b7a125010a1f849c8364dedd4bd
=======
>>>>>>> 38c7beaaad146b7a125010a1f849c8364dedd4bd
=======
>>>>>>> 38c7beaaad146b7a125010a1f849c8364dedd4bd
   "source": [
    "print('oi')"
   ]
  },
  {
   "cell_type": "code",
   "execution_count": null,
   "metadata": {},
   "outputs": [],
   "source": []
<<<<<<< HEAD
<<<<<<< HEAD
<<<<<<< HEAD
  },
  {
   "cell_type": "code",
   "execution_count": null,
   "metadata": {},
   "outputs": [],
   "source": []
=======
>>>>>>> 38c7beaaad146b7a125010a1f849c8364dedd4bd
=======
>>>>>>> 38c7beaaad146b7a125010a1f849c8364dedd4bd
=======
>>>>>>> 38c7beaaad146b7a125010a1f849c8364dedd4bd
  }
 ],
 "metadata": {
  "kernelspec": {
   "display_name": "Python 3",
   "language": "python",
   "name": "python3"
  },
  "language_info": {
   "codemirror_mode": {
    "name": "ipython",
    "version": 3
   },
   "file_extension": ".py",
   "mimetype": "text/x-python",
   "name": "python",
   "nbconvert_exporter": "python",
   "pygments_lexer": "ipython3",
   "version": "3.8.5"
  }
 },
 "nbformat": 4,
 "nbformat_minor": 4
}
